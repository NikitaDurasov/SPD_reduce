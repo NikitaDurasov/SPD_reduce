{
 "cells": [
  {
   "cell_type": "code",
   "execution_count": 670,
   "metadata": {
    "collapsed": false,
    "deletable": true,
    "editable": true
   },
   "outputs": [
    {
     "name": "stdout",
     "output_type": "stream",
     "text": [
      "The autoreload extension is already loaded. To reload it, use:\n",
      "  %reload_ext autoreload\n"
     ]
    }
   ],
   "source": [
    "import torch \n",
    "from torch import nn\n",
    "from torch import FloatTensor\n",
    "from torch.autograd import Variable\n",
    "from torch import optim\n",
    "\n",
    "from numpy.linalg import matrix_rank\n",
    "from sklearn.datasets import make_spd_matrix\n",
    "import os\n",
    "from networkx import nx\n",
    "import matplotlib.pyplot as plt\n",
    "import numpy as np\n",
    "\n",
    "from sklearn.decomposition import PCA\n",
    "from sklearn.manifold import TSNE\n",
    "from sklearn.model_selection import cross_val_score, KFold\n",
    "from sklearn.metrics import classification_report\n",
    "\n",
    "from random import shuffle\n",
    "\n",
    "import seaborn as sns\n",
    "\n",
    "%matplotlib inline\n",
    "%load_ext autoreload\n",
    "%autoreload 2"
   ]
  },
  {
   "cell_type": "code",
   "execution_count": 191,
   "metadata": {
    "collapsed": false,
    "deletable": true,
    "editable": true
   },
   "outputs": [],
   "source": [
    "import SPD\n",
    "import dataset_tools as dt"
   ]
  },
  {
   "cell_type": "markdown",
   "metadata": {
    "deletable": true,
    "editable": true
   },
   "source": [
    "# Что хотим тут делать: \n",
    "\n",
    "Краткое описание задачи. Имеем [статью](https://aaai.org/ocs/index.php/AAAI/AAAI17/paper/download/14825/14321), в которой описан метод, который позволяет работать с положительными симметричными матрицами, а именно отображать их в матрица меньшего размера (что  круто). Сама статья не очень сложная, поэтому попробуем с помошью идей из нее решить некоторую другую задачу.\n",
    "\n",
    "Например, известно, что кроме матрицы смежностей для графов определяют еще [матрицу Лапласа](https://en.wikipedia.org/wiki/Laplacian_matrix), которая в качестве одного из своих свойств является неотрицательно определенной "
   ]
  },
  {
   "cell_type": "markdown",
   "metadata": {
    "deletable": true,
    "editable": true
   },
   "source": [
    "## Маломерное представление для матриц смежности\n",
    "\n",
    "В качестве первой задачи попробуем сделать некоторое подобие энкодера для графов, у которого в качестве слоев возьмем слои из статьи выше. Эксперименты будем проводить на [датасете](https://figshare.com/articles/MUTAG_and_ENZYMES_DataSet/899875), в котором есть ~200  графов. Обучим самый простой энкодер всего с 4-мя слоями: по два линейных и два SymmetricallyCleanLayer из статьи. "
   ]
  },
  {
   "cell_type": "markdown",
   "metadata": {
    "deletable": true,
    "editable": true
   },
   "source": [
    "### Датасет из положительно определённых матриц\n",
    "\n",
    "Сначала просто для теста сгенерим датасет из положительно определенных матриц и посмотрим на его результаты. "
   ]
  },
  {
   "cell_type": "code",
   "execution_count": 187,
   "metadata": {
    "collapsed": false,
    "deletable": true,
    "editable": true,
    "scrolled": true
   },
   "outputs": [
    {
     "name": "stderr",
     "output_type": "stream",
     "text": [
      "\n",
      "  0%|          | 0/999 [00:00<?, ?it/s]\u001b[A\n",
      "  0%|          | 2/999 [00:00<01:18, 12.63it/s]\u001b[A\n",
      "  0%|          | 4/999 [00:00<01:18, 12.61it/s]\u001b[A\n",
      "  1%|          | 6/999 [00:00<01:19, 12.43it/s]\u001b[A\n",
      "  1%|          | 8/999 [00:00<01:21, 12.18it/s]\u001b[A\n",
      "  1%|          | 9/999 [00:00<01:23, 11.79it/s]\u001b[A\n",
      "  1%|          | 10/999 [00:00<01:25, 11.57it/s]\u001b[A\n",
      "  1%|          | 12/999 [00:01<01:24, 11.62it/s]\u001b[A"
     ]
    },
    {
     "name": "stdout",
     "output_type": "stream",
     "text": [
      "EPOCH: 10, TRAIN LOSS: 6.968207359313965, TEST LOSS 8.690054893493652\n"
     ]
    },
    {
     "name": "stderr",
     "output_type": "stream",
     "text": [
      "\n",
      "  1%|▏         | 14/999 [00:01<01:24, 11.61it/s]\u001b[A\n",
      "  2%|▏         | 16/999 [00:01<01:26, 11.35it/s]\u001b[A\n",
      "  2%|▏         | 18/999 [00:01<01:25, 11.44it/s]\u001b[A\n",
      "  2%|▏         | 20/999 [00:01<01:25, 11.47it/s]\u001b[A\n",
      "  2%|▏         | 22/999 [00:01<01:24, 11.55it/s]\u001b[A"
     ]
    },
    {
     "name": "stdout",
     "output_type": "stream",
     "text": [
      "EPOCH: 20, TRAIN LOSS: 2.341021776199341, TEST LOSS 2.6160192489624023\n"
     ]
    },
    {
     "name": "stderr",
     "output_type": "stream",
     "text": [
      "\n",
      "  2%|▏         | 24/999 [00:02<01:24, 11.53it/s]\u001b[A\n",
      "  3%|▎         | 26/999 [00:02<01:24, 11.53it/s]\u001b[A\n",
      "  3%|▎         | 28/999 [00:02<01:24, 11.48it/s]\u001b[A\n",
      "  3%|▎         | 30/999 [00:02<01:24, 11.45it/s]\u001b[A\n",
      "  3%|▎         | 32/999 [00:02<01:24, 11.44it/s]\u001b[A"
     ]
    },
    {
     "name": "stdout",
     "output_type": "stream",
     "text": [
      "EPOCH: 30, TRAIN LOSS: 1.4044148921966553, TEST LOSS 1.2379708290100098\n"
     ]
    },
    {
     "name": "stderr",
     "output_type": "stream",
     "text": [
      "\n",
      "  3%|▎         | 34/999 [00:03<01:27, 11.06it/s]\u001b[A\n",
      "  4%|▎         | 36/999 [00:03<01:27, 11.05it/s]\u001b[A\n",
      "  4%|▍         | 38/999 [00:03<01:26, 11.14it/s]\u001b[A\n",
      "  4%|▍         | 40/999 [00:03<01:25, 11.19it/s]\u001b[A"
     ]
    },
    {
     "name": "stdout",
     "output_type": "stream",
     "text": [
      "EPOCH: 40, TRAIN LOSS: 1.2449212074279785, TEST LOSS 1.1252540349960327\n"
     ]
    },
    {
     "name": "stderr",
     "output_type": "stream",
     "text": [
      "\n",
      "  4%|▍         | 42/999 [00:03<01:27, 10.94it/s]\u001b[A\n",
      "  4%|▍         | 44/999 [00:04<01:29, 10.65it/s]\u001b[A\n",
      "  5%|▍         | 45/999 [00:04<01:29, 10.62it/s]\u001b[A\n",
      "  5%|▍         | 47/999 [00:04<01:29, 10.65it/s]\u001b[A\n",
      "  5%|▍         | 49/999 [00:04<01:28, 10.69it/s]\u001b[A\n",
      "  5%|▌         | 51/999 [00:04<01:28, 10.70it/s]\u001b[A"
     ]
    },
    {
     "name": "stdout",
     "output_type": "stream",
     "text": [
      "EPOCH: 50, TRAIN LOSS: 1.174118995666504, TEST LOSS 1.1086227893829346\n"
     ]
    },
    {
     "name": "stderr",
     "output_type": "stream",
     "text": [
      "\n",
      "  5%|▌         | 53/999 [00:04<01:28, 10.68it/s]\u001b[A\n",
      "  6%|▌         | 55/999 [00:05<01:28, 10.68it/s]\u001b[A\n",
      "  6%|▌         | 57/999 [00:05<01:28, 10.68it/s]\u001b[A\n",
      "  6%|▌         | 59/999 [00:05<01:29, 10.45it/s]\u001b[A\n",
      "  6%|▌         | 60/999 [00:05<01:30, 10.36it/s]\u001b[A\n",
      "  6%|▌         | 61/999 [00:05<01:31, 10.26it/s]\u001b[A"
     ]
    },
    {
     "name": "stdout",
     "output_type": "stream",
     "text": [
      "EPOCH: 60, TRAIN LOSS: 1.140807032585144, TEST LOSS 1.1053504943847656\n"
     ]
    },
    {
     "name": "stderr",
     "output_type": "stream",
     "text": [
      "\n",
      "  6%|▌         | 62/999 [00:06<01:32, 10.17it/s]\u001b[A\n",
      "  6%|▋         | 63/999 [00:06<01:32, 10.12it/s]\u001b[A\n",
      "  6%|▋         | 64/999 [00:06<01:32, 10.09it/s]\u001b[A\n",
      "  7%|▋         | 66/999 [00:06<01:32, 10.14it/s]\u001b[A\n",
      "  7%|▋         | 67/999 [00:06<01:31, 10.13it/s]\u001b[A\n",
      "  7%|▋         | 69/999 [00:06<01:31, 10.18it/s]\u001b[A\n",
      "  7%|▋         | 71/999 [00:06<01:30, 10.21it/s]\u001b[A"
     ]
    },
    {
     "name": "stdout",
     "output_type": "stream",
     "text": [
      "EPOCH: 70, TRAIN LOSS: 1.119438648223877, TEST LOSS 1.1050883531570435\n"
     ]
    },
    {
     "name": "stderr",
     "output_type": "stream",
     "text": [
      "\n",
      "  7%|▋         | 73/999 [00:07<01:32, 10.06it/s]\u001b[A\n",
      "Exception in thread Thread-17:\n",
      "Traceback (most recent call last):\n",
      "  File \"/Users/Macbook/anaconda/envs/py35/lib/python3.5/threading.py\", line 914, in _bootstrap_inner\n",
      "    self.run()\n",
      "  File \"/Users/Macbook/anaconda/envs/py35/lib/python3.5/site-packages/tqdm/_tqdm.py\", line 148, in run\n",
      "    for instance in self.tqdm_cls._instances:\n",
      "  File \"/Users/Macbook/anaconda/envs/py35/lib/python3.5/_weakrefset.py\", line 60, in __iter__\n",
      "    for itemref in self.data:\n",
      "RuntimeError: Set changed size during iteration\n",
      "\n",
      "  8%|▊         | 82/999 [00:08<01:29, 10.23it/s]"
     ]
    },
    {
     "name": "stdout",
     "output_type": "stream",
     "text": [
      "EPOCH: 80, TRAIN LOSS: 1.097057819366455, TEST LOSS 1.1052597761154175\n"
     ]
    },
    {
     "name": "stderr",
     "output_type": "stream",
     "text": [
      "  9%|▉         | 90/999 [00:08<01:29, 10.19it/s]"
     ]
    },
    {
     "name": "stdout",
     "output_type": "stream",
     "text": [
      "EPOCH: 90, TRAIN LOSS: 1.0706404447555542, TEST LOSS 1.0951968431472778\n"
     ]
    },
    {
     "name": "stderr",
     "output_type": "stream",
     "text": [
      " 10%|█         | 101/999 [00:09<01:28, 10.16it/s]"
     ]
    },
    {
     "name": "stdout",
     "output_type": "stream",
     "text": [
      "EPOCH: 100, TRAIN LOSS: 1.0402038097381592, TEST LOSS 1.0721750259399414\n"
     ]
    },
    {
     "name": "stderr",
     "output_type": "stream",
     "text": [
      " 11%|█         | 111/999 [00:10<01:26, 10.22it/s]"
     ]
    },
    {
     "name": "stdout",
     "output_type": "stream",
     "text": [
      "EPOCH: 110, TRAIN LOSS: 1.0018846988677979, TEST LOSS 1.0364058017730713\n"
     ]
    },
    {
     "name": "stderr",
     "output_type": "stream",
     "text": [
      " 12%|█▏        | 121/999 [00:11<01:24, 10.36it/s]"
     ]
    },
    {
     "name": "stdout",
     "output_type": "stream",
     "text": [
      "EPOCH: 120, TRAIN LOSS: 0.9751952886581421, TEST LOSS 1.0089508295059204\n"
     ]
    },
    {
     "name": "stderr",
     "output_type": "stream",
     "text": [
      " 13%|█▎        | 131/999 [00:12<01:23, 10.42it/s]"
     ]
    },
    {
     "name": "stdout",
     "output_type": "stream",
     "text": [
      "EPOCH: 130, TRAIN LOSS: 0.9579085111618042, TEST LOSS 0.9946497082710266\n"
     ]
    },
    {
     "name": "stderr",
     "output_type": "stream",
     "text": [
      " 14%|█▍        | 141/999 [00:13<01:22, 10.35it/s]"
     ]
    },
    {
     "name": "stdout",
     "output_type": "stream",
     "text": [
      "EPOCH: 140, TRAIN LOSS: 0.9389818906784058, TEST LOSS 0.9835097789764404\n"
     ]
    },
    {
     "name": "stderr",
     "output_type": "stream",
     "text": [
      " 15%|█▌        | 151/999 [00:14<01:22, 10.34it/s]"
     ]
    },
    {
     "name": "stdout",
     "output_type": "stream",
     "text": [
      "EPOCH: 150, TRAIN LOSS: 0.9207599759101868, TEST LOSS 0.9750453233718872\n"
     ]
    },
    {
     "name": "stderr",
     "output_type": "stream",
     "text": [
      " 16%|█▌        | 161/999 [00:15<01:21, 10.23it/s]"
     ]
    },
    {
     "name": "stdout",
     "output_type": "stream",
     "text": [
      "EPOCH: 160, TRAIN LOSS: 0.9022831916809082, TEST LOSS 0.9627546668052673\n"
     ]
    },
    {
     "name": "stderr",
     "output_type": "stream",
     "text": [
      " 17%|█▋        | 171/999 [00:16<01:20, 10.24it/s]"
     ]
    },
    {
     "name": "stdout",
     "output_type": "stream",
     "text": [
      "EPOCH: 170, TRAIN LOSS: 0.8818556070327759, TEST LOSS 0.9468567967414856\n"
     ]
    },
    {
     "name": "stderr",
     "output_type": "stream",
     "text": [
      " 18%|█▊        | 181/999 [00:17<01:19, 10.33it/s]"
     ]
    },
    {
     "name": "stdout",
     "output_type": "stream",
     "text": [
      "EPOCH: 180, TRAIN LOSS: 0.8600527048110962, TEST LOSS 0.9284488558769226\n"
     ]
    },
    {
     "name": "stderr",
     "output_type": "stream",
     "text": [
      " 19%|█▉        | 191/999 [00:18<01:18, 10.35it/s]"
     ]
    },
    {
     "name": "stdout",
     "output_type": "stream",
     "text": [
      "EPOCH: 190, TRAIN LOSS: 0.8371096849441528, TEST LOSS 0.9050159454345703\n"
     ]
    },
    {
     "name": "stderr",
     "output_type": "stream",
     "text": [
      " 20%|██        | 201/999 [00:19<01:16, 10.42it/s]"
     ]
    },
    {
     "name": "stdout",
     "output_type": "stream",
     "text": [
      "EPOCH: 200, TRAIN LOSS: 0.8155864477157593, TEST LOSS 0.8808035850524902\n"
     ]
    },
    {
     "name": "stderr",
     "output_type": "stream",
     "text": [
      " 21%|██        | 211/999 [00:20<01:15, 10.48it/s]"
     ]
    },
    {
     "name": "stdout",
     "output_type": "stream",
     "text": [
      "EPOCH: 210, TRAIN LOSS: 0.7945561408996582, TEST LOSS 0.8602314591407776\n"
     ]
    },
    {
     "name": "stderr",
     "output_type": "stream",
     "text": [
      " 22%|██▏       | 221/999 [00:20<01:13, 10.53it/s]"
     ]
    },
    {
     "name": "stdout",
     "output_type": "stream",
     "text": [
      "EPOCH: 220, TRAIN LOSS: 0.77338045835495, TEST LOSS 0.841893196105957\n"
     ]
    },
    {
     "name": "stderr",
     "output_type": "stream",
     "text": [
      " 23%|██▎       | 231/999 [00:22<01:13, 10.49it/s]"
     ]
    },
    {
     "name": "stdout",
     "output_type": "stream",
     "text": [
      "EPOCH: 230, TRAIN LOSS: 0.7513979077339172, TEST LOSS 0.8237003087997437\n"
     ]
    },
    {
     "name": "stderr",
     "output_type": "stream",
     "text": [
      " 24%|██▍       | 242/999 [00:23<01:12, 10.41it/s]"
     ]
    },
    {
     "name": "stdout",
     "output_type": "stream",
     "text": [
      "EPOCH: 240, TRAIN LOSS: 0.7281006574630737, TEST LOSS 0.8054870963096619\n"
     ]
    },
    {
     "name": "stderr",
     "output_type": "stream",
     "text": [
      " 25%|██▌       | 252/999 [00:24<01:11, 10.46it/s]"
     ]
    },
    {
     "name": "stdout",
     "output_type": "stream",
     "text": [
      "EPOCH: 250, TRAIN LOSS: 0.7027376890182495, TEST LOSS 0.7831583619117737\n"
     ]
    },
    {
     "name": "stderr",
     "output_type": "stream",
     "text": [
      " 26%|██▌       | 260/999 [00:24<01:10, 10.43it/s]"
     ]
    },
    {
     "name": "stdout",
     "output_type": "stream",
     "text": [
      "EPOCH: 260, TRAIN LOSS: 0.6744909286499023, TEST LOSS 0.7549208998680115\n"
     ]
    },
    {
     "name": "stderr",
     "output_type": "stream",
     "text": [
      " 27%|██▋       | 272/999 [00:26<01:10, 10.36it/s]"
     ]
    },
    {
     "name": "stdout",
     "output_type": "stream",
     "text": [
      "EPOCH: 270, TRAIN LOSS: 0.644681453704834, TEST LOSS 0.7194063067436218\n"
     ]
    },
    {
     "name": "stderr",
     "output_type": "stream",
     "text": [
      " 28%|██▊       | 282/999 [00:27<01:09, 10.37it/s]"
     ]
    },
    {
     "name": "stdout",
     "output_type": "stream",
     "text": [
      "EPOCH: 280, TRAIN LOSS: 0.6157381534576416, TEST LOSS 0.6807851791381836\n"
     ]
    },
    {
     "name": "stderr",
     "output_type": "stream",
     "text": [
      " 29%|██▉       | 292/999 [00:28<01:07, 10.41it/s]"
     ]
    },
    {
     "name": "stdout",
     "output_type": "stream",
     "text": [
      "EPOCH: 290, TRAIN LOSS: 0.5910767316818237, TEST LOSS 0.6493476033210754\n"
     ]
    },
    {
     "name": "stderr",
     "output_type": "stream",
     "text": [
      " 30%|███       | 302/999 [00:28<01:06, 10.42it/s]"
     ]
    },
    {
     "name": "stdout",
     "output_type": "stream",
     "text": [
      "EPOCH: 300, TRAIN LOSS: 0.5682643055915833, TEST LOSS 0.6242988109588623\n"
     ]
    },
    {
     "name": "stderr",
     "output_type": "stream",
     "text": [
      " 31%|███       | 312/999 [00:29<01:05, 10.46it/s]"
     ]
    },
    {
     "name": "stdout",
     "output_type": "stream",
     "text": [
      "EPOCH: 310, TRAIN LOSS: 0.5459584593772888, TEST LOSS 0.603882908821106\n"
     ]
    },
    {
     "name": "stderr",
     "output_type": "stream",
     "text": [
      " 32%|███▏      | 322/999 [00:30<01:04, 10.50it/s]"
     ]
    },
    {
     "name": "stdout",
     "output_type": "stream",
     "text": [
      "EPOCH: 320, TRAIN LOSS: 0.5239473581314087, TEST LOSS 0.5831701755523682\n"
     ]
    },
    {
     "name": "stderr",
     "output_type": "stream",
     "text": [
      " 33%|███▎      | 332/999 [00:31<01:03, 10.52it/s]"
     ]
    },
    {
     "name": "stdout",
     "output_type": "stream",
     "text": [
      "EPOCH: 330, TRAIN LOSS: 0.5008547902107239, TEST LOSS 0.5630534887313843\n"
     ]
    },
    {
     "name": "stderr",
     "output_type": "stream",
     "text": [
      " 34%|███▍      | 342/999 [00:32<01:02, 10.52it/s]"
     ]
    },
    {
     "name": "stdout",
     "output_type": "stream",
     "text": [
      "EPOCH: 340, TRAIN LOSS: 0.47753703594207764, TEST LOSS 0.542799711227417\n"
     ]
    },
    {
     "name": "stderr",
     "output_type": "stream",
     "text": [
      " 35%|███▌      | 352/999 [00:33<01:01, 10.54it/s]"
     ]
    },
    {
     "name": "stdout",
     "output_type": "stream",
     "text": [
      "EPOCH: 350, TRAIN LOSS: 0.4532957971096039, TEST LOSS 0.5200625658035278\n"
     ]
    },
    {
     "name": "stderr",
     "output_type": "stream",
     "text": [
      " 36%|███▌      | 362/999 [00:34<01:00, 10.58it/s]"
     ]
    },
    {
     "name": "stdout",
     "output_type": "stream",
     "text": [
      "EPOCH: 360, TRAIN LOSS: 0.43020886182785034, TEST LOSS 0.4977532923221588\n"
     ]
    },
    {
     "name": "stderr",
     "output_type": "stream",
     "text": [
      " 37%|███▋      | 370/999 [00:34<00:59, 10.59it/s]"
     ]
    },
    {
     "name": "stdout",
     "output_type": "stream",
     "text": [
      "EPOCH: 370, TRAIN LOSS: 0.40932437777519226, TEST LOSS 0.47675567865371704\n"
     ]
    },
    {
     "name": "stderr",
     "output_type": "stream",
     "text": [
      " 38%|███▊      | 382/999 [00:36<00:58, 10.58it/s]"
     ]
    },
    {
     "name": "stdout",
     "output_type": "stream",
     "text": [
      "EPOCH: 380, TRAIN LOSS: 0.3919260799884796, TEST LOSS 0.46117103099823\n"
     ]
    },
    {
     "name": "stderr",
     "output_type": "stream",
     "text": [
      " 39%|███▉      | 392/999 [00:37<00:57, 10.59it/s]"
     ]
    },
    {
     "name": "stdout",
     "output_type": "stream",
     "text": [
      "EPOCH: 390, TRAIN LOSS: 0.376848042011261, TEST LOSS 0.4479031562805176\n"
     ]
    },
    {
     "name": "stderr",
     "output_type": "stream",
     "text": [
      " 40%|████      | 402/999 [00:37<00:56, 10.63it/s]"
     ]
    },
    {
     "name": "stdout",
     "output_type": "stream",
     "text": [
      "EPOCH: 400, TRAIN LOSS: 0.36309459805488586, TEST LOSS 0.43634364008903503\n"
     ]
    },
    {
     "name": "stderr",
     "output_type": "stream",
     "text": [
      " 41%|████      | 412/999 [00:38<00:55, 10.60it/s]"
     ]
    },
    {
     "name": "stdout",
     "output_type": "stream",
     "text": [
      "EPOCH: 410, TRAIN LOSS: 0.35072094202041626, TEST LOSS 0.4279869496822357\n"
     ]
    },
    {
     "name": "stderr",
     "output_type": "stream",
     "text": [
      " 42%|████▏     | 422/999 [00:39<00:54, 10.61it/s]"
     ]
    },
    {
     "name": "stdout",
     "output_type": "stream",
     "text": [
      "EPOCH: 420, TRAIN LOSS: 0.33966511487960815, TEST LOSS 0.4205702543258667\n"
     ]
    },
    {
     "name": "stderr",
     "output_type": "stream",
     "text": [
      " 43%|████▎     | 432/999 [00:40<00:53, 10.63it/s]"
     ]
    },
    {
     "name": "stdout",
     "output_type": "stream",
     "text": [
      "EPOCH: 430, TRAIN LOSS: 0.32970428466796875, TEST LOSS 0.4144282639026642\n"
     ]
    },
    {
     "name": "stderr",
     "output_type": "stream",
     "text": [
      " 44%|████▍     | 442/999 [00:41<00:52, 10.67it/s]"
     ]
    },
    {
     "name": "stdout",
     "output_type": "stream",
     "text": [
      "EPOCH: 440, TRAIN LOSS: 0.3210178315639496, TEST LOSS 0.40911248326301575\n"
     ]
    },
    {
     "name": "stderr",
     "output_type": "stream",
     "text": [
      " 45%|████▌     | 452/999 [00:42<00:51, 10.68it/s]"
     ]
    },
    {
     "name": "stdout",
     "output_type": "stream",
     "text": [
      "EPOCH: 450, TRAIN LOSS: 0.313498318195343, TEST LOSS 0.4042074978351593\n"
     ]
    },
    {
     "name": "stderr",
     "output_type": "stream",
     "text": [
      " 46%|████▌     | 462/999 [00:43<00:50, 10.72it/s]"
     ]
    },
    {
     "name": "stdout",
     "output_type": "stream",
     "text": [
      "EPOCH: 460, TRAIN LOSS: 0.3064330518245697, TEST LOSS 0.4002317786216736\n"
     ]
    },
    {
     "name": "stderr",
     "output_type": "stream",
     "text": [
      " 47%|████▋     | 472/999 [00:43<00:48, 10.76it/s]"
     ]
    },
    {
     "name": "stdout",
     "output_type": "stream",
     "text": [
      "EPOCH: 470, TRAIN LOSS: 0.30021706223487854, TEST LOSS 0.3970071077346802\n"
     ]
    },
    {
     "name": "stderr",
     "output_type": "stream",
     "text": [
      " 48%|████▊     | 482/999 [00:44<00:47, 10.80it/s]"
     ]
    },
    {
     "name": "stdout",
     "output_type": "stream",
     "text": [
      "EPOCH: 480, TRAIN LOSS: 0.2947506606578827, TEST LOSS 0.3945746421813965\n"
     ]
    },
    {
     "name": "stderr",
     "output_type": "stream",
     "text": [
      " 49%|████▉     | 492/999 [00:45<00:46, 10.82it/s]"
     ]
    },
    {
     "name": "stdout",
     "output_type": "stream",
     "text": [
      "EPOCH: 490, TRAIN LOSS: 0.290019690990448, TEST LOSS 0.39277124404907227\n"
     ]
    },
    {
     "name": "stderr",
     "output_type": "stream",
     "text": [
      " 50%|█████     | 500/999 [00:46<00:46, 10.84it/s]"
     ]
    },
    {
     "name": "stdout",
     "output_type": "stream",
     "text": [
      "EPOCH: 500, TRAIN LOSS: 0.28606343269348145, TEST LOSS 0.3914687931537628\n"
     ]
    },
    {
     "name": "stderr",
     "output_type": "stream",
     "text": [
      " 51%|█████▏    | 512/999 [00:47<00:44, 10.86it/s]"
     ]
    },
    {
     "name": "stdout",
     "output_type": "stream",
     "text": [
      "EPOCH: 510, TRAIN LOSS: 0.2828051745891571, TEST LOSS 0.3904089033603668\n"
     ]
    },
    {
     "name": "stderr",
     "output_type": "stream",
     "text": [
      " 52%|█████▏    | 520/999 [00:47<00:44, 10.88it/s]"
     ]
    },
    {
     "name": "stdout",
     "output_type": "stream",
     "text": [
      "EPOCH: 520, TRAIN LOSS: 0.2801343500614166, TEST LOSS 0.38960394263267517\n"
     ]
    },
    {
     "name": "stderr",
     "output_type": "stream",
     "text": [
      " 53%|█████▎    | 532/999 [00:48<00:42, 10.89it/s]"
     ]
    },
    {
     "name": "stdout",
     "output_type": "stream",
     "text": [
      "EPOCH: 530, TRAIN LOSS: 0.27786290645599365, TEST LOSS 0.38878029584884644\n"
     ]
    },
    {
     "name": "stderr",
     "output_type": "stream",
     "text": [
      " 54%|█████▍    | 542/999 [00:49<00:41, 10.91it/s]"
     ]
    },
    {
     "name": "stdout",
     "output_type": "stream",
     "text": [
      "EPOCH: 540, TRAIN LOSS: 0.27581286430358887, TEST LOSS 0.38791623711586\n"
     ]
    },
    {
     "name": "stderr",
     "output_type": "stream",
     "text": [
      " 55%|█████▌    | 552/999 [00:50<00:40, 10.93it/s]"
     ]
    },
    {
     "name": "stdout",
     "output_type": "stream",
     "text": [
      "EPOCH: 550, TRAIN LOSS: 0.2740107476711273, TEST LOSS 0.38689884543418884\n"
     ]
    },
    {
     "name": "stderr",
     "output_type": "stream",
     "text": [
      " 56%|█████▋    | 562/999 [00:51<00:40, 10.92it/s]"
     ]
    },
    {
     "name": "stdout",
     "output_type": "stream",
     "text": [
      "EPOCH: 560, TRAIN LOSS: 0.27241870760917664, TEST LOSS 0.38578611612319946\n"
     ]
    },
    {
     "name": "stderr",
     "output_type": "stream",
     "text": [
      " 57%|█████▋    | 572/999 [00:52<00:39, 10.93it/s]"
     ]
    },
    {
     "name": "stdout",
     "output_type": "stream",
     "text": [
      "EPOCH: 570, TRAIN LOSS: 0.27096718549728394, TEST LOSS 0.38464629650115967\n"
     ]
    },
    {
     "name": "stderr",
     "output_type": "stream",
     "text": [
      " 58%|█████▊    | 582/999 [00:53<00:38, 10.94it/s]"
     ]
    },
    {
     "name": "stdout",
     "output_type": "stream",
     "text": [
      "EPOCH: 580, TRAIN LOSS: 0.26960596442222595, TEST LOSS 0.3834735155105591\n"
     ]
    },
    {
     "name": "stderr",
     "output_type": "stream",
     "text": [
      " 59%|█████▉    | 592/999 [00:54<00:37, 10.95it/s]"
     ]
    },
    {
     "name": "stdout",
     "output_type": "stream",
     "text": [
      "EPOCH: 590, TRAIN LOSS: 0.2683123052120209, TEST LOSS 0.38238564133644104\n"
     ]
    },
    {
     "name": "stderr",
     "output_type": "stream",
     "text": [
      " 60%|██████    | 602/999 [00:55<00:36, 10.94it/s]"
     ]
    },
    {
     "name": "stdout",
     "output_type": "stream",
     "text": [
      "EPOCH: 600, TRAIN LOSS: 0.26707711815834045, TEST LOSS 0.3811727464199066\n"
     ]
    },
    {
     "name": "stderr",
     "output_type": "stream",
     "text": [
      " 61%|██████▏   | 612/999 [00:55<00:35, 10.97it/s]"
     ]
    },
    {
     "name": "stdout",
     "output_type": "stream",
     "text": [
      "EPOCH: 610, TRAIN LOSS: 0.26590651273727417, TEST LOSS 0.3799596130847931\n"
     ]
    },
    {
     "name": "stderr",
     "output_type": "stream",
     "text": [
      " 62%|██████▏   | 622/999 [00:56<00:34, 11.00it/s]"
     ]
    },
    {
     "name": "stdout",
     "output_type": "stream",
     "text": [
      "EPOCH: 620, TRAIN LOSS: 0.2647686004638672, TEST LOSS 0.37864622473716736\n"
     ]
    },
    {
     "name": "stderr",
     "output_type": "stream",
     "text": [
      " 63%|██████▎   | 632/999 [00:57<00:33, 11.02it/s]"
     ]
    },
    {
     "name": "stdout",
     "output_type": "stream",
     "text": [
      "EPOCH: 630, TRAIN LOSS: 0.26363107562065125, TEST LOSS 0.37736016511917114\n"
     ]
    },
    {
     "name": "stderr",
     "output_type": "stream",
     "text": [
      " 64%|██████▍   | 642/999 [00:58<00:32, 11.03it/s]"
     ]
    },
    {
     "name": "stdout",
     "output_type": "stream",
     "text": [
      "EPOCH: 640, TRAIN LOSS: 0.26247379183769226, TEST LOSS 0.37601345777511597\n"
     ]
    },
    {
     "name": "stderr",
     "output_type": "stream",
     "text": [
      " 65%|██████▌   | 652/999 [00:58<00:31, 11.06it/s]"
     ]
    },
    {
     "name": "stdout",
     "output_type": "stream",
     "text": [
      "EPOCH: 650, TRAIN LOSS: 0.2612477242946625, TEST LOSS 0.374494343996048\n"
     ]
    },
    {
     "name": "stderr",
     "output_type": "stream",
     "text": [
      " 66%|██████▋   | 662/999 [00:59<00:30, 11.08it/s]"
     ]
    },
    {
     "name": "stdout",
     "output_type": "stream",
     "text": [
      "EPOCH: 660, TRAIN LOSS: 0.2600168287754059, TEST LOSS 0.37287259101867676\n"
     ]
    },
    {
     "name": "stderr",
     "output_type": "stream",
     "text": [
      " 67%|██████▋   | 670/999 [01:00<00:29, 11.10it/s]"
     ]
    },
    {
     "name": "stdout",
     "output_type": "stream",
     "text": [
      "EPOCH: 670, TRAIN LOSS: 0.25879156589508057, TEST LOSS 0.3712191581726074\n"
     ]
    },
    {
     "name": "stderr",
     "output_type": "stream",
     "text": [
      " 68%|██████▊   | 682/999 [01:01<00:28, 11.11it/s]"
     ]
    },
    {
     "name": "stdout",
     "output_type": "stream",
     "text": [
      "EPOCH: 680, TRAIN LOSS: 0.25753113627433777, TEST LOSS 0.3695200979709625\n"
     ]
    },
    {
     "name": "stderr",
     "output_type": "stream",
     "text": [
      " 69%|██████▉   | 692/999 [01:02<00:27, 11.13it/s]"
     ]
    },
    {
     "name": "stdout",
     "output_type": "stream",
     "text": [
      "EPOCH: 690, TRAIN LOSS: 0.25619906187057495, TEST LOSS 0.3678280711174011\n"
     ]
    },
    {
     "name": "stderr",
     "output_type": "stream",
     "text": [
      " 70%|███████   | 702/999 [01:03<00:26, 11.13it/s]"
     ]
    },
    {
     "name": "stdout",
     "output_type": "stream",
     "text": [
      "EPOCH: 700, TRAIN LOSS: 0.25483667850494385, TEST LOSS 0.366073340177536\n"
     ]
    },
    {
     "name": "stderr",
     "output_type": "stream",
     "text": [
      " 71%|███████▏  | 712/999 [01:04<00:25, 11.12it/s]"
     ]
    },
    {
     "name": "stdout",
     "output_type": "stream",
     "text": [
      "EPOCH: 710, TRAIN LOSS: 0.2533820867538452, TEST LOSS 0.3641358017921448\n"
     ]
    },
    {
     "name": "stderr",
     "output_type": "stream",
     "text": [
      " 72%|███████▏  | 721/999 [01:04<00:25, 11.10it/s]"
     ]
    },
    {
     "name": "stdout",
     "output_type": "stream",
     "text": [
      "EPOCH: 720, TRAIN LOSS: 0.25186705589294434, TEST LOSS 0.3622240424156189\n"
     ]
    },
    {
     "name": "stderr",
     "output_type": "stream",
     "text": [
      " 73%|███████▎  | 731/999 [01:05<00:24, 11.10it/s]"
     ]
    },
    {
     "name": "stdout",
     "output_type": "stream",
     "text": [
      "EPOCH: 730, TRAIN LOSS: 0.25027212500572205, TEST LOSS 0.36020535230636597\n"
     ]
    },
    {
     "name": "stderr",
     "output_type": "stream",
     "text": [
      " 74%|███████▍  | 741/999 [01:06<00:23, 11.09it/s]"
     ]
    },
    {
     "name": "stdout",
     "output_type": "stream",
     "text": [
      "EPOCH: 740, TRAIN LOSS: 0.2486053705215454, TEST LOSS 0.3577384948730469\n"
     ]
    },
    {
     "name": "stderr",
     "output_type": "stream",
     "text": [
      " 75%|███████▌  | 751/999 [01:07<00:22, 11.07it/s]"
     ]
    },
    {
     "name": "stdout",
     "output_type": "stream",
     "text": [
      "EPOCH: 750, TRAIN LOSS: 0.24686041474342346, TEST LOSS 0.3550771474838257\n"
     ]
    },
    {
     "name": "stderr",
     "output_type": "stream",
     "text": [
      " 76%|███████▌  | 761/999 [01:08<00:21, 11.07it/s]"
     ]
    },
    {
     "name": "stdout",
     "output_type": "stream",
     "text": [
      "EPOCH: 760, TRAIN LOSS: 0.24501803517341614, TEST LOSS 0.3521961271762848\n"
     ]
    },
    {
     "name": "stderr",
     "output_type": "stream",
     "text": [
      " 77%|███████▋  | 771/999 [01:09<00:20, 11.05it/s]"
     ]
    },
    {
     "name": "stdout",
     "output_type": "stream",
     "text": [
      "EPOCH: 770, TRAIN LOSS: 0.24306116998195648, TEST LOSS 0.34909093379974365\n"
     ]
    },
    {
     "name": "stderr",
     "output_type": "stream",
     "text": [
      " 78%|███████▊  | 781/999 [01:10<00:19, 11.03it/s]"
     ]
    },
    {
     "name": "stdout",
     "output_type": "stream",
     "text": [
      "EPOCH: 780, TRAIN LOSS: 0.24097806215286255, TEST LOSS 0.3455047607421875\n"
     ]
    },
    {
     "name": "stderr",
     "output_type": "stream",
     "text": [
      " 79%|███████▉  | 792/999 [01:12<00:18, 10.99it/s]"
     ]
    },
    {
     "name": "stdout",
     "output_type": "stream",
     "text": [
      "EPOCH: 790, TRAIN LOSS: 0.23875373601913452, TEST LOSS 0.3413948118686676\n"
     ]
    },
    {
     "name": "stderr",
     "output_type": "stream",
     "text": [
      " 80%|████████  | 801/999 [01:12<00:18, 10.98it/s]"
     ]
    },
    {
     "name": "stdout",
     "output_type": "stream",
     "text": [
      "EPOCH: 800, TRAIN LOSS: 0.23637869954109192, TEST LOSS 0.3368360698223114\n"
     ]
    },
    {
     "name": "stderr",
     "output_type": "stream",
     "text": [
      " 81%|████████  | 811/999 [01:13<00:17, 10.97it/s]"
     ]
    },
    {
     "name": "stdout",
     "output_type": "stream",
     "text": [
      "EPOCH: 810, TRAIN LOSS: 0.23384152352809906, TEST LOSS 0.3317544162273407\n"
     ]
    },
    {
     "name": "stderr",
     "output_type": "stream",
     "text": [
      " 82%|████████▏ | 821/999 [01:14<00:16, 10.96it/s]"
     ]
    },
    {
     "name": "stdout",
     "output_type": "stream",
     "text": [
      "EPOCH: 820, TRAIN LOSS: 0.23115096986293793, TEST LOSS 0.3262110650539398\n"
     ]
    },
    {
     "name": "stderr",
     "output_type": "stream",
     "text": [
      " 83%|████████▎ | 832/999 [01:16<00:15, 10.93it/s]"
     ]
    },
    {
     "name": "stdout",
     "output_type": "stream",
     "text": [
      "EPOCH: 830, TRAIN LOSS: 0.22831961512565613, TEST LOSS 0.3201711177825928\n"
     ]
    },
    {
     "name": "stderr",
     "output_type": "stream",
     "text": [
      " 84%|████████▍ | 841/999 [01:17<00:14, 10.91it/s]"
     ]
    },
    {
     "name": "stdout",
     "output_type": "stream",
     "text": [
      "EPOCH: 840, TRAIN LOSS: 0.22535930573940277, TEST LOSS 0.3135351538658142\n"
     ]
    },
    {
     "name": "stderr",
     "output_type": "stream",
     "text": [
      " 85%|████████▌ | 851/999 [01:17<00:13, 10.92it/s]"
     ]
    },
    {
     "name": "stdout",
     "output_type": "stream",
     "text": [
      "EPOCH: 850, TRAIN LOSS: 0.22225700318813324, TEST LOSS 0.30645814538002014\n"
     ]
    },
    {
     "name": "stderr",
     "output_type": "stream",
     "text": [
      " 86%|████████▌ | 861/999 [01:18<00:12, 10.90it/s]"
     ]
    },
    {
     "name": "stdout",
     "output_type": "stream",
     "text": [
      "EPOCH: 860, TRAIN LOSS: 0.2190544307231903, TEST LOSS 0.2989732325077057\n"
     ]
    },
    {
     "name": "stderr",
     "output_type": "stream",
     "text": [
      " 87%|████████▋ | 872/999 [01:20<00:11, 10.89it/s]"
     ]
    },
    {
     "name": "stdout",
     "output_type": "stream",
     "text": [
      "EPOCH: 870, TRAIN LOSS: 0.21580001711845398, TEST LOSS 0.29105526208877563\n"
     ]
    },
    {
     "name": "stderr",
     "output_type": "stream",
     "text": [
      " 88%|████████▊ | 881/999 [01:21<00:10, 10.86it/s]"
     ]
    },
    {
     "name": "stdout",
     "output_type": "stream",
     "text": [
      "EPOCH: 880, TRAIN LOSS: 0.21252332627773285, TEST LOSS 0.2828589081764221\n"
     ]
    },
    {
     "name": "stderr",
     "output_type": "stream",
     "text": [
      " 89%|████████▉ | 891/999 [01:22<00:09, 10.86it/s]"
     ]
    },
    {
     "name": "stdout",
     "output_type": "stream",
     "text": [
      "EPOCH: 890, TRAIN LOSS: 0.20925837755203247, TEST LOSS 0.274495393037796\n"
     ]
    },
    {
     "name": "stderr",
     "output_type": "stream",
     "text": [
      " 90%|█████████ | 900/999 [01:23<00:09, 10.84it/s]"
     ]
    },
    {
     "name": "stdout",
     "output_type": "stream",
     "text": [
      "EPOCH: 900, TRAIN LOSS: 0.20605264604091644, TEST LOSS 0.26626259088516235\n"
     ]
    },
    {
     "name": "stderr",
     "output_type": "stream",
     "text": [
      " 91%|█████████ | 911/999 [01:24<00:08, 10.83it/s]"
     ]
    },
    {
     "name": "stdout",
     "output_type": "stream",
     "text": [
      "EPOCH: 910, TRAIN LOSS: 0.20291344821453094, TEST LOSS 0.25824427604675293\n"
     ]
    },
    {
     "name": "stderr",
     "output_type": "stream",
     "text": [
      " 92%|█████████▏| 921/999 [01:25<00:07, 10.82it/s]"
     ]
    },
    {
     "name": "stdout",
     "output_type": "stream",
     "text": [
      "EPOCH: 920, TRAIN LOSS: 0.19982409477233887, TEST LOSS 0.25048592686653137\n"
     ]
    },
    {
     "name": "stderr",
     "output_type": "stream",
     "text": [
      " 93%|█████████▎| 932/999 [01:26<00:06, 10.80it/s]"
     ]
    },
    {
     "name": "stdout",
     "output_type": "stream",
     "text": [
      "EPOCH: 930, TRAIN LOSS: 0.19680476188659668, TEST LOSS 0.24297714233398438\n"
     ]
    },
    {
     "name": "stderr",
     "output_type": "stream",
     "text": [
      " 94%|█████████▍| 942/999 [01:27<00:05, 10.78it/s]"
     ]
    },
    {
     "name": "stdout",
     "output_type": "stream",
     "text": [
      "EPOCH: 940, TRAIN LOSS: 0.19389823079109192, TEST LOSS 0.23559673130512238\n"
     ]
    },
    {
     "name": "stderr",
     "output_type": "stream",
     "text": [
      " 95%|█████████▌| 952/999 [01:28<00:04, 10.78it/s]"
     ]
    },
    {
     "name": "stdout",
     "output_type": "stream",
     "text": [
      "EPOCH: 950, TRAIN LOSS: 0.1911197006702423, TEST LOSS 0.22859683632850647\n"
     ]
    },
    {
     "name": "stderr",
     "output_type": "stream",
     "text": [
      " 96%|█████████▋| 962/999 [01:29<00:03, 10.78it/s]"
     ]
    },
    {
     "name": "stdout",
     "output_type": "stream",
     "text": [
      "EPOCH: 960, TRAIN LOSS: 0.1884855180978775, TEST LOSS 0.22202636301517487\n"
     ]
    },
    {
     "name": "stderr",
     "output_type": "stream",
     "text": [
      " 97%|█████████▋| 971/999 [01:30<00:02, 10.77it/s]"
     ]
    },
    {
     "name": "stdout",
     "output_type": "stream",
     "text": [
      "EPOCH: 970, TRAIN LOSS: 0.18602560460567474, TEST LOSS 0.21582242846488953\n"
     ]
    },
    {
     "name": "stderr",
     "output_type": "stream",
     "text": [
      " 98%|█████████▊| 981/999 [01:31<00:01, 10.74it/s]"
     ]
    },
    {
     "name": "stdout",
     "output_type": "stream",
     "text": [
      "EPOCH: 980, TRAIN LOSS: 0.18375475704669952, TEST LOSS 0.20998935401439667\n"
     ]
    },
    {
     "name": "stderr",
     "output_type": "stream",
     "text": [
      " 99%|█████████▉| 991/999 [01:32<00:00, 10.73it/s]"
     ]
    },
    {
     "name": "stdout",
     "output_type": "stream",
     "text": [
      "EPOCH: 990, TRAIN LOSS: 0.18164803087711334, TEST LOSS 0.2044777125120163\n"
     ]
    },
    {
     "name": "stderr",
     "output_type": "stream",
     "text": [
      "100%|██████████| 999/999 [01:33<00:00, 10.72it/s]\n"
     ]
    }
   ],
   "source": [
    "# учим сетку, возвращаем ее и датасет\n",
    "coder, dataset = SPD.run_test(n_iterations=1000)"
   ]
  },
  {
   "cell_type": "code",
   "execution_count": 190,
   "metadata": {
    "collapsed": false,
    "deletable": true,
    "editable": true
   },
   "outputs": [
    {
     "name": "stdout",
     "output_type": "stream",
     "text": [
      "Результат применения нашей модели к произвольной матрице\n",
      " Variable containing:\n",
      " 1.1597 -1.2545  0.2238 -1.3226 -0.8728 -0.5074\n",
      "-1.2545  1.8764 -0.3922  1.6513  0.9479  0.4915\n",
      " 0.2238 -0.3922  0.3590 -0.5085 -0.3040 -0.0251\n",
      "-1.3226  1.6513 -0.5085  2.5638  1.1053  0.3887\n",
      "-0.8728  0.9479 -0.3040  1.1053  1.4248  0.0865\n",
      "-0.5074  0.4915 -0.0251  0.3887  0.0865  0.3594\n",
      "[torch.FloatTensor of size 6x6]\n",
      "\n",
      "Сама матрица\n",
      " Variable containing:\n",
      " 1.6538 -1.6044  0.2423 -1.5757 -0.8835 -0.0873\n",
      "-1.6044  2.3821 -0.3803  2.0151  1.1325  0.0097\n",
      " 0.2423 -0.3803  0.3766 -0.4845 -0.2825 -0.0868\n",
      "-1.5757  2.0151 -0.4845  2.5606  1.0514  0.2524\n",
      "-0.8835  1.1325 -0.2825  1.0514  1.3400  0.0003\n",
      "-0.0873  0.0097 -0.0868  0.2524  0.0003  0.3175\n",
      "[torch.FloatTensor of size 6x6]\n",
      "\n"
     ]
    }
   ],
   "source": [
    "print(\"Результат применения нашей модели к произвольной матрице\\n\", coder(dataset)[0])\n",
    "print(\"Сама матрица\\n\", dataset[0])"
   ]
  },
  {
   "cell_type": "markdown",
   "metadata": {
    "deletable": true,
    "editable": true
   },
   "source": [
    "Работает вполне неплохо, что и ожидалось "
   ]
  },
  {
   "cell_type": "markdown",
   "metadata": {
    "deletable": true,
    "editable": true
   },
   "source": [
    "### Mutag датасет\n",
    "\n",
    "Тут пробуем нашу модель на графовом датасете. Для каждого графа считаем его матрицу лапласа и кладем ее в выборку, потом на этом деле снова начинаем учить сетку. "
   ]
  },
  {
   "cell_type": "code",
   "execution_count": 193,
   "metadata": {
    "collapsed": false,
    "deletable": true,
    "editable": true,
    "scrolled": true
   },
   "outputs": [
    {
     "name": "stderr",
     "output_type": "stream",
     "text": [
      "  2%|▏         | 11/499 [00:02<01:28,  5.49it/s]"
     ]
    },
    {
     "name": "stdout",
     "output_type": "stream",
     "text": [
      "EPOCH: 10, TRAIN LOSS: 0.19712954759597778, TEST LOSS 0.14197520911693573\n"
     ]
    },
    {
     "name": "stderr",
     "output_type": "stream",
     "text": [
      "  4%|▍         | 21/499 [00:03<01:29,  5.32it/s]"
     ]
    },
    {
     "name": "stdout",
     "output_type": "stream",
     "text": [
      "EPOCH: 20, TRAIN LOSS: 0.14037972688674927, TEST LOSS 0.12351789325475693\n"
     ]
    },
    {
     "name": "stderr",
     "output_type": "stream",
     "text": [
      "  6%|▌         | 30/499 [00:05<01:27,  5.35it/s]"
     ]
    },
    {
     "name": "stdout",
     "output_type": "stream",
     "text": [
      "EPOCH: 30, TRAIN LOSS: 0.127322718501091, TEST LOSS 0.11167646944522858\n"
     ]
    },
    {
     "name": "stderr",
     "output_type": "stream",
     "text": [
      "  8%|▊         | 41/499 [00:07<01:27,  5.25it/s]"
     ]
    },
    {
     "name": "stdout",
     "output_type": "stream",
     "text": [
      "EPOCH: 40, TRAIN LOSS: 0.11849711835384369, TEST LOSS 0.1044565960764885\n"
     ]
    },
    {
     "name": "stderr",
     "output_type": "stream",
     "text": [
      " 10%|█         | 51/499 [00:09<01:24,  5.27it/s]"
     ]
    },
    {
     "name": "stdout",
     "output_type": "stream",
     "text": [
      "EPOCH: 50, TRAIN LOSS: 0.11534447222948074, TEST LOSS 0.10198447108268738\n"
     ]
    },
    {
     "name": "stderr",
     "output_type": "stream",
     "text": [
      " 12%|█▏        | 61/499 [00:11<01:23,  5.28it/s]"
     ]
    },
    {
     "name": "stdout",
     "output_type": "stream",
     "text": [
      "EPOCH: 60, TRAIN LOSS: 0.11363948881626129, TEST LOSS 0.10063354671001434\n"
     ]
    },
    {
     "name": "stderr",
     "output_type": "stream",
     "text": [
      " 14%|█▍        | 71/499 [00:13<01:20,  5.33it/s]"
     ]
    },
    {
     "name": "stdout",
     "output_type": "stream",
     "text": [
      "EPOCH: 70, TRAIN LOSS: 0.11213558167219162, TEST LOSS 0.09911224246025085\n"
     ]
    },
    {
     "name": "stderr",
     "output_type": "stream",
     "text": [
      " 16%|█▌        | 81/499 [00:15<01:18,  5.35it/s]"
     ]
    },
    {
     "name": "stdout",
     "output_type": "stream",
     "text": [
      "EPOCH: 80, TRAIN LOSS: 0.11067698895931244, TEST LOSS 0.09766237437725067\n"
     ]
    },
    {
     "name": "stderr",
     "output_type": "stream",
     "text": [
      " 18%|█▊        | 91/499 [00:17<01:16,  5.35it/s]"
     ]
    },
    {
     "name": "stdout",
     "output_type": "stream",
     "text": [
      "EPOCH: 90, TRAIN LOSS: 0.10889769345521927, TEST LOSS 0.0962556004524231\n"
     ]
    },
    {
     "name": "stderr",
     "output_type": "stream",
     "text": [
      " 20%|██        | 101/499 [00:18<01:14,  5.36it/s]"
     ]
    },
    {
     "name": "stdout",
     "output_type": "stream",
     "text": [
      "EPOCH: 100, TRAIN LOSS: 0.10659370571374893, TEST LOSS 0.09432914108037949\n"
     ]
    },
    {
     "name": "stderr",
     "output_type": "stream",
     "text": [
      " 22%|██▏       | 111/499 [00:20<01:12,  5.37it/s]"
     ]
    },
    {
     "name": "stdout",
     "output_type": "stream",
     "text": [
      "EPOCH: 110, TRAIN LOSS: 0.10393054038286209, TEST LOSS 0.0922497883439064\n"
     ]
    },
    {
     "name": "stderr",
     "output_type": "stream",
     "text": [
      " 24%|██▍       | 121/499 [00:22<01:10,  5.39it/s]"
     ]
    },
    {
     "name": "stdout",
     "output_type": "stream",
     "text": [
      "EPOCH: 120, TRAIN LOSS: 0.10133963823318481, TEST LOSS 0.08909841626882553\n"
     ]
    },
    {
     "name": "stderr",
     "output_type": "stream",
     "text": [
      " 26%|██▋       | 131/499 [00:24<01:07,  5.41it/s]"
     ]
    },
    {
     "name": "stdout",
     "output_type": "stream",
     "text": [
      "EPOCH: 130, TRAIN LOSS: 0.09909091144800186, TEST LOSS 0.08707249909639359\n"
     ]
    },
    {
     "name": "stderr",
     "output_type": "stream",
     "text": [
      " 28%|██▊       | 141/499 [00:26<01:06,  5.42it/s]"
     ]
    },
    {
     "name": "stdout",
     "output_type": "stream",
     "text": [
      "EPOCH: 140, TRAIN LOSS: 0.0968422219157219, TEST LOSS 0.0854298546910286\n"
     ]
    },
    {
     "name": "stderr",
     "output_type": "stream",
     "text": [
      " 30%|███       | 151/499 [00:27<01:04,  5.43it/s]"
     ]
    },
    {
     "name": "stdout",
     "output_type": "stream",
     "text": [
      "EPOCH: 150, TRAIN LOSS: 0.09379082173109055, TEST LOSS 0.0823960155248642\n"
     ]
    },
    {
     "name": "stderr",
     "output_type": "stream",
     "text": [
      " 32%|███▏      | 161/499 [00:29<01:02,  5.45it/s]"
     ]
    },
    {
     "name": "stdout",
     "output_type": "stream",
     "text": [
      "EPOCH: 160, TRAIN LOSS: 0.0889708399772644, TEST LOSS 0.07758042961359024\n"
     ]
    },
    {
     "name": "stderr",
     "output_type": "stream",
     "text": [
      " 34%|███▍      | 171/499 [00:31<01:00,  5.45it/s]"
     ]
    },
    {
     "name": "stdout",
     "output_type": "stream",
     "text": [
      "EPOCH: 170, TRAIN LOSS: 0.0828920304775238, TEST LOSS 0.07190632075071335\n"
     ]
    },
    {
     "name": "stderr",
     "output_type": "stream",
     "text": [
      " 36%|███▋      | 181/499 [00:33<00:58,  5.42it/s]"
     ]
    },
    {
     "name": "stdout",
     "output_type": "stream",
     "text": [
      "EPOCH: 180, TRAIN LOSS: 0.07788261026144028, TEST LOSS 0.06751977652311325\n"
     ]
    },
    {
     "name": "stderr",
     "output_type": "stream",
     "text": [
      " 38%|███▊      | 191/499 [00:35<00:56,  5.44it/s]"
     ]
    },
    {
     "name": "stdout",
     "output_type": "stream",
     "text": [
      "EPOCH: 190, TRAIN LOSS: 0.07396620512008667, TEST LOSS 0.06443893909454346\n"
     ]
    },
    {
     "name": "stderr",
     "output_type": "stream",
     "text": [
      " 40%|████      | 201/499 [00:36<00:54,  5.44it/s]"
     ]
    },
    {
     "name": "stdout",
     "output_type": "stream",
     "text": [
      "EPOCH: 200, TRAIN LOSS: 0.0702691301703453, TEST LOSS 0.06176358088850975\n"
     ]
    },
    {
     "name": "stderr",
     "output_type": "stream",
     "text": [
      " 42%|████▏     | 211/499 [00:38<00:53,  5.43it/s]"
     ]
    },
    {
     "name": "stdout",
     "output_type": "stream",
     "text": [
      "EPOCH: 210, TRAIN LOSS: 0.06590130925178528, TEST LOSS 0.05924762412905693\n"
     ]
    },
    {
     "name": "stderr",
     "output_type": "stream",
     "text": [
      " 44%|████▍     | 220/499 [00:41<00:52,  5.29it/s]"
     ]
    },
    {
     "name": "stdout",
     "output_type": "stream",
     "text": [
      "EPOCH: 220, TRAIN LOSS: 0.0626073107123375, TEST LOSS 0.05728299170732498\n"
     ]
    },
    {
     "name": "stderr",
     "output_type": "stream",
     "text": [
      " 46%|████▋     | 231/499 [00:43<00:50,  5.27it/s]"
     ]
    },
    {
     "name": "stdout",
     "output_type": "stream",
     "text": [
      "EPOCH: 230, TRAIN LOSS: 0.06048348546028137, TEST LOSS 0.055967047810554504\n"
     ]
    },
    {
     "name": "stderr",
     "output_type": "stream",
     "text": [
      " 48%|████▊     | 240/499 [00:45<00:49,  5.25it/s]"
     ]
    },
    {
     "name": "stdout",
     "output_type": "stream",
     "text": [
      "EPOCH: 240, TRAIN LOSS: 0.0583941787481308, TEST LOSS 0.05473392456769943\n"
     ]
    },
    {
     "name": "stderr",
     "output_type": "stream",
     "text": [
      " 50%|█████     | 250/499 [00:47<00:47,  5.24it/s]"
     ]
    },
    {
     "name": "stdout",
     "output_type": "stream",
     "text": [
      "EPOCH: 250, TRAIN LOSS: 0.05624337121844292, TEST LOSS 0.05337804555892944\n"
     ]
    },
    {
     "name": "stderr",
     "output_type": "stream",
     "text": [
      " 52%|█████▏    | 261/499 [00:50<00:45,  5.22it/s]"
     ]
    },
    {
     "name": "stdout",
     "output_type": "stream",
     "text": [
      "EPOCH: 260, TRAIN LOSS: 0.053436532616615295, TEST LOSS 0.051445819437503815\n"
     ]
    },
    {
     "name": "stderr",
     "output_type": "stream",
     "text": [
      " 54%|█████▍    | 270/499 [00:52<00:44,  5.19it/s]"
     ]
    },
    {
     "name": "stdout",
     "output_type": "stream",
     "text": [
      "EPOCH: 270, TRAIN LOSS: 0.051017891615629196, TEST LOSS 0.04970152676105499\n"
     ]
    },
    {
     "name": "stderr",
     "output_type": "stream",
     "text": [
      " 56%|█████▌    | 280/499 [00:54<00:42,  5.16it/s]"
     ]
    },
    {
     "name": "stdout",
     "output_type": "stream",
     "text": [
      "EPOCH: 280, TRAIN LOSS: 0.04926129803061485, TEST LOSS 0.048522159457206726\n"
     ]
    },
    {
     "name": "stderr",
     "output_type": "stream",
     "text": [
      " 58%|█████▊    | 291/499 [00:56<00:40,  5.16it/s]"
     ]
    },
    {
     "name": "stdout",
     "output_type": "stream",
     "text": [
      "EPOCH: 290, TRAIN LOSS: 0.04794570803642273, TEST LOSS 0.047715023159980774\n"
     ]
    },
    {
     "name": "stderr",
     "output_type": "stream",
     "text": [
      " 60%|██████    | 301/499 [00:58<00:38,  5.16it/s]"
     ]
    },
    {
     "name": "stdout",
     "output_type": "stream",
     "text": [
      "EPOCH: 300, TRAIN LOSS: 0.046789806336164474, TEST LOSS 0.04697312042117119\n"
     ]
    },
    {
     "name": "stderr",
     "output_type": "stream",
     "text": [
      " 62%|██████▏   | 311/499 [01:00<00:36,  5.11it/s]"
     ]
    },
    {
     "name": "stdout",
     "output_type": "stream",
     "text": [
      "EPOCH: 310, TRAIN LOSS: 0.04569118842482567, TEST LOSS 0.046245116740465164\n"
     ]
    },
    {
     "name": "stderr",
     "output_type": "stream",
     "text": [
      " 64%|██████▍   | 321/499 [01:02<00:34,  5.12it/s]"
     ]
    },
    {
     "name": "stdout",
     "output_type": "stream",
     "text": [
      "EPOCH: 320, TRAIN LOSS: 0.04464269056916237, TEST LOSS 0.045528557151556015\n"
     ]
    },
    {
     "name": "stderr",
     "output_type": "stream",
     "text": [
      " 66%|██████▋   | 331/499 [01:04<00:32,  5.14it/s]"
     ]
    },
    {
     "name": "stdout",
     "output_type": "stream",
     "text": [
      "EPOCH: 330, TRAIN LOSS: 0.043658193200826645, TEST LOSS 0.0448172353208065\n"
     ]
    },
    {
     "name": "stderr",
     "output_type": "stream",
     "text": [
      " 68%|██████▊   | 341/499 [01:06<00:30,  5.15it/s]"
     ]
    },
    {
     "name": "stdout",
     "output_type": "stream",
     "text": [
      "EPOCH: 340, TRAIN LOSS: 0.04271497204899788, TEST LOSS 0.04410538449883461\n"
     ]
    },
    {
     "name": "stderr",
     "output_type": "stream",
     "text": [
      " 70%|███████   | 351/499 [01:07<00:28,  5.16it/s]"
     ]
    },
    {
     "name": "stdout",
     "output_type": "stream",
     "text": [
      "EPOCH: 350, TRAIN LOSS: 0.04161064699292183, TEST LOSS 0.04310958832502365\n"
     ]
    },
    {
     "name": "stderr",
     "output_type": "stream",
     "text": [
      " 72%|███████▏  | 361/499 [01:09<00:26,  5.17it/s]"
     ]
    },
    {
     "name": "stdout",
     "output_type": "stream",
     "text": [
      "EPOCH: 360, TRAIN LOSS: 0.04047416150569916, TEST LOSS 0.04213237389922142\n"
     ]
    },
    {
     "name": "stderr",
     "output_type": "stream",
     "text": [
      " 74%|███████▍  | 371/499 [01:11<00:24,  5.18it/s]"
     ]
    },
    {
     "name": "stdout",
     "output_type": "stream",
     "text": [
      "EPOCH: 370, TRAIN LOSS: 0.03930344432592392, TEST LOSS 0.04111156240105629\n"
     ]
    },
    {
     "name": "stderr",
     "output_type": "stream",
     "text": [
      " 76%|███████▋  | 381/499 [01:13<00:22,  5.20it/s]"
     ]
    },
    {
     "name": "stdout",
     "output_type": "stream",
     "text": [
      "EPOCH: 380, TRAIN LOSS: 0.0379781648516655, TEST LOSS 0.039856504648923874\n"
     ]
    },
    {
     "name": "stderr",
     "output_type": "stream",
     "text": [
      " 78%|███████▊  | 391/499 [01:15<00:20,  5.21it/s]"
     ]
    },
    {
     "name": "stdout",
     "output_type": "stream",
     "text": [
      "EPOCH: 390, TRAIN LOSS: 0.03662174195051193, TEST LOSS 0.03844829648733139\n"
     ]
    },
    {
     "name": "stderr",
     "output_type": "stream",
     "text": [
      " 80%|████████  | 400/499 [01:16<00:19,  5.20it/s]"
     ]
    },
    {
     "name": "stdout",
     "output_type": "stream",
     "text": [
      "EPOCH: 400, TRAIN LOSS: 0.034548625349998474, TEST LOSS 0.03631008788943291\n"
     ]
    },
    {
     "name": "stderr",
     "output_type": "stream",
     "text": [
      " 82%|████████▏ | 411/499 [01:19<00:16,  5.20it/s]"
     ]
    },
    {
     "name": "stdout",
     "output_type": "stream",
     "text": [
      "EPOCH: 410, TRAIN LOSS: 0.032528914511203766, TEST LOSS 0.034469470381736755\n"
     ]
    },
    {
     "name": "stderr",
     "output_type": "stream",
     "text": [
      " 84%|████████▍ | 421/499 [01:20<00:14,  5.21it/s]"
     ]
    },
    {
     "name": "stdout",
     "output_type": "stream",
     "text": [
      "EPOCH: 420, TRAIN LOSS: 0.030917072668671608, TEST LOSS 0.03305266797542572\n"
     ]
    },
    {
     "name": "stderr",
     "output_type": "stream",
     "text": [
      " 86%|████████▋ | 431/499 [01:22<00:13,  5.21it/s]"
     ]
    },
    {
     "name": "stdout",
     "output_type": "stream",
     "text": [
      "EPOCH: 430, TRAIN LOSS: 0.02959536574780941, TEST LOSS 0.03154238313436508\n"
     ]
    },
    {
     "name": "stderr",
     "output_type": "stream",
     "text": [
      " 88%|████████▊ | 441/499 [01:24<00:11,  5.22it/s]"
     ]
    },
    {
     "name": "stdout",
     "output_type": "stream",
     "text": [
      "EPOCH: 440, TRAIN LOSS: 0.028693348169326782, TEST LOSS 0.03057944029569626\n"
     ]
    },
    {
     "name": "stderr",
     "output_type": "stream",
     "text": [
      " 90%|█████████ | 451/499 [01:26<00:09,  5.23it/s]"
     ]
    },
    {
     "name": "stdout",
     "output_type": "stream",
     "text": [
      "EPOCH: 450, TRAIN LOSS: 0.028074275702238083, TEST LOSS 0.029863033443689346\n"
     ]
    },
    {
     "name": "stderr",
     "output_type": "stream",
     "text": [
      " 92%|█████████▏| 461/499 [01:28<00:07,  5.24it/s]"
     ]
    },
    {
     "name": "stdout",
     "output_type": "stream",
     "text": [
      "EPOCH: 460, TRAIN LOSS: 0.027620680630207062, TEST LOSS 0.02927342988550663\n"
     ]
    },
    {
     "name": "stderr",
     "output_type": "stream",
     "text": [
      " 94%|█████████▍| 470/499 [01:29<00:05,  5.25it/s]"
     ]
    },
    {
     "name": "stdout",
     "output_type": "stream",
     "text": [
      "EPOCH: 470, TRAIN LOSS: 0.027228673920035362, TEST LOSS 0.02875402756035328\n"
     ]
    },
    {
     "name": "stderr",
     "output_type": "stream",
     "text": [
      " 96%|█████████▋| 481/499 [01:31<00:03,  5.26it/s]"
     ]
    },
    {
     "name": "stdout",
     "output_type": "stream",
     "text": [
      "EPOCH: 480, TRAIN LOSS: 0.026817919686436653, TEST LOSS 0.02820870466530323\n"
     ]
    },
    {
     "name": "stderr",
     "output_type": "stream",
     "text": [
      " 98%|█████████▊| 491/499 [01:33<00:01,  5.27it/s]"
     ]
    },
    {
     "name": "stdout",
     "output_type": "stream",
     "text": [
      "EPOCH: 490, TRAIN LOSS: 0.026432575657963753, TEST LOSS 0.027644818648695946\n"
     ]
    },
    {
     "name": "stderr",
     "output_type": "stream",
     "text": [
      "100%|██████████| 499/499 [01:34<00:00,  5.28it/s]\n"
     ]
    }
   ],
   "source": [
    "coder, dataset = SPD.run_test_mutag(n_iterations=500)"
   ]
  },
  {
   "cell_type": "code",
   "execution_count": 197,
   "metadata": {
    "collapsed": false,
    "deletable": true,
    "editable": true
   },
   "outputs": [
    {
     "name": "stdout",
     "output_type": "stream",
     "text": [
      "Результат применения нашей модели к матрице построенной по графу\n",
      " Variable containing:\n",
      " 0  1 -0  0 -0  0\n",
      " 1 -0  1  0  0 -0\n",
      "-0  1 -0  0  0  1\n",
      " 0  0  0 -0 -0  0\n",
      "-0  0  0 -0 -0  1\n",
      " 0 -0  1  0  1  0\n",
      "[torch.FloatTensor of size 6x6]\n",
      "\n",
      "Сама матрица\n",
      " Variable containing:\n",
      " 0  1  0  0  0  0\n",
      " 1  0  1  0  0  0\n",
      " 0  1  0  0  0  1\n",
      " 0  0  0  0  0  0\n",
      " 0  0  0  0  0  1\n",
      " 0  0  1  0  1  0\n",
      "[torch.FloatTensor of size 6x6]\n",
      "\n"
     ]
    }
   ],
   "source": [
    "print(\"Результат применения нашей модели к матрице построенной по графу\\n\", coder(dataset)[9].round())\n",
    "print(\"Сама матрица\\n\", dataset[9])"
   ]
  },
  {
   "cell_type": "markdown",
   "metadata": {
    "deletable": true,
    "editable": true
   },
   "source": [
    "Отрабатывает тоже вполне неплохо. Пробовал изначально сворачивать матрицу лапласа, которую считали для графа, но качество получилось плохим. Поэтому сейчас сетка работает сразу на матрицах смежностей, не особо задумываясь о том, что она может быть не положительно определенной, но блоки в сети оставляеем те же. "
   ]
  },
  {
   "cell_type": "markdown",
   "metadata": {
    "deletable": true,
    "editable": true
   },
   "source": [
    "Отрисуем пару получившихся графов. "
   ]
  },
  {
   "cell_type": "code",
   "execution_count": 241,
   "metadata": {
    "collapsed": false,
    "deletable": true,
    "editable": true
   },
   "outputs": [
    {
     "data": {
      "image/png": "[encoded data removed]",
      "text/plain": [
       "<matplotlib.figure.Figure at 0x117e47978>"
      ]
     },
     "metadata": {},
     "output_type": "display_data"
    }
   ],
   "source": [
    "dt.draw_graphs(10, dataset, coder)"
   ]
  },
  {
   "cell_type": "code",
   "execution_count": 246,
   "metadata": {
    "collapsed": false,
    "deletable": true,
    "editable": true
   },
   "outputs": [
    {
     "data": {
      "image/png": "[encoded data removed]",
      "text/plain": [
       "<matplotlib.figure.Figure at 0x11832c390>"
      ]
     },
     "metadata": {},
     "output_type": "display_data"
    }
   ],
   "source": [
    "dt.draw_graphs(15, dataset, coder)"
   ]
  },
  {
   "cell_type": "code",
   "execution_count": 245,
   "metadata": {
    "collapsed": false,
    "deletable": true,
    "editable": true
   },
   "outputs": [
    {
     "data": {
      "image/png": "[encoded data removed]",
      "text/plain": [
       "<matplotlib.figure.Figure at 0x11811f400>"
      ]
     },
     "metadata": {},
     "output_type": "display_data"
    }
   ],
   "source": [
    "dt.draw_graphs(100, dataset, coder)"
   ]
  },
  {
   "cell_type": "code",
   "execution_count": 318,
   "metadata": {
    "collapsed": false,
    "deletable": true,
    "editable": true
   },
   "outputs": [],
   "source": [
    "# свернем пару графов и посмотрим на их эмбеддинги \n",
    "A = coder.encoder(dataset[100].unsqueeze(0))\n",
    "B = coder.encoder(dataset[4].unsqueeze(0))"
   ]
  },
  {
   "cell_type": "code",
   "execution_count": 343,
   "metadata": {
    "collapsed": false,
    "deletable": true,
    "editable": true
   },
   "outputs": [
    {
     "data": {
      "image/png": "[encoded data removed]",
      "text/plain": [
       "<matplotlib.figure.Figure at 0x1192e8d68>"
      ]
     },
     "metadata": {},
     "output_type": "display_data"
    }
   ],
   "source": [
    "fig, ax = plt.subplots(ncols=2, nrows=1)\n",
    "dt.draw_graph(coder.decoder(A).round(), ax=ax[0])\n",
    "ax[0].set_title(\"First Graph\")\n",
    "dt.draw_graph(coder.decoder(B).round(), ax=ax[1])\n",
    "ax[1].set_title(\"Second Graph\")\n",
    "plt.legend()"
   ]
  },
  {
   "cell_type": "code",
   "execution_count": 375,
   "metadata": {
    "collapsed": false,
    "deletable": true,
    "editable": true,
    "scrolled": true
   },
   "outputs": [
    {
     "data": {
      "image/png": "[encoded data removed]",
      "text/plain": [
       "<matplotlib.figure.Figure at 0x119db27b8>"
      ]
     },
     "metadata": {},
     "output_type": "display_data"
    }
   ],
   "source": [
    "n_points = 5\n",
    "fig = plt.figure(figsize=(16, 4))\n",
    "for i, t in enumerate(np.linspace(0, 1, n_points)):\n",
    "    C_t = A - (A-B)*t\n",
    "    GC_t = coder.decoder(C_t).round()\n",
    "    ax = fig.add_subplot(1,n_points,i+1)\n",
    "    dt.draw_graph(GC_t, ax)\n",
    "    ax.set_title(round(t, 2))\n",
    "    ax.plot()"
   ]
  },
  {
   "cell_type": "code",
   "execution_count": 629,
   "metadata": {
    "collapsed": false,
    "deletable": true,
    "editable": true,
    "scrolled": true
   },
   "outputs": [
    {
     "name": "stdout",
     "output_type": "stream",
     "text": [
      "Reading graphs ...\n",
      "---:  mutag_1.graphml\n",
      "---:  mutag_2.graphml\n",
      "---:  mutag_3.graphml\n",
      "---:  mutag_4.graphml\n",
      "---:  mutag_5.graphml\n",
      "---:  mutag_6.graphml\n",
      "---:  mutag_7.graphml\n",
      "---:  mutag_8.graphml\n",
      "---:  mutag_9.graphml\n",
      "---:  mutag_10.graphml\n",
      "---:  mutag_11.graphml\n",
      "---:  mutag_12.graphml\n",
      "---:  mutag_13.graphml\n",
      "---:  mutag_14.graphml\n",
      "---:  mutag_15.graphml\n",
      "---:  mutag_16.graphml\n",
      "---:  mutag_17.graphml\n",
      "---:  mutag_18.graphml\n",
      "---:  mutag_19.graphml\n",
      "---:  mutag_20.graphml\n",
      "---:  mutag_21.graphml\n",
      "---:  mutag_22.graphml\n",
      "---:  mutag_23.graphml\n",
      "---:  mutag_24.graphml\n",
      "---:  mutag_25.graphml\n",
      "---:  mutag_26.graphml\n",
      "---:  mutag_27.graphml\n",
      "---:  mutag_28.graphml\n",
      "---:  mutag_29.graphml\n",
      "---:  mutag_30.graphml\n",
      "---:  mutag_31.graphml\n",
      "---:  mutag_32.graphml\n",
      "---:  mutag_33.graphml\n",
      "---:  mutag_34.graphml\n",
      "---:  mutag_35.graphml\n",
      "---:  mutag_36.graphml\n",
      "---:  mutag_37.graphml\n",
      "---:  mutag_38.graphml\n",
      "---:  mutag_39.graphml\n",
      "---:  mutag_40.graphml\n",
      "---:  mutag_41.graphml\n",
      "---:  mutag_42.graphml\n",
      "---:  mutag_43.graphml\n",
      "---:  mutag_44.graphml\n",
      "---:  "
     ]
    },
    {
     "name": "stderr",
     "output_type": "stream",
     "text": [
      "\r",
      "  0%|          | 0/4999 [00:00<?, ?it/s]"
     ]
    },
    {
     "name": "stdout",
     "output_type": "stream",
     "text": [
      "mutag_45.graphml\n",
      "---:  mutag_46.graphml\n",
      "---:  mutag_47.graphml\n",
      "---:  mutag_48.graphml\n",
      "---:  mutag_49.graphml\n",
      "---:  mutag_50.graphml\n",
      "---:  mutag_51.graphml\n",
      "---:  mutag_52.graphml\n",
      "---:  mutag_53.graphml\n",
      "---:  mutag_54.graphml\n",
      "---:  mutag_55.graphml\n",
      "---:  mutag_56.graphml\n",
      "---:  mutag_57.graphml\n",
      "---:  mutag_58.graphml\n",
      "---:  mutag_59.graphml\n",
      "---:  mutag_60.graphml\n",
      "---:  mutag_61.graphml\n",
      "---:  mutag_62.graphml\n",
      "---:  mutag_63.graphml\n",
      "---:  mutag_64.graphml\n",
      "---:  mutag_65.graphml\n",
      "---:  mutag_66.graphml\n",
      "---:  mutag_67.graphml\n",
      "---:  mutag_68.graphml\n",
      "---:  mutag_69.graphml\n",
      "---:  mutag_70.graphml\n",
      "---:  mutag_71.graphml\n",
      "---:  mutag_72.graphml\n",
      "---:  mutag_73.graphml\n",
      "---:  mutag_74.graphml\n",
      "---:  mutag_75.graphml\n",
      "---:  mutag_76.graphml\n",
      "---:  mutag_77.graphml\n",
      "---:  mutag_78.graphml\n",
      "---:  mutag_79.graphml\n",
      "---:  mutag_80.graphml\n",
      "---:  mutag_81.graphml\n",
      "---:  mutag_82.graphml\n",
      "---:  mutag_83.graphml\n",
      "---:  mutag_84.graphml\n",
      "---:  mutag_85.graphml\n",
      "---:  mutag_86.graphml\n",
      "---:  mutag_87.graphml\n",
      "---:  mutag_88.graphml\n",
      "---:  mutag_89.graphml\n",
      "---:  mutag_90.graphml\n",
      "---:  mutag_91.graphml\n",
      "---:  mutag_92.graphml\n",
      "---:  mutag_93.graphml\n",
      "---:  mutag_94.graphml\n",
      "---:  mutag_95.graphml\n",
      "---:  mutag_96.graphml\n",
      "---:  mutag_97.graphml\n",
      "---:  mutag_98.graphml\n",
      "---:  mutag_99.graphml\n",
      "---:  mutag_100.graphml\n",
      "---:  mutag_101.graphml\n",
      "---:  mutag_102.graphml\n",
      "---:  mutag_103.graphml\n",
      "---:  mutag_104.graphml\n",
      "---:  mutag_105.graphml\n",
      "---:  mutag_106.graphml\n",
      "---:  mutag_107.graphml\n",
      "---:  mutag_108.graphml\n",
      "---:  mutag_109.graphml\n",
      "---:  mutag_110.graphml\n",
      "---:  mutag_111.graphml\n",
      "---:  mutag_112.graphml\n",
      "---:  mutag_113.graphml\n",
      "---:  mutag_114.graphml\n",
      "---:  mutag_115.graphml\n",
      "---:  mutag_116.graphml\n",
      "---:  mutag_117.graphml\n",
      "---:  mutag_118.graphml\n",
      "---:  mutag_119.graphml\n",
      "---:  mutag_120.graphml\n",
      "---:  mutag_121.graphml\n",
      "---:  mutag_122.graphml\n",
      "---:  mutag_123.graphml\n",
      "---:  mutag_124.graphml\n",
      "---:  mutag_125.graphml\n",
      "---:  mutag_126.graphml\n",
      "---:  mutag_127.graphml\n",
      "---:  mutag_128.graphml\n",
      "---:  mutag_129.graphml\n",
      "---:  mutag_130.graphml\n",
      "---:  mutag_131.graphml\n",
      "---:  mutag_132.graphml\n",
      "---:  mutag_133.graphml\n",
      "---:  mutag_134.graphml\n",
      "---:  mutag_135.graphml\n",
      "---:  mutag_136.graphml\n",
      "---:  mutag_137.graphml\n",
      "---:  mutag_138.graphml\n",
      "---:  mutag_139.graphml\n",
      "---:  mutag_140.graphml\n",
      "---:  mutag_141.graphml\n",
      "---:  mutag_142.graphml\n",
      "---:  mutag_143.graphml\n",
      "---:  mutag_144.graphml\n",
      "---:  mutag_145.graphml\n",
      "---:  mutag_146.graphml\n",
      "---:  mutag_147.graphml\n",
      "---:  mutag_148.graphml\n",
      "---:  mutag_149.graphml\n",
      "---:  mutag_150.graphml\n",
      "---:  mutag_151.graphml\n",
      "---:  mutag_152.graphml\n",
      "---:  mutag_153.graphml\n",
      "---:  mutag_154.graphml\n",
      "---:  mutag_155.graphml\n",
      "---:  mutag_156.graphml\n",
      "---:  mutag_157.graphml\n",
      "---:  mutag_158.graphml\n",
      "---:  mutag_159.graphml\n",
      "---:  mutag_160.graphml\n",
      "---:  mutag_161.graphml\n",
      "---:  mutag_162.graphml\n",
      "---:  mutag_163.graphml\n",
      "---:  mutag_164.graphml\n",
      "---:  mutag_165.graphml\n",
      "---:  mutag_166.graphml\n",
      "---:  mutag_167.graphml\n",
      "---:  mutag_168.graphml\n",
      "---:  mutag_169.graphml\n",
      "---:  mutag_170.graphml\n",
      "---:  mutag_171.graphml\n",
      "---:  mutag_172.graphml\n",
      "---:  mutag_173.graphml\n",
      "---:  mutag_174.graphml\n",
      "---:  mutag_175.graphml\n",
      "---:  mutag_176.graphml\n",
      "---:  mutag_177.graphml\n",
      "---:  mutag_178.graphml\n",
      "---:  mutag_179.graphml\n",
      "---:  mutag_180.graphml\n",
      "---:  mutag_181.graphml\n",
      "---:  mutag_182.graphml\n",
      "---:  mutag_183.graphml\n",
      "---:  mutag_184.graphml\n",
      "---:  mutag_185.graphml\n",
      "---:  mutag_186.graphml\n",
      "---:  mutag_187.graphml\n",
      "---:  mutag_188.graphml\n"
     ]
    },
    {
     "name": "stderr",
     "output_type": "stream",
     "text": [
      "/Users/Macbook/Desktop/MIPT/Optimization_course/SPD_reduce/SPD.py:420: UserWarning: invalid index of a 0-dim tensor. This will be an error in PyTorch 0.5. Use tensor.item() to convert a 0-dim tensor to a Python number\n",
      "/Users/Macbook/Desktop/MIPT/Optimization_course/SPD_reduce/SPD.py:415: UserWarning: invalid index of a 0-dim tensor. This will be an error in PyTorch 0.5. Use tensor.item() to convert a 0-dim tensor to a Python number\n",
      "  1%|          | 35/4999 [00:00<00:28, 171.35it/s]"
     ]
    },
    {
     "name": "stdout",
     "output_type": "stream",
     "text": [
      "EPOCH: 10, TRAIN LOSS: 12025.7685546875, TEST LOSS 194.8460693359375\n",
      "EPOCH: 20, TRAIN LOSS: 10893.1064453125, TEST LOSS 168.12779235839844\n",
      "EPOCH: 30, TRAIN LOSS: 9602.6767578125, TEST LOSS 137.49652099609375\n",
      "EPOCH: 40, TRAIN LOSS: 8409.6689453125, TEST LOSS 117.1836929321289\n"
     ]
    },
    {
     "name": "stderr",
     "output_type": "stream",
     "text": [
      "  1%|▏         | 71/4999 [00:00<00:28, 173.36it/s]"
     ]
    },
    {
     "name": "stdout",
     "output_type": "stream",
     "text": [
      "EPOCH: 50, TRAIN LOSS: 7694.2724609375, TEST LOSS 107.41378784179688\n",
      "EPOCH: 60, TRAIN LOSS: 7388.806640625, TEST LOSS 114.82440948486328\n",
      "EPOCH: 70, TRAIN LOSS: 7180.66650390625, TEST LOSS 117.98662567138672\n",
      "EPOCH: 80, TRAIN LOSS: 7044.8994140625, TEST LOSS 118.58479309082031\n"
     ]
    },
    {
     "name": "stderr",
     "output_type": "stream",
     "text": [
      "  2%|▏         | 123/4999 [00:00<00:28, 170.08it/s]"
     ]
    },
    {
     "name": "stdout",
     "output_type": "stream",
     "text": [
      "EPOCH: 90, TRAIN LOSS: 6901.1337890625, TEST LOSS 100.3840103149414\n",
      "EPOCH: 100, TRAIN LOSS: 6828.9716796875, TEST LOSS 96.12066650390625\n",
      "EPOCH: 110, TRAIN LOSS: 6858.3212890625, TEST LOSS 95.39215087890625\n",
      "EPOCH: 120, TRAIN LOSS: 6664.2431640625, TEST LOSS 96.34513854980469\n"
     ]
    },
    {
     "name": "stderr",
     "output_type": "stream",
     "text": [
      "  3%|▎         | 161/4999 [00:00<00:27, 173.17it/s]"
     ]
    },
    {
     "name": "stdout",
     "output_type": "stream",
     "text": [
      "EPOCH: 130, TRAIN LOSS: 6567.32177734375, TEST LOSS 98.2985610961914\n",
      "EPOCH: 140, TRAIN LOSS: 6487.99462890625, TEST LOSS 85.55653381347656\n",
      "EPOCH: 150, TRAIN LOSS: 6330.880859375, TEST LOSS 89.89641571044922\n",
      "EPOCH: 160, TRAIN LOSS: 6210.84814453125, TEST LOSS 93.99952697753906\n"
     ]
    },
    {
     "name": "stderr",
     "output_type": "stream",
     "text": [
      "  4%|▍         | 198/4999 [00:01<00:27, 174.03it/s]"
     ]
    },
    {
     "name": "stdout",
     "output_type": "stream",
     "text": [
      "EPOCH: 170, TRAIN LOSS: 6084.890625, TEST LOSS 95.74514770507812\n",
      "EPOCH: 180, TRAIN LOSS: 5966.3857421875, TEST LOSS 83.70118713378906\n",
      "EPOCH: 190, TRAIN LOSS: 5819.076171875, TEST LOSS 91.65496063232422\n",
      "EPOCH: 200, TRAIN LOSS: 5692.30224609375, TEST LOSS 91.95552062988281\n"
     ]
    },
    {
     "name": "stderr",
     "output_type": "stream",
     "text": [
      "  5%|▍         | 234/4999 [00:01<00:27, 173.33it/s]"
     ]
    },
    {
     "name": "stdout",
     "output_type": "stream",
     "text": [
      "EPOCH: 210, TRAIN LOSS: 5588.3046875, TEST LOSS 81.29997253417969\n",
      "EPOCH: 220, TRAIN LOSS: 5398.16650390625, TEST LOSS 81.06413269042969\n",
      "EPOCH: 230, TRAIN LOSS: 5372.1181640625, TEST LOSS 96.39537048339844\n",
      "EPOCH: 240, TRAIN LOSS: 5184.00146484375, TEST LOSS 84.15594482421875\n"
     ]
    },
    {
     "name": "stderr",
     "output_type": "stream",
     "text": [
      "  5%|▌         | 271/4999 [00:01<00:27, 172.74it/s]"
     ]
    },
    {
     "name": "stdout",
     "output_type": "stream",
     "text": [
      "EPOCH: 250, TRAIN LOSS: 5062.4677734375, TEST LOSS 96.05667114257812\n",
      "EPOCH: 260, TRAIN LOSS: 5002.328125, TEST LOSS 80.81526184082031\n",
      "EPOCH: 270, TRAIN LOSS: 4920.01611328125, TEST LOSS 89.84008026123047\n",
      "EPOCH: 280, TRAIN LOSS: 4810.1015625, TEST LOSS 92.42985534667969\n"
     ]
    },
    {
     "name": "stderr",
     "output_type": "stream",
     "text": [
      "  6%|▌         | 308/4999 [00:01<00:27, 167.76it/s]"
     ]
    },
    {
     "name": "stdout",
     "output_type": "stream",
     "text": [
      "EPOCH: 290, TRAIN LOSS: 4788.240234375, TEST LOSS 111.89091491699219\n",
      "EPOCH: 300, TRAIN LOSS: 4697.6318359375, TEST LOSS 95.19720458984375\n",
      "EPOCH: 310, TRAIN LOSS: 4562.81689453125, TEST LOSS 81.44309997558594\n"
     ]
    },
    {
     "name": "stderr",
     "output_type": "stream",
     "text": [
      "  7%|▋         | 339/4999 [00:02<00:29, 159.14it/s]"
     ]
    },
    {
     "name": "stdout",
     "output_type": "stream",
     "text": [
      "EPOCH: 320, TRAIN LOSS: 4516.25, TEST LOSS 82.58027648925781\n",
      "EPOCH: 330, TRAIN LOSS: 4613.041015625, TEST LOSS 92.15776062011719\n"
     ]
    },
    {
     "name": "stderr",
     "output_type": "stream",
     "text": [
      "\r",
      "  7%|▋         | 354/4999 [00:02<00:29, 158.36it/s]"
     ]
    },
    {
     "name": "stdout",
     "output_type": "stream",
     "text": [
      "EPOCH: 340, TRAIN LOSS: 4444.650390625, TEST LOSS 78.31021881103516\n",
      "EPOCH: 350, TRAIN LOSS: 4413.224609375, TEST LOSS 86.90116882324219\n",
      "EPOCH: 360, TRAIN LOSS: 4412.8671875, TEST LOSS 75.87663269042969\n"
     ]
    },
    {
     "name": "stderr",
     "output_type": "stream",
     "text": [
      "  8%|▊         | 381/4999 [00:02<00:29, 154.08it/s]"
     ]
    },
    {
     "name": "stdout",
     "output_type": "stream",
     "text": [
      "EPOCH: 370, TRAIN LOSS: 4365.0185546875, TEST LOSS 86.58741760253906\n",
      "EPOCH: 380, TRAIN LOSS: 4198.580078125, TEST LOSS 85.86817169189453\n",
      "EPOCH: 390, TRAIN LOSS: 4244.111328125, TEST LOSS 92.91175842285156\n"
     ]
    },
    {
     "name": "stderr",
     "output_type": "stream",
     "text": [
      "  8%|▊         | 407/4999 [00:02<00:30, 150.04it/s]"
     ]
    },
    {
     "name": "stdout",
     "output_type": "stream",
     "text": [
      "EPOCH: 400, TRAIN LOSS: 4088.23828125, TEST LOSS 78.73849487304688\n",
      "EPOCH: 410, TRAIN LOSS: 4190.05908203125, TEST LOSS 83.45155334472656\n"
     ]
    },
    {
     "name": "stderr",
     "output_type": "stream",
     "text": [
      "  9%|▉         | 443/4999 [00:03<00:31, 144.45it/s]"
     ]
    },
    {
     "name": "stdout",
     "output_type": "stream",
     "text": [
      "EPOCH: 420, TRAIN LOSS: 3961.6318359375, TEST LOSS 77.25059509277344\n",
      "EPOCH: 430, TRAIN LOSS: 4036.84130859375, TEST LOSS 82.53994750976562\n",
      "EPOCH: 440, TRAIN LOSS: 3950.26171875, TEST LOSS 74.07083892822266\n"
     ]
    },
    {
     "name": "stderr",
     "output_type": "stream",
     "text": [
      "  9%|▉         | 468/4999 [00:03<00:31, 142.42it/s]"
     ]
    },
    {
     "name": "stdout",
     "output_type": "stream",
     "text": [
      "EPOCH: 450, TRAIN LOSS: 3878.01611328125, TEST LOSS 77.6578369140625\n",
      "EPOCH: 460, TRAIN LOSS: 3837.8046875, TEST LOSS 84.20787048339844\n",
      "EPOCH: 470, TRAIN LOSS: 3884.576904296875, TEST LOSS 72.25751495361328\n"
     ]
    },
    {
     "name": "stderr",
     "output_type": "stream",
     "text": [
      " 10%|▉         | 492/4999 [00:03<00:32, 140.52it/s]"
     ]
    },
    {
     "name": "stdout",
     "output_type": "stream",
     "text": [
      "EPOCH: 480, TRAIN LOSS: 3820.401123046875, TEST LOSS 75.83910369873047\n",
      "EPOCH: 490, TRAIN LOSS: 3884.9560546875, TEST LOSS 68.76390838623047\n",
      "EPOCH: 500, TRAIN LOSS: 3792.28076171875, TEST LOSS 72.09223937988281\n"
     ]
    },
    {
     "name": "stderr",
     "output_type": "stream",
     "text": [
      " 10%|█         | 523/4999 [00:03<00:31, 141.07it/s]"
     ]
    },
    {
     "name": "stdout",
     "output_type": "stream",
     "text": [
      "EPOCH: 510, TRAIN LOSS: 3775.084716796875, TEST LOSS 66.59706115722656\n",
      "EPOCH: 520, TRAIN LOSS: 3722.83251953125, TEST LOSS 83.16352844238281\n",
      "EPOCH: 530, TRAIN LOSS: 3656.442626953125, TEST LOSS 66.83773803710938\n",
      "EPOCH: 540, TRAIN LOSS: 3617.1884765625, TEST LOSS"
     ]
    },
    {
     "name": "stderr",
     "output_type": "stream",
     "text": [
      " 11%|█▏        | 569/4999 [00:04<00:31, 140.29it/s]"
     ]
    },
    {
     "name": "stdout",
     "output_type": "stream",
     "text": [
      " 66.8174819946289\n",
      "EPOCH: 550, TRAIN LOSS: 3711.983154296875, TEST LOSS 71.2048568725586\n",
      "EPOCH: 560, TRAIN LOSS: 3656.72998046875, TEST LOSS 66.71329498291016\n",
      "EPOCH: 570, TRAIN LOSS: 3550.33056640625, TEST LOSS 83.2120361328125\n"
     ]
    },
    {
     "name": "stderr",
     "output_type": "stream",
     "text": [
      " 12%|█▏        | 594/4999 [00:04<00:31, 138.28it/s]"
     ]
    },
    {
     "name": "stdout",
     "output_type": "stream",
     "text": [
      "EPOCH: 580, TRAIN LOSS: 3586.3203125, TEST LOSS 77.603759765625\n",
      "EPOCH: 590, TRAIN LOSS: 3551.81640625, TEST LOSS 69.16986083984375\n",
      "EPOCH: 600, TRAIN LOSS: 3593.026611328125, TEST LOSS 76.73757934570312\n"
     ]
    },
    {
     "name": "stderr",
     "output_type": "stream",
     "text": [
      " 13%|█▎        | 629/4999 [00:04<00:31, 139.75it/s]"
     ]
    },
    {
     "name": "stdout",
     "output_type": "stream",
     "text": [
      "EPOCH: 610, TRAIN LOSS: 3493.11083984375, TEST LOSS 89.3577880859375\n",
      "EPOCH: 620, TRAIN LOSS: 3517.9677734375, TEST LOSS 58.01588821411133\n",
      "EPOCH: 630, TRAIN LOSS: 3412.65185546875, TEST LOSS 74.90330505371094\n",
      "EPOCH: 640, TRAIN LOSS: 3455.36572265625, TEST LOSS 64.90219116210938\n"
     ]
    },
    {
     "name": "stderr",
     "output_type": "stream",
     "text": [
      " 13%|█▎        | 665/4999 [00:04<00:30, 140.96it/s]"
     ]
    },
    {
     "name": "stdout",
     "output_type": "stream",
     "text": [
      "EPOCH: 650, TRAIN LOSS: 3474.36328125, TEST LOSS 67.44979858398438\n",
      "EPOCH: 660, TRAIN LOSS: 3384.404296875, TEST LOSS 71.23445892333984\n",
      "EPOCH: 670, TRAIN LOSS: 3444.09765625, TEST LOSS 71.02660369873047\n",
      "EPOCH: 680, TRAIN LOSS: 3329.8544921875, TEST LOSS 69.75025939941406\n"
     ]
    },
    {
     "name": "stderr",
     "output_type": "stream",
     "text": [
      " 14%|█▍        | 718/4999 [00:05<00:30, 142.64it/s]"
     ]
    },
    {
     "name": "stdout",
     "output_type": "stream",
     "text": [
      "EPOCH: 690, TRAIN LOSS: 3356.751708984375, TEST LOSS 69.91500854492188\n",
      "EPOCH: 700, TRAIN LOSS: 3319.431884765625, TEST LOSS 89.01901245117188\n",
      "EPOCH: 710, TRAIN LOSS: 3275.4580078125, TEST LOSS 71.53062438964844\n",
      "EPOCH: 720, TRAIN LOSS: 3320.1064453125, TEST LOSS 74.80609130859375\n"
     ]
    },
    {
     "name": "stderr",
     "output_type": "stream",
     "text": [
      " 15%|█▌        | 753/4999 [00:05<00:29, 143.20it/s]"
     ]
    },
    {
     "name": "stdout",
     "output_type": "stream",
     "text": [
      "EPOCH: 730, TRAIN LOSS: 3308.431884765625, TEST LOSS 67.58133697509766\n",
      "EPOCH: 740, TRAIN LOSS: 3235.91015625, TEST LOSS 62.74290466308594\n",
      "EPOCH: 750, TRAIN LOSS: 3209.30615234375, TEST LOSS 74.01911926269531\n",
      "EPOCH: 760, TRAIN LOSS: 3278.373046875, TEST LOSS 57.29388427734375\n"
     ]
    },
    {
     "name": "stderr",
     "output_type": "stream",
     "text": [
      " 16%|█▌        | 789/4999 [00:05<00:29, 144.44it/s]"
     ]
    },
    {
     "name": "stdout",
     "output_type": "stream",
     "text": [
      "EPOCH: 770, TRAIN LOSS: 3260.966796875, TEST LOSS 64.07685089111328\n",
      "EPOCH: 780, TRAIN LOSS: 3217.020263671875, TEST LOSS 80.58541870117188\n",
      "EPOCH: 790, TRAIN LOSS: 3063.1376953125, TEST LOSS 65.81718444824219\n",
      "EPOCH: 800, TRAIN LOSS: 3233.11474609375, TEST LOSS 72.3906478881836\n"
     ]
    },
    {
     "name": "stderr",
     "output_type": "stream",
     "text": [
      " 17%|█▋        | 846/4999 [00:05<00:28, 146.65it/s]"
     ]
    },
    {
     "name": "stdout",
     "output_type": "stream",
     "text": [
      "EPOCH: 810, TRAIN LOSS: 3207.6513671875, TEST LOSS 56.09724426269531\n",
      "EPOCH: 820, TRAIN LOSS: 3196.59814453125, TEST LOSS 59.24530792236328\n",
      "EPOCH: 830, TRAIN LOSS: 3274.859619140625, TEST LOSS 57.282081604003906\n",
      "EPOCH: 840, TRAIN LOSS: 3151.57666015625, TEST LOSS 73.91874694824219\n"
     ]
    },
    {
     "name": "stderr",
     "output_type": "stream",
     "text": [
      " 18%|█▊        | 885/4999 [00:05<00:27, 147.96it/s]"
     ]
    },
    {
     "name": "stdout",
     "output_type": "stream",
     "text": [
      "EPOCH: 850, TRAIN LOSS: 3055.0791015625, TEST LOSS 67.73583984375\n",
      "EPOCH: 860, TRAIN LOSS: 3109.736083984375, TEST LOSS 70.66268920898438\n",
      "EPOCH: 870, TRAIN LOSS: 3150.23193359375, TEST LOSS 53.21601867675781\n",
      "EPOCH: 880, TRAIN LOSS: 3048.3857421875, TEST LOSS 77.92149353027344\n"
     ]
    },
    {
     "name": "stderr",
     "output_type": "stream",
     "text": [
      " 18%|█▊        | 923/4999 [00:06<00:27, 149.06it/s]"
     ]
    },
    {
     "name": "stdout",
     "output_type": "stream",
     "text": [
      "EPOCH: 890, TRAIN LOSS: 3177.87060546875, TEST LOSS 55.773433685302734\n",
      "EPOCH: 900, TRAIN LOSS: 3066.2939453125, TEST LOSS 72.76176452636719\n",
      "EPOCH: 910, TRAIN LOSS: 3054.53955078125, TEST LOSS 66.72488403320312\n",
      "EPOCH: 920, TRAIN LOSS: 3084.76953125, TEST LOSS 58.337825775146484\n"
     ]
    },
    {
     "name": "stderr",
     "output_type": "stream",
     "text": [
      " 19%|█▉        | 960/4999 [00:06<00:26, 149.86it/s]"
     ]
    },
    {
     "name": "stdout",
     "output_type": "stream",
     "text": [
      "EPOCH: 930, TRAIN LOSS: 3029.522705078125, TEST LOSS 50.566925048828125\n",
      "EPOCH: 940, TRAIN LOSS: 3053.6826171875, TEST LOSS 53.486454010009766\n",
      "EPOCH: 950, TRAIN LOSS: 3040.95751953125, TEST LOSS 70.64351654052734\n",
      "EPOCH: 960, TRAIN LOSS: 2982.65869140625, TEST LOSS 76.02529907226562\n"
     ]
    },
    {
     "name": "stderr",
     "output_type": "stream",
     "text": [
      " 20%|█▉        | 996/4999 [00:06<00:26, 150.51it/s]"
     ]
    },
    {
     "name": "stdout",
     "output_type": "stream",
     "text": [
      "EPOCH: 970, TRAIN LOSS: 3051.890869140625, TEST LOSS 85.64360809326172\n",
      "EPOCH: 980, TRAIN LOSS: 2977.1953125, TEST LOSS 63.44834899902344\n",
      "EPOCH: 990, TRAIN LOSS: 2935.55615234375, TEST LOSS 58.7186279296875\n",
      "EPOCH: 1000, TRAIN LOSS: 2987.29931640625, TEST LOSS 79.14607238769531\n"
     ]
    },
    {
     "name": "stderr",
     "output_type": "stream",
     "text": [
      " 21%|██        | 1031/4999 [00:06<00:26, 149.64it/s]"
     ]
    },
    {
     "name": "stdout",
     "output_type": "stream",
     "text": [
      "EPOCH: 1010, TRAIN LOSS: 2938.29541015625, TEST LOSS 72.02265167236328\n",
      "EPOCH: 1020, TRAIN LOSS: 2959.841796875, TEST LOSS 69.29051208496094\n",
      "EPOCH: 1030, TRAIN LOSS: 2980.97802734375, TEST LOSS 71.57372283935547\n"
     ]
    },
    {
     "name": "stderr",
     "output_type": "stream",
     "text": [
      " 21%|██▏       | 1064/4999 [00:07<00:26, 150.00it/s]"
     ]
    },
    {
     "name": "stdout",
     "output_type": "stream",
     "text": [
      "EPOCH: 1040, TRAIN LOSS: 2889.775390625, TEST LOSS 59.285728454589844\n",
      "EPOCH: 1050, TRAIN LOSS: 2956.826416015625, TEST LOSS 81.85728454589844\n",
      "EPOCH: 1060, TRAIN LOSS: 2950.002685546875, TEST LOSS 49.577762603759766\n",
      "EPOCH: 1070, TRAIN LOSS: 2875.78955078125, TEST LOSS 61.222904205322266\n"
     ]
    },
    {
     "name": "stderr",
     "output_type": "stream",
     "text": [
      " 22%|██▏       | 1098/4999 [00:07<00:25, 150.40it/s]"
     ]
    },
    {
     "name": "stdout",
     "output_type": "stream",
     "text": [
      "EPOCH: 1080, TRAIN LOSS: 2876.2431640625, TEST LOSS 70.08877563476562\n",
      "EPOCH: 1090, TRAIN LOSS: 2805.68896484375, TEST LOSS 64.97931671142578\n",
      "EPOCH: 1100, TRAIN LOSS: 2842.661865234375, TEST LOSS 71.17755889892578\n",
      "EPOCH: 1110, TRAIN LOSS: 2856.61181640625, TEST LOSS 69.4129638671875\n"
     ]
    },
    {
     "name": "stderr",
     "output_type": "stream",
     "text": [
      " 23%|██▎       | 1153/4999 [00:07<00:25, 151.50it/s]"
     ]
    },
    {
     "name": "stdout",
     "output_type": "stream",
     "text": [
      "EPOCH: 1120, TRAIN LOSS: 2790.339599609375, TEST LOSS 77.78715515136719\n",
      "EPOCH: 1130, TRAIN LOSS: 2823.873291015625, TEST LOSS 56.965633392333984\n",
      "EPOCH: 1140, TRAIN LOSS: 2837.1318359375, TEST LOSS 58.937957763671875\n",
      "EPOCH: 1150, TRAIN LOSS: 2814.826171875, TEST LOSS 54.596466064453125\n"
     ]
    },
    {
     "name": "stderr",
     "output_type": "stream",
     "text": [
      " 24%|██▍       | 1189/4999 [00:07<00:25, 151.91it/s]"
     ]
    },
    {
     "name": "stdout",
     "output_type": "stream",
     "text": [
      "EPOCH: 1160, TRAIN LOSS: 2807.57470703125, TEST LOSS 55.93389892578125\n",
      "EPOCH: 1170, TRAIN LOSS: 2849.25634765625, TEST LOSS 68.0046157836914\n",
      "EPOCH: 1180, TRAIN LOSS: 2793.771728515625, TEST LOSS 62.51194763183594\n",
      "EPOCH: 1190, TRAIN LOSS: 2721.64111328125, TEST LOSS 72.43515014648438\n"
     ]
    },
    {
     "name": "stderr",
     "output_type": "stream",
     "text": [
      " 25%|██▍       | 1226/4999 [00:08<00:24, 152.65it/s]"
     ]
    },
    {
     "name": "stdout",
     "output_type": "stream",
     "text": [
      "EPOCH: 1200, TRAIN LOSS: 2769.234375, TEST LOSS 82.4151382446289\n",
      "EPOCH: 1210, TRAIN LOSS: 2780.145263671875, TEST LOSS 67.13475036621094\n",
      "EPOCH: 1220, TRAIN LOSS: 2838.96484375, TEST LOSS 64.35566711425781\n",
      "EPOCH: 1230, TRAIN LOSS: 2708.16259765625, TEST LOSS 87.67457580566406\n"
     ]
    },
    {
     "name": "stderr",
     "output_type": "stream",
     "text": [
      " 25%|██▌       | 1262/4999 [00:08<00:24, 153.01it/s]"
     ]
    },
    {
     "name": "stdout",
     "output_type": "stream",
     "text": [
      "EPOCH: 1240, TRAIN LOSS: 2705.57080078125, TEST LOSS 54.88541030883789\n",
      "EPOCH: 1250, TRAIN LOSS: 2818.457275390625, TEST LOSS 75.8180160522461\n",
      "EPOCH: 1260, TRAIN LOSS: 2712.7822265625, TEST LOSS 74.4408950805664\n",
      "EPOCH: 1270, TRAIN LOSS: 2736.861328125, TEST LOSS 69.08475494384766\n"
     ]
    },
    {
     "name": "stderr",
     "output_type": "stream",
     "text": [
      " 26%|██▌       | 1297/4999 [00:08<00:24, 153.27it/s]"
     ]
    },
    {
     "name": "stdout",
     "output_type": "stream",
     "text": [
      "EPOCH: 1280, TRAIN LOSS: 2780.311279296875, TEST LOSS 57.037662506103516\n",
      "EPOCH: 1290, TRAIN LOSS: 2729.058349609375, TEST LOSS 70.69198608398438\n",
      "EPOCH: 1300, TRAIN LOSS: 2740.250732421875, TEST LOSS 80.64201354980469\n",
      "EPOCH: 1310, TRAIN LOSS: 2750.93359375, TEST LOSS 73.54669952392578\n"
     ]
    },
    {
     "name": "stderr",
     "output_type": "stream",
     "text": [
      " 27%|██▋       | 1353/4999 [00:08<00:23, 154.31it/s]"
     ]
    },
    {
     "name": "stdout",
     "output_type": "stream",
     "text": [
      "EPOCH: 1320, TRAIN LOSS: 2664.760498046875, TEST LOSS 63.194976806640625\n",
      "EPOCH: 1330, TRAIN LOSS: 2662.845703125, TEST LOSS 70.92374420166016\n",
      "EPOCH: 1340, TRAIN LOSS: 2604.604248046875, TEST LOSS 49.66624450683594\n",
      "EPOCH: 1350, TRAIN LOSS: 2683.56982421875, TEST LOSS 66.76299285888672\n"
     ]
    },
    {
     "name": "stderr",
     "output_type": "stream",
     "text": [
      " 28%|██▊       | 1389/4999 [00:08<00:23, 154.42it/s]"
     ]
    },
    {
     "name": "stdout",
     "output_type": "stream",
     "text": [
      "EPOCH: 1360, TRAIN LOSS: 2644.715576171875, TEST LOSS 43.79309844970703\n",
      "EPOCH: 1370, TRAIN LOSS: 2684.5654296875, TEST LOSS 53.13848114013672\n",
      "EPOCH: 1380, TRAIN LOSS: 2628.61865234375, TEST LOSS 60.60378646850586\n",
      "EPOCH: 1390, TRAIN LOSS: 2723.364501953125, TEST LOSS 68.39921569824219\n"
     ]
    },
    {
     "name": "stderr",
     "output_type": "stream",
     "text": [
      " 28%|██▊       | 1424/4999 [00:09<00:23, 154.39it/s]"
     ]
    },
    {
     "name": "stdout",
     "output_type": "stream",
     "text": [
      "EPOCH: 1400, TRAIN LOSS: 2667.638916015625, TEST LOSS 69.94725036621094\n",
      "EPOCH: 1410, TRAIN LOSS: 2683.42041015625, TEST LOSS 75.67213439941406\n",
      "EPOCH: 1420, TRAIN LOSS: 2595.01611328125, TEST LOSS 64.51237487792969\n",
      "EPOCH: 1430, TRAIN LOSS: 2596.36865234375, TEST LOSS 46.81591796875\n"
     ]
    },
    {
     "name": "stderr",
     "output_type": "stream",
     "text": [
      " 29%|██▉       | 1458/4999 [00:09<00:22, 154.49it/s]"
     ]
    },
    {
     "name": "stdout",
     "output_type": "stream",
     "text": [
      "EPOCH: 1440, TRAIN LOSS: 2672.15234375, TEST LOSS 69.0604019165039\n",
      "EPOCH: 1450, TRAIN LOSS: 2582.65673828125, TEST LOSS 95.16786193847656\n",
      "EPOCH: 1460, TRAIN LOSS: 2585.650634765625, TEST LOSS 65.59832763671875\n",
      "EPOCH: 1470, TRAIN LOSS: 2588.060546875, TEST LOSS 60.99700164794922\n"
     ]
    },
    {
     "name": "stderr",
     "output_type": "stream",
     "text": [
      " 30%|██▉       | 1493/4999 [00:09<00:22, 154.84it/s]"
     ]
    },
    {
     "name": "stdout",
     "output_type": "stream",
     "text": [
      "EPOCH: 1480, TRAIN LOSS: 2591.533203125, TEST LOSS 66.62162780761719\n",
      "EPOCH: 1490, TRAIN LOSS: 2711.818359375, TEST LOSS 54.27493667602539\n",
      "EPOCH: 1500, TRAIN LOSS: 2534.212646484375, TEST LOSS 56.11487579345703\n"
     ]
    },
    {
     "name": "stderr",
     "output_type": "stream",
     "text": [
      " 31%|███       | 1529/4999 [00:09<00:22, 154.36it/s]"
     ]
    },
    {
     "name": "stdout",
     "output_type": "stream",
     "text": [
      "EPOCH: 1510, TRAIN LOSS: 2570.4736328125, TEST LOSS 65.36408996582031\n",
      "EPOCH: 1520, TRAIN LOSS: 2517.669189453125, TEST LOSS 54.8070068359375\n",
      "EPOCH: 1530, TRAIN LOSS: 2604.7392578125, TEST LOSS 69.01535034179688\n",
      "EPOCH: 1540, TRAIN LOSS: 2593.766845703125, TEST LOSS 52.87445068359375\n"
     ]
    },
    {
     "name": "stderr",
     "output_type": "stream",
     "text": [
      " 31%|███▏      | 1566/4999 [00:10<00:22, 154.90it/s]"
     ]
    },
    {
     "name": "stdout",
     "output_type": "stream",
     "text": [
      "EPOCH: 1550, TRAIN LOSS: 2510.48779296875, TEST LOSS 55.703941345214844\n",
      "EPOCH: 1560, TRAIN LOSS: 2620.7177734375, TEST LOSS 41.364349365234375\n",
      "EPOCH: 1570, TRAIN LOSS: 2534.7265625, TEST LOSS 51.28819274902344\n"
     ]
    },
    {
     "name": "stderr",
     "output_type": "stream",
     "text": [
      " 32%|███▏      | 1600/4999 [00:10<00:22, 154.39it/s]"
     ]
    },
    {
     "name": "stdout",
     "output_type": "stream",
     "text": [
      "EPOCH: 1580, TRAIN LOSS: 2585.599609375, TEST LOSS 58.31455993652344\n",
      "EPOCH: 1590, TRAIN LOSS: 2575.40087890625, TEST LOSS 66.46778869628906\n",
      "EPOCH: 1600, TRAIN LOSS: 2576.458251953125, TEST LOSS 47.03121566772461\n",
      "EPOCH: 1610, TRAIN LOSS: 2604.273193359375, TEST LOSS 74.57105255126953\n"
     ]
    },
    {
     "name": "stderr",
     "output_type": "stream",
     "text": [
      " 33%|███▎      | 1650/4999 [00:10<00:21, 154.48it/s]"
     ]
    },
    {
     "name": "stdout",
     "output_type": "stream",
     "text": [
      "EPOCH: 1620, TRAIN LOSS: 2569.724609375, TEST LOSS 57.43207550048828\n",
      "EPOCH: 1630, TRAIN LOSS: 2583.63671875, TEST LOSS 66.36903381347656\n",
      "EPOCH: 1640, TRAIN LOSS: 2528.447021484375, TEST LOSS 50.43230056762695\n",
      "EPOCH: 1650, TRAIN LOSS: 2532.707763671875, TEST LOSS 55.875267028808594\n"
     ]
    },
    {
     "name": "stderr",
     "output_type": "stream",
     "text": [
      " 34%|███▎      | 1687/4999 [00:10<00:21, 154.92it/s]"
     ]
    },
    {
     "name": "stdout",
     "output_type": "stream",
     "text": [
      "EPOCH: 1660, TRAIN LOSS: 2554.895751953125, TEST LOSS 56.77922058105469\n",
      "EPOCH: 1670, TRAIN LOSS: 2501.601318359375, TEST LOSS 62.21728515625\n",
      "EPOCH: 1680, TRAIN LOSS: 2464.556640625, TEST LOSS 56.25313949584961\n",
      "EPOCH: 1690, TRAIN LOSS: 2453.8798828125, TEST LOSS 51.025779724121094\n"
     ]
    },
    {
     "name": "stderr",
     "output_type": "stream",
     "text": [
      " 34%|███▍      | 1720/4999 [00:11<00:21, 154.59it/s]"
     ]
    },
    {
     "name": "stdout",
     "output_type": "stream",
     "text": [
      "EPOCH: 1700, TRAIN LOSS: 2416.80126953125, TEST LOSS 78.55474090576172\n",
      "EPOCH: 1710, TRAIN LOSS: 2496.32763671875, TEST LOSS 66.54532623291016\n",
      "EPOCH: 1720, TRAIN LOSS: 2426.94091796875, TEST LOSS 65.0513687133789\n"
     ]
    },
    {
     "name": "stderr",
     "output_type": "stream",
     "text": [
      " 35%|███▌      | 1755/4999 [00:11<00:20, 154.88it/s]"
     ]
    },
    {
     "name": "stdout",
     "output_type": "stream",
     "text": [
      "EPOCH: 1730, TRAIN LOSS: 2424.28125, TEST LOSS 60.408546447753906\n",
      "EPOCH: 1740, TRAIN LOSS: 2525.494873046875, TEST LOSS 83.38349914550781\n",
      "EPOCH: 1750, TRAIN LOSS: 2506.705078125, TEST LOSS 53.913063049316406\n",
      "EPOCH: 1760, TRAIN LOSS: 2488.469970703125, TEST LOSS 59.253639221191406\n"
     ]
    },
    {
     "name": "stderr",
     "output_type": "stream",
     "text": [
      " 36%|███▌      | 1792/4999 [00:11<00:20, 155.30it/s]"
     ]
    },
    {
     "name": "stdout",
     "output_type": "stream",
     "text": [
      "EPOCH: 1770, TRAIN LOSS: 2403.087890625, TEST LOSS 73.9764175415039\n",
      "EPOCH: 1780, TRAIN LOSS: 2472.500244140625, TEST LOSS 77.71036529541016\n",
      "EPOCH: 1790, TRAIN LOSS: 2504.004150390625, TEST LOSS 63.91400909423828\n",
      "EPOCH: 1800, TRAIN LOSS: 2469.027099609375, TEST LOSS 49.897457122802734\n"
     ]
    },
    {
     "name": "stderr",
     "output_type": "stream",
     "text": [
      " 37%|███▋      | 1829/4999 [00:11<00:20, 155.72it/s]"
     ]
    },
    {
     "name": "stdout",
     "output_type": "stream",
     "text": [
      "EPOCH: 1810, TRAIN LOSS: 2382.94970703125, TEST LOSS 52.38528060913086\n",
      "EPOCH: 1820, TRAIN LOSS: 2456.559814453125, TEST LOSS 53.74964904785156\n",
      "EPOCH: 1830, TRAIN LOSS: 2514.697021484375, TEST LOSS 52.426265716552734\n",
      "EPOCH: 1840, TRAIN LOSS: 2361.2763671875, TEST LOSS 74.8202896118164\n"
     ]
    },
    {
     "name": "stderr",
     "output_type": "stream",
     "text": [
      " 38%|███▊      | 1885/4999 [00:12<00:19, 156.27it/s]"
     ]
    },
    {
     "name": "stdout",
     "output_type": "stream",
     "text": [
      "EPOCH: 1850, TRAIN LOSS: 2419.27783203125, TEST LOSS 64.7063217163086\n",
      "EPOCH: 1860, TRAIN LOSS: 2461.103271484375, TEST LOSS 53.31297302246094\n",
      "EPOCH: 1870, TRAIN LOSS: 2430.021728515625, TEST LOSS 69.30891418457031\n",
      "EPOCH: 1880, TRAIN LOSS: 2516.24072265625, TEST LOSS 56.6904296875\n"
     ]
    },
    {
     "name": "stderr",
     "output_type": "stream",
     "text": [
      " 38%|███▊      | 1923/4999 [00:12<00:19, 156.66it/s]"
     ]
    },
    {
     "name": "stdout",
     "output_type": "stream",
     "text": [
      "EPOCH: 1890, TRAIN LOSS: 2394.31005859375, TEST LOSS 53.39031219482422\n",
      "EPOCH: 1900, TRAIN LOSS: 2448.7216796875, TEST LOSS 55.824737548828125\n",
      "EPOCH: 1910, TRAIN LOSS: 2468.293701171875, TEST LOSS 53.43516159057617\n",
      "EPOCH: 1920, TRAIN LOSS: 2460.40576171875, TEST LOSS 58.199771881103516\n"
     ]
    },
    {
     "name": "stderr",
     "output_type": "stream",
     "text": [
      " 39%|███▉      | 1962/4999 [00:12<00:19, 157.21it/s]"
     ]
    },
    {
     "name": "stdout",
     "output_type": "stream",
     "text": [
      "EPOCH: 1930, TRAIN LOSS: 2441.18994140625, TEST LOSS 62.41214370727539\n",
      "EPOCH: 1940, TRAIN LOSS: 2451.64501953125, TEST LOSS 62.088539123535156\n",
      "EPOCH: 1950, TRAIN LOSS: 2385.407470703125, TEST LOSS 70.517822265625\n",
      "EPOCH: 1960, TRAIN LOSS: 2456.801513671875, TEST LOSS 58.90534210205078\n"
     ]
    },
    {
     "name": "stderr",
     "output_type": "stream",
     "text": [
      " 40%|████      | 2001/4999 [00:12<00:19, 157.73it/s]"
     ]
    },
    {
     "name": "stdout",
     "output_type": "stream",
     "text": [
      "EPOCH: 1970, TRAIN LOSS: 2377.04833984375, TEST LOSS 50.017578125\n",
      "EPOCH: 1980, TRAIN LOSS: 2365.581298828125, TEST LOSS 57.639774322509766\n",
      "EPOCH: 1990, TRAIN LOSS: 2353.47607421875, TEST LOSS 73.58148193359375\n",
      "EPOCH: 2000, TRAIN LOSS: 2306.3564453125, TEST LOSS 63.363285064697266\n"
     ]
    },
    {
     "name": "stderr",
     "output_type": "stream",
     "text": [
      " 41%|████      | 2039/4999 [00:12<00:18, 158.16it/s]"
     ]
    },
    {
     "name": "stdout",
     "output_type": "stream",
     "text": [
      "EPOCH: 2010, TRAIN LOSS: 2312.174072265625, TEST LOSS 49.28786087036133\n",
      "EPOCH: 2020, TRAIN LOSS: 2358.52880859375, TEST LOSS 49.00982666015625\n",
      "EPOCH: 2030, TRAIN LOSS: 2368.22900390625, TEST LOSS 57.90654754638672\n",
      "EPOCH: 2040, TRAIN LOSS: 2405.524169921875, TEST LOSS 51.9130744934082\n"
     ]
    },
    {
     "name": "stderr",
     "output_type": "stream",
     "text": [
      " 42%|████▏     | 2077/4999 [00:13<00:18, 158.54it/s]"
     ]
    },
    {
     "name": "stdout",
     "output_type": "stream",
     "text": [
      "EPOCH: 2050, TRAIN LOSS: 2286.830810546875, TEST LOSS 56.57178497314453\n",
      "EPOCH: 2060, TRAIN LOSS: 2404.41552734375, TEST LOSS 47.20049285888672\n",
      "EPOCH: 2070, TRAIN LOSS: 2381.53955078125, TEST LOSS 47.08343505859375\n",
      "EPOCH: 2080, TRAIN LOSS: 2297.135498046875, TEST LOSS 70.07039642333984\n"
     ]
    },
    {
     "name": "stderr",
     "output_type": "stream",
     "text": [
      " 42%|████▏     | 2115/4999 [00:13<00:18, 158.74it/s]"
     ]
    },
    {
     "name": "stdout",
     "output_type": "stream",
     "text": [
      "EPOCH: 2090, TRAIN LOSS: 2369.41748046875, TEST LOSS 68.46885681152344\n",
      "EPOCH: 2100, TRAIN LOSS: 2395.10888671875, TEST LOSS 70.37513732910156\n",
      "EPOCH: 2110, TRAIN LOSS: 2380.2998046875, TEST LOSS 57.15585708618164\n",
      "EPOCH: 2120, TRAIN LOSS: 2363.1533203125, TEST LOSS 61.048789978027344\n"
     ]
    },
    {
     "name": "stderr",
     "output_type": "stream",
     "text": [
      " 43%|████▎     | 2155/4999 [00:13<00:17, 159.29it/s]"
     ]
    },
    {
     "name": "stdout",
     "output_type": "stream",
     "text": [
      "EPOCH: 2130, TRAIN LOSS: 2293.86376953125, TEST LOSS 66.46609497070312\n",
      "EPOCH: 2140, TRAIN LOSS: 2306.349609375, TEST LOSS 69.13490295410156\n",
      "EPOCH: 2150, TRAIN LOSS: 2400.99658203125, TEST LOSS 76.39861297607422\n",
      "EPOCH: 2160, TRAIN LOSS: 2305.29296875, TEST LOSS 43.06189727783203\n",
      "EPOCH: 2170, TRAIN LOSS: 2269.136474609375, TEST LOSS"
     ]
    },
    {
     "name": "stderr",
     "output_type": "stream",
     "text": [
      " 44%|████▍     | 2193/4999 [00:13<00:17, 158.94it/s]"
     ]
    },
    {
     "name": "stdout",
     "output_type": "stream",
     "text": [
      " 57.61634063720703\n",
      "EPOCH: 2180, TRAIN LOSS: 2283.1962890625, TEST LOSS 44.98870849609375\n",
      "EPOCH: 2190, TRAIN LOSS: 2333.6552734375, TEST LOSS 50.65382385253906\n",
      "EPOCH: 2200, TRAIN LOSS: 2365.16015625, TEST LOSS 51.931800842285156\n"
     ]
    },
    {
     "name": "stderr",
     "output_type": "stream",
     "text": [
      " 45%|████▍     | 2229/4999 [00:14<00:17, 159.18it/s]"
     ]
    },
    {
     "name": "stdout",
     "output_type": "stream",
     "text": [
      "EPOCH: 2210, TRAIN LOSS: 2311.96044921875, TEST LOSS 51.424129486083984\n",
      "EPOCH: 2220, TRAIN LOSS: 2337.6640625, TEST LOSS 80.87760925292969\n",
      "EPOCH: 2230, TRAIN LOSS: 2229.75341796875, TEST LOSS 56.67884063720703\n",
      "EPOCH: 2240, TRAIN LOSS: 2218.75, TEST LOSS 64.34320068359375\n"
     ]
    },
    {
     "name": "stderr",
     "output_type": "stream",
     "text": [
      " 46%|████▌     | 2287/4999 [00:14<00:16, 159.83it/s]"
     ]
    },
    {
     "name": "stdout",
     "output_type": "stream",
     "text": [
      "EPOCH: 2250, TRAIN LOSS: 2344.846923828125, TEST LOSS 74.02134704589844\n",
      "EPOCH: 2260, TRAIN LOSS: 2365.67529296875, TEST LOSS 59.953121185302734\n",
      "EPOCH: 2270, TRAIN LOSS: 2239.79736328125, TEST LOSS 66.49934387207031\n",
      "EPOCH: 2280, TRAIN LOSS: 2282.697021484375, TEST LOSS 38.789485931396484\n"
     ]
    },
    {
     "name": "stderr",
     "output_type": "stream",
     "text": [
      " 47%|████▋     | 2327/4999 [00:14<00:16, 160.31it/s]"
     ]
    },
    {
     "name": "stdout",
     "output_type": "stream",
     "text": [
      "EPOCH: 2290, TRAIN LOSS: 2325.85693359375, TEST LOSS 42.65321350097656\n",
      "EPOCH: 2300, TRAIN LOSS: 2319.970947265625, TEST LOSS 53.45872497558594\n",
      "EPOCH: 2310, TRAIN LOSS: 2342.53369140625, TEST LOSS 48.152557373046875\n",
      "EPOCH: 2320, TRAIN LOSS: 2225.166259765625, TEST LOSS 64.04635620117188\n"
     ]
    },
    {
     "name": "stderr",
     "output_type": "stream",
     "text": [
      " 47%|████▋     | 2365/4999 [00:14<00:16, 160.68it/s]"
     ]
    },
    {
     "name": "stdout",
     "output_type": "stream",
     "text": [
      "EPOCH: 2330, TRAIN LOSS: 2250.759033203125, TEST LOSS 57.12000274658203\n",
      "EPOCH: 2340, TRAIN LOSS: 2334.5888671875, TEST LOSS 53.5019645690918\n",
      "EPOCH: 2350, TRAIN LOSS: 2354.213134765625, TEST LOSS 49.25639343261719\n",
      "EPOCH: 2360, TRAIN LOSS: 2186.153564453125, TEST LOSS 53.94501495361328\n"
     ]
    },
    {
     "name": "stderr",
     "output_type": "stream",
     "text": [
      " 48%|████▊     | 2404/4999 [00:14<00:16, 161.01it/s]"
     ]
    },
    {
     "name": "stdout",
     "output_type": "stream",
     "text": [
      "EPOCH: 2370, TRAIN LOSS: 2386.520751953125, TEST LOSS 59.31389236450195\n",
      "EPOCH: 2380, TRAIN LOSS: 2277.744140625, TEST LOSS 76.68576049804688\n",
      "EPOCH: 2390, TRAIN LOSS: 2330.19873046875, TEST LOSS 64.73509216308594\n",
      "EPOCH: 2400, TRAIN LOSS: 2162.71337890625, TEST LOSS 53.87666320800781\n"
     ]
    },
    {
     "name": "stderr",
     "output_type": "stream",
     "text": [
      " 49%|████▉     | 2442/4999 [00:15<00:15, 161.34it/s]"
     ]
    },
    {
     "name": "stdout",
     "output_type": "stream",
     "text": [
      "EPOCH: 2410, TRAIN LOSS: 2286.52001953125, TEST LOSS 55.56943130493164\n",
      "EPOCH: 2420, TRAIN LOSS: 2183.7724609375, TEST LOSS 50.6483154296875\n",
      "EPOCH: 2430, TRAIN LOSS: 2299.85595703125, TEST LOSS 44.1198616027832\n",
      "EPOCH: 2440, TRAIN LOSS: 2211.9599609375, TEST LOSS 46.71657180786133\n"
     ]
    },
    {
     "name": "stderr",
     "output_type": "stream",
     "text": [
      " 50%|████▉     | 2480/4999 [00:15<00:15, 161.51it/s]"
     ]
    },
    {
     "name": "stdout",
     "output_type": "stream",
     "text": [
      "EPOCH: 2450, TRAIN LOSS: 2267.412353515625, TEST LOSS 57.69116973876953\n",
      "EPOCH: 2460, TRAIN LOSS: 2255.66064453125, TEST LOSS 52.82275390625\n",
      "EPOCH: 2470, TRAIN LOSS: 2364.537353515625, TEST LOSS 71.06201171875\n",
      "EPOCH: 2480, TRAIN LOSS: 2255.00927734375, TEST LOSS 54.877193450927734\n"
     ]
    },
    {
     "name": "stderr",
     "output_type": "stream",
     "text": [
      " 50%|█████     | 2518/4999 [00:15<00:15, 161.58it/s]"
     ]
    },
    {
     "name": "stdout",
     "output_type": "stream",
     "text": [
      "EPOCH: 2490, TRAIN LOSS: 2249.087158203125, TEST LOSS 47.07874298095703\n",
      "EPOCH: 2500, TRAIN LOSS: 2255.5654296875, TEST LOSS 61.26422119140625\n",
      "EPOCH: 2510, TRAIN LOSS: 2361.43798828125, TEST LOSS 57.5023193359375\n",
      "EPOCH: 2520, TRAIN LOSS: 2269.196044921875, TEST LOSS 49.207515716552734\n"
     ]
    },
    {
     "name": "stderr",
     "output_type": "stream",
     "text": [
      " 51%|█████     | 2555/4999 [00:15<00:15, 161.86it/s]"
     ]
    },
    {
     "name": "stdout",
     "output_type": "stream",
     "text": [
      "EPOCH: 2530, TRAIN LOSS: 2218.83056640625, TEST LOSS 56.84020233154297\n",
      "EPOCH: 2540, TRAIN LOSS: 2202.7431640625, TEST LOSS 65.96517944335938\n",
      "EPOCH: 2550, TRAIN LOSS: 2244.2958984375, TEST LOSS 50.90547180175781\n",
      "EPOCH: 2560, TRAIN LOSS: 2184.870849609375, TEST LOSS 71.04054260253906\n"
     ]
    },
    {
     "name": "stderr",
     "output_type": "stream",
     "text": [
      " 52%|█████▏    | 2593/4999 [00:15<00:14, 162.17it/s]"
     ]
    },
    {
     "name": "stdout",
     "output_type": "stream",
     "text": [
      "EPOCH: 2570, TRAIN LOSS: 2232.095703125, TEST LOSS 65.2898178100586\n",
      "EPOCH: 2580, TRAIN LOSS: 2248.326904296875, TEST LOSS 79.25486755371094\n",
      "EPOCH: 2590, TRAIN LOSS: 2266.335205078125, TEST LOSS 51.435508728027344\n",
      "EPOCH: 2600, TRAIN LOSS: 2239.49072265625, TEST LOSS 85.74420166015625\n"
     ]
    },
    {
     "name": "stderr",
     "output_type": "stream",
     "text": [
      " 53%|█████▎    | 2631/4999 [00:16<00:14, 162.34it/s]"
     ]
    },
    {
     "name": "stdout",
     "output_type": "stream",
     "text": [
      "EPOCH: 2610, TRAIN LOSS: 2257.0048828125, TEST LOSS 62.785552978515625\n",
      "EPOCH: 2620, TRAIN LOSS: 2132.30712890625, TEST LOSS 67.6385269165039\n",
      "EPOCH: 2630, TRAIN LOSS: 2209.573974609375, TEST LOSS 62.82867431640625\n",
      "EPOCH: 2640, TRAIN LOSS: 2229.543701171875, TEST LOSS 53.842567443847656\n"
     ]
    },
    {
     "name": "stderr",
     "output_type": "stream",
     "text": [
      " 54%|█████▍    | 2687/4999 [00:16<00:14, 162.72it/s]"
     ]
    },
    {
     "name": "stdout",
     "output_type": "stream",
     "text": [
      "EPOCH: 2650, TRAIN LOSS: 2184.91552734375, TEST LOSS 49.112545013427734\n",
      "EPOCH: 2660, TRAIN LOSS: 2182.184326171875, TEST LOSS 44.10333251953125\n",
      "EPOCH: 2670, TRAIN LOSS: 2192.7490234375, TEST LOSS 65.175048828125\n",
      "EPOCH: 2680, TRAIN LOSS: 2234.89013671875, TEST LOSS 58.10491943359375\n"
     ]
    },
    {
     "name": "stderr",
     "output_type": "stream",
     "text": [
      "\r",
      " 54%|█████▍    | 2706/4999 [00:16<00:14, 162.78it/s]"
     ]
    },
    {
     "name": "stdout",
     "output_type": "stream",
     "text": [
      "EPOCH: 2690, TRAIN LOSS: 2169.61865234375, TEST LOSS 62.681331634521484\n",
      "EPOCH: 2700, TRAIN LOSS: 2229.4951171875, TEST LOSS 54.34508514404297\n",
      "EPOCH: 2710, TRAIN LOSS: 2146.830810546875, TEST LOSS 44.44953536987305\n",
      "EPOCH: 2720, TRAIN LOSS: 2176.5859375, TEST LOSS 68.16629028320312\n"
     ]
    },
    {
     "name": "stderr",
     "output_type": "stream",
     "text": [
      " 55%|█████▌    | 2760/4999 [00:16<00:13, 162.82it/s]"
     ]
    },
    {
     "name": "stdout",
     "output_type": "stream",
     "text": [
      "EPOCH: 2730, TRAIN LOSS: 2197.687255859375, TEST LOSS 48.589576721191406\n",
      "EPOCH: 2740, TRAIN LOSS: 2100.8779296875, TEST LOSS 59.81328201293945\n",
      "EPOCH: 2750, TRAIN LOSS: 2222.338134765625, TEST LOSS 58.784568786621094\n",
      "EPOCH: 2760, TRAIN LOSS: 2140.097900390625, TEST LOSS 52.46299743652344\n"
     ]
    },
    {
     "name": "stderr",
     "output_type": "stream",
     "text": [
      " 56%|█████▌    | 2798/4999 [00:17<00:13, 163.07it/s]"
     ]
    },
    {
     "name": "stdout",
     "output_type": "stream",
     "text": [
      "EPOCH: 2770, TRAIN LOSS: 2134.81884765625, TEST LOSS 52.991397857666016\n",
      "EPOCH: 2780, TRAIN LOSS: 2176.019287109375, TEST LOSS 51.132598876953125\n",
      "EPOCH: 2790, TRAIN LOSS: 2169.18408203125, TEST LOSS 63.30195236206055\n",
      "EPOCH: 2800, TRAIN LOSS: 2144.59423828125, TEST LOSS 86.16069030761719\n"
     ]
    },
    {
     "name": "stderr",
     "output_type": "stream",
     "text": [
      " 57%|█████▋    | 2838/4999 [00:17<00:13, 163.43it/s]"
     ]
    },
    {
     "name": "stdout",
     "output_type": "stream",
     "text": [
      "EPOCH: 2810, TRAIN LOSS: 2183.259521484375, TEST LOSS 63.744956970214844\n",
      "EPOCH: 2820, TRAIN LOSS: 2166.8642578125, TEST LOSS 52.051082611083984\n",
      "EPOCH: 2830, TRAIN LOSS: 2166.78125, TEST LOSS 71.36126708984375\n",
      "EPOCH: 2840, TRAIN LOSS: 2089.744140625, TEST LOSS 67.10308074951172\n"
     ]
    },
    {
     "name": "stderr",
     "output_type": "stream",
     "text": [
      " 58%|█████▊    | 2876/4999 [00:17<00:12, 163.57it/s]"
     ]
    },
    {
     "name": "stdout",
     "output_type": "stream",
     "text": [
      "EPOCH: 2850, TRAIN LOSS: 2145.28759765625, TEST LOSS 75.1706771850586\n",
      "EPOCH: 2860, TRAIN LOSS: 2110.6171875, TEST LOSS 51.05527877807617\n",
      "EPOCH: 2870, TRAIN LOSS: 2183.945556640625, TEST LOSS 70.55304718017578\n",
      "EPOCH: 2880, TRAIN LOSS: 2197.7109375, TEST LOSS 62.951141357421875\n"
     ]
    },
    {
     "name": "stderr",
     "output_type": "stream",
     "text": [
      " 58%|█████▊    | 2915/4999 [00:17<00:12, 163.76it/s]"
     ]
    },
    {
     "name": "stdout",
     "output_type": "stream",
     "text": [
      "EPOCH: 2890, TRAIN LOSS: 2121.62451171875, TEST LOSS 55.40375518798828\n",
      "EPOCH: 2900, TRAIN LOSS: 2205.50830078125, TEST LOSS 57.96319580078125\n",
      "EPOCH: 2910, TRAIN LOSS: 2269.4814453125, TEST LOSS 48.47742462158203\n",
      "EPOCH: 2920, TRAIN LOSS: 2164.5439453125, TEST LOSS 53.96907424926758\n"
     ]
    },
    {
     "name": "stderr",
     "output_type": "stream",
     "text": [
      " 59%|█████▉    | 2953/4999 [00:18<00:12, 163.98it/s]"
     ]
    },
    {
     "name": "stdout",
     "output_type": "stream",
     "text": [
      "EPOCH: 2930, TRAIN LOSS: 2169.8017578125, TEST LOSS 49.070865631103516\n",
      "EPOCH: 2940, TRAIN LOSS: 2098.277587890625, TEST LOSS 75.76344299316406\n",
      "EPOCH: 2950, TRAIN LOSS: 2112.38427734375, TEST LOSS 80.20883178710938\n",
      "EPOCH: 2960, TRAIN LOSS: 2145.849365234375, TEST LOSS 63.734153747558594\n"
     ]
    },
    {
     "name": "stderr",
     "output_type": "stream",
     "text": [
      " 60%|█████▉    | 2992/4999 [00:18<00:12, 164.26it/s]"
     ]
    },
    {
     "name": "stdout",
     "output_type": "stream",
     "text": [
      "EPOCH: 2970, TRAIN LOSS: 2185.881591796875, TEST LOSS 78.10728454589844\n",
      "EPOCH: 2980, TRAIN LOSS: 2163.3515625, TEST LOSS 55.064430236816406\n",
      "EPOCH: 2990, TRAIN LOSS: 2193.623291015625, TEST LOSS 48.747154235839844\n",
      "EPOCH: 3000, TRAIN LOSS: 2172.346923828125, TEST LOSS 53.64409637451172\n"
     ]
    },
    {
     "name": "stderr",
     "output_type": "stream",
     "text": [
      " 61%|██████    | 3030/4999 [00:18<00:11, 164.45it/s]"
     ]
    },
    {
     "name": "stdout",
     "output_type": "stream",
     "text": [
      "EPOCH: 3010, TRAIN LOSS: 2082.13720703125, TEST LOSS 62.66688919067383\n",
      "EPOCH: 3020, TRAIN LOSS: 2114.4580078125, TEST LOSS 75.96720886230469\n",
      "EPOCH: 3030, TRAIN LOSS: 2181.58642578125, TEST LOSS 60.8073616027832\n",
      "EPOCH: 3040, TRAIN LOSS: 2031.0791015625, TEST LOSS 60.50005340576172\n"
     ]
    },
    {
     "name": "stderr",
     "output_type": "stream",
     "text": [
      " 62%|██████▏   | 3088/4999 [00:18<00:11, 164.85it/s]"
     ]
    },
    {
     "name": "stdout",
     "output_type": "stream",
     "text": [
      "EPOCH: 3050, TRAIN LOSS: 2107.611328125, TEST LOSS 55.39567184448242\n",
      "EPOCH: 3060, TRAIN LOSS: 2091.650634765625, TEST LOSS 75.97535705566406\n",
      "EPOCH: 3070, TRAIN LOSS: 2115.836669921875, TEST LOSS 50.09797668457031\n",
      "EPOCH: 3080, TRAIN LOSS: 2110.676025390625, TEST LOSS 57.411888122558594\n"
     ]
    },
    {
     "name": "stderr",
     "output_type": "stream",
     "text": [
      " 63%|██████▎   | 3126/4999 [00:18<00:11, 165.08it/s]"
     ]
    },
    {
     "name": "stdout",
     "output_type": "stream",
     "text": [
      "EPOCH: 3090, TRAIN LOSS: 2119.937255859375, TEST LOSS 62.05194854736328\n",
      "EPOCH: 3100, TRAIN LOSS: 2104.256591796875, TEST LOSS 56.166202545166016\n",
      "EPOCH: 3110, TRAIN LOSS: 2094.99072265625, TEST LOSS 59.94209289550781\n",
      "EPOCH: 3120, TRAIN LOSS: 2087.612060546875, TEST LOSS 46.192626953125\n"
     ]
    },
    {
     "name": "stderr",
     "output_type": "stream",
     "text": [
      " 63%|██████▎   | 3164/4999 [00:19<00:11, 165.26it/s]"
     ]
    },
    {
     "name": "stdout",
     "output_type": "stream",
     "text": [
      "EPOCH: 3130, TRAIN LOSS: 2081.023681640625, TEST LOSS 37.23591613769531\n",
      "EPOCH: 3140, TRAIN LOSS: 2179.16650390625, TEST LOSS 53.343833923339844\n",
      "EPOCH: 3150, TRAIN LOSS: 2085.25146484375, TEST LOSS 81.90038299560547\n",
      "EPOCH: 3160, TRAIN LOSS: 2155.7587890625, TEST LOSS 58.16061782836914\n"
     ]
    },
    {
     "name": "stderr",
     "output_type": "stream",
     "text": [
      " 64%|██████▍   | 3202/4999 [00:19<00:10, 165.41it/s]"
     ]
    },
    {
     "name": "stdout",
     "output_type": "stream",
     "text": [
      "EPOCH: 3170, TRAIN LOSS: 2102.088623046875, TEST LOSS 48.20731735229492\n",
      "EPOCH: 3180, TRAIN LOSS: 2108.41650390625, TEST LOSS 62.19799041748047\n",
      "EPOCH: 3190, TRAIN LOSS: 2136.376953125, TEST LOSS 67.4444580078125\n",
      "EPOCH: 3200, TRAIN LOSS: 2068.18017578125, TEST LOSS 49.97957229614258\n"
     ]
    },
    {
     "name": "stderr",
     "output_type": "stream",
     "text": [
      " 65%|██████▍   | 3240/4999 [00:19<00:10, 165.57it/s]"
     ]
    },
    {
     "name": "stdout",
     "output_type": "stream",
     "text": [
      "EPOCH: 3210, TRAIN LOSS: 2126.14013671875, TEST LOSS 52.028953552246094\n",
      "EPOCH: 3220, TRAIN LOSS: 2059.247802734375, TEST LOSS 55.50469970703125\n",
      "EPOCH: 3230, TRAIN LOSS: 2033.5035400390625, TEST LOSS 68.07865905761719\n",
      "EPOCH: 3240, TRAIN LOSS: 2052.8359375, TEST LOSS 39.56742858886719\n"
     ]
    },
    {
     "name": "stderr",
     "output_type": "stream",
     "text": [
      " 66%|██████▌   | 3278/4999 [00:19<00:10, 165.70it/s]"
     ]
    },
    {
     "name": "stdout",
     "output_type": "stream",
     "text": [
      "EPOCH: 3250, TRAIN LOSS: 2081.48095703125, TEST LOSS 47.80378723144531\n",
      "EPOCH: 3260, TRAIN LOSS: 2195.697265625, TEST LOSS 53.35551071166992\n",
      "EPOCH: 3270, TRAIN LOSS: 2100.371826171875, TEST LOSS 56.21418380737305\n",
      "EPOCH: 3280, TRAIN LOSS: 2156.45654296875, TEST LOSS 44.70524597167969\n"
     ]
    },
    {
     "name": "stderr",
     "output_type": "stream",
     "text": [
      " 66%|██████▋   | 3315/4999 [00:19<00:10, 165.85it/s]"
     ]
    },
    {
     "name": "stdout",
     "output_type": "stream",
     "text": [
      "EPOCH: 3290, TRAIN LOSS: 2096.382568359375, TEST LOSS 62.128211975097656\n",
      "EPOCH: 3300, TRAIN LOSS: 2154.525390625, TEST LOSS 50.368377685546875\n",
      "EPOCH: 3310, TRAIN LOSS: 2094.91357421875, TEST LOSS 66.93871307373047\n",
      "EPOCH: 3320, TRAIN LOSS: 2110.754638671875, TEST LOSS 41.02085876464844\n"
     ]
    },
    {
     "name": "stderr",
     "output_type": "stream",
     "text": [
      " 67%|██████▋   | 3353/4999 [00:20<00:09, 166.01it/s]"
     ]
    },
    {
     "name": "stdout",
     "output_type": "stream",
     "text": [
      "EPOCH: 3330, TRAIN LOSS: 2061.50732421875, TEST LOSS 58.30023193359375\n",
      "EPOCH: 3340, TRAIN LOSS: 2091.41357421875, TEST LOSS 59.506595611572266\n",
      "EPOCH: 3350, TRAIN LOSS: 2092.95458984375, TEST LOSS 54.20311737060547\n",
      "EPOCH: 3360, TRAIN LOSS: 2050.531005859375, TEST LOSS 82.00444030761719\n"
     ]
    },
    {
     "name": "stderr",
     "output_type": "stream",
     "text": [
      " 68%|██████▊   | 3391/4999 [00:20<00:09, 166.15it/s]"
     ]
    },
    {
     "name": "stdout",
     "output_type": "stream",
     "text": [
      "EPOCH: 3370, TRAIN LOSS: 2078.578125, TEST LOSS 55.72557067871094\n",
      "EPOCH: 3380, TRAIN LOSS: 2162.8330078125, TEST LOSS 54.71666717529297\n",
      "EPOCH: 3390, TRAIN LOSS: 2148.669677734375, TEST LOSS 65.3474349975586\n",
      "EPOCH: 3400, TRAIN LOSS: 2133.510986328125, TEST LOSS 81.24114990234375\n"
     ]
    },
    {
     "name": "stderr",
     "output_type": "stream",
     "text": [
      " 69%|██████▊   | 3429/4999 [00:20<00:09, 166.31it/s]"
     ]
    },
    {
     "name": "stdout",
     "output_type": "stream",
     "text": [
      "EPOCH: 3410, TRAIN LOSS: 2064.98046875, TEST LOSS 66.49407196044922\n",
      "EPOCH: 3420, TRAIN LOSS: 2050.37744140625, TEST LOSS 53.004173278808594\n",
      "EPOCH: 3430, TRAIN LOSS: 2006.4368896484375, TEST LOSS 62.682838439941406\n",
      "EPOCH: 3440, TRAIN LOSS: 2057.18798828125, TEST LOSS 71.1197280883789\n"
     ]
    },
    {
     "name": "stderr",
     "output_type": "stream",
     "text": [
      " 70%|██████▉   | 3484/4999 [00:20<00:09, 166.44it/s]"
     ]
    },
    {
     "name": "stdout",
     "output_type": "stream",
     "text": [
      "EPOCH: 3450, TRAIN LOSS: 2094.03076171875, TEST LOSS 42.03459548950195\n",
      "EPOCH: 3460, TRAIN LOSS: 2041.04052734375, TEST LOSS 75.49488830566406\n",
      "EPOCH: 3470, TRAIN LOSS: 2084.0458984375, TEST LOSS 56.731529235839844\n",
      "EPOCH: 3480, TRAIN LOSS: 2090.161865234375, TEST LOSS 64.83951568603516\n"
     ]
    },
    {
     "name": "stderr",
     "output_type": "stream",
     "text": [
      " 70%|███████   | 3520/4999 [00:21<00:08, 166.41it/s]"
     ]
    },
    {
     "name": "stdout",
     "output_type": "stream",
     "text": [
      "EPOCH: 3490, TRAIN LOSS: 2070.45166015625, TEST LOSS 55.637237548828125\n",
      "EPOCH: 3500, TRAIN LOSS: 2068.068359375, TEST LOSS 47.706573486328125\n",
      "EPOCH: 3510, TRAIN LOSS: 2090.1982421875, TEST LOSS 52.175899505615234\n",
      "EPOCH: 3520, TRAIN LOSS: 1996.982421875, TEST LOSS 66.49296569824219\n"
     ]
    },
    {
     "name": "stderr",
     "output_type": "stream",
     "text": [
      " 71%|███████   | 3557/4999 [00:21<00:08, 166.48it/s]"
     ]
    },
    {
     "name": "stdout",
     "output_type": "stream",
     "text": [
      "EPOCH: 3530, TRAIN LOSS: 2020.826416015625, TEST LOSS 56.065185546875\n",
      "EPOCH: 3540, TRAIN LOSS: 2086.2822265625, TEST LOSS 58.98755645751953\n",
      "EPOCH: 3550, TRAIN LOSS: 2095.6494140625, TEST LOSS 47.872802734375\n",
      "EPOCH: 3560, TRAIN LOSS: 2024.3363037109375, TEST LOSS 54.63603210449219\n"
     ]
    },
    {
     "name": "stderr",
     "output_type": "stream",
     "text": [
      " 72%|███████▏  | 3594/4999 [00:21<00:08, 166.53it/s]"
     ]
    },
    {
     "name": "stdout",
     "output_type": "stream",
     "text": [
      "EPOCH: 3570, TRAIN LOSS: 2032.8748779296875, TEST LOSS 49.87078094482422\n",
      "EPOCH: 3580, TRAIN LOSS: 2054.438232421875, TEST LOSS 46.629791259765625\n",
      "EPOCH: 3590, TRAIN LOSS: 2101.260009765625, TEST LOSS 59.90672302246094\n",
      "EPOCH: 3600, TRAIN LOSS: 2063.22216796875, TEST LOSS 65.0179443359375\n"
     ]
    },
    {
     "name": "stderr",
     "output_type": "stream",
     "text": [
      " 73%|███████▎  | 3632/4999 [00:21<00:08, 166.69it/s]"
     ]
    },
    {
     "name": "stdout",
     "output_type": "stream",
     "text": [
      "EPOCH: 3610, TRAIN LOSS: 2096.489990234375, TEST LOSS 47.36033630371094\n",
      "EPOCH: 3620, TRAIN LOSS: 2081.634521484375, TEST LOSS 57.52577209472656\n",
      "EPOCH: 3630, TRAIN LOSS: 1999.2291259765625, TEST LOSS 59.80122756958008\n",
      "EPOCH: 3640, TRAIN LOSS: 2079.44970703125, TEST LOSS 78.31433868408203\n"
     ]
    },
    {
     "name": "stderr",
     "output_type": "stream",
     "text": [
      " 73%|███████▎  | 3668/4999 [00:21<00:07, 166.75it/s]"
     ]
    },
    {
     "name": "stdout",
     "output_type": "stream",
     "text": [
      "EPOCH: 3650, TRAIN LOSS: 2079.126220703125, TEST LOSS 58.04450607299805\n",
      "EPOCH: 3660, TRAIN LOSS: 2044.543212890625, TEST LOSS 54.13657760620117\n",
      "EPOCH: 3670, TRAIN LOSS: 2089.654052734375, TEST LOSS 76.7908935546875\n",
      "EPOCH: 3680, TRAIN LOSS: 2067.1728515625, TEST LOSS 46.70761489868164\n"
     ]
    },
    {
     "name": "stderr",
     "output_type": "stream",
     "text": [
      " 74%|███████▍  | 3722/4999 [00:22<00:07, 166.82it/s]"
     ]
    },
    {
     "name": "stdout",
     "output_type": "stream",
     "text": [
      "EPOCH: 3690, TRAIN LOSS: 2210.531005859375, TEST LOSS 79.89225769042969\n",
      "EPOCH: 3700, TRAIN LOSS: 2089.263671875, TEST LOSS 61.80740737915039\n",
      "EPOCH: 3710, TRAIN LOSS: 2073.63232421875, TEST LOSS 84.80342864990234\n",
      "EPOCH: 3720, TRAIN LOSS: 2044.89013671875, TEST LOSS 73.69059753417969\n"
     ]
    },
    {
     "name": "stderr",
     "output_type": "stream",
     "text": [
      " 75%|███████▌  | 3759/4999 [00:22<00:07, 166.96it/s]"
     ]
    },
    {
     "name": "stdout",
     "output_type": "stream",
     "text": [
      "EPOCH: 3730, TRAIN LOSS: 2074.962158203125, TEST LOSS 64.26992797851562\n",
      "EPOCH: 3740, TRAIN LOSS: 2065.273193359375, TEST LOSS 48.06717300415039\n",
      "EPOCH: 3750, TRAIN LOSS: 2023.5230712890625, TEST LOSS 78.64096069335938\n",
      "EPOCH: 3760, TRAIN LOSS: 2051.577392578125, TEST LOSS 62.594078063964844\n"
     ]
    },
    {
     "name": "stderr",
     "output_type": "stream",
     "text": [
      " 76%|███████▌  | 3795/4999 [00:22<00:07, 167.05it/s]"
     ]
    },
    {
     "name": "stdout",
     "output_type": "stream",
     "text": [
      "EPOCH: 3770, TRAIN LOSS: 2029.703369140625, TEST LOSS 66.04579162597656\n",
      "EPOCH: 3780, TRAIN LOSS: 2010.7080078125, TEST LOSS 57.06034851074219\n",
      "EPOCH: 3790, TRAIN LOSS: 1984.08154296875, TEST LOSS 63.37679672241211\n",
      "EPOCH: 3800, TRAIN LOSS: 2133.033935546875, TEST LOSS 47.567413330078125\n"
     ]
    },
    {
     "name": "stderr",
     "output_type": "stream",
     "text": [
      " 77%|███████▋  | 3831/4999 [00:22<00:06, 167.08it/s]"
     ]
    },
    {
     "name": "stdout",
     "output_type": "stream",
     "text": [
      "EPOCH: 3810, TRAIN LOSS: 2035.8265380859375, TEST LOSS 59.23109436035156\n",
      "EPOCH: 3820, TRAIN LOSS: 2034.372802734375, TEST LOSS 50.82428741455078\n",
      "EPOCH: 3830, TRAIN LOSS: 2061.92724609375, TEST LOSS 75.53189086914062\n",
      "EPOCH: 3840, TRAIN LOSS: 2071.634765625, TEST LOSS 52.128822326660156\n"
     ]
    },
    {
     "name": "stderr",
     "output_type": "stream",
     "text": [
      " 77%|███████▋  | 3867/4999 [00:23<00:06, 166.94it/s]"
     ]
    },
    {
     "name": "stdout",
     "output_type": "stream",
     "text": [
      "EPOCH: 3850, TRAIN LOSS: 2080.47509765625, TEST LOSS 57.82633972167969\n",
      "EPOCH: 3860, TRAIN LOSS: 2098.607666015625, TEST LOSS 75.45792388916016\n",
      "EPOCH: 3870, TRAIN LOSS: 2040.411376953125, TEST LOSS 83.59524536132812\n",
      "EPOCH: 3880, TRAIN LOSS: 2019.3094482421875, TEST LOSS 60.1749267578125\n"
     ]
    },
    {
     "name": "stderr",
     "output_type": "stream",
     "text": [
      " 78%|███████▊  | 3921/4999 [00:23<00:06, 167.05it/s]"
     ]
    },
    {
     "name": "stdout",
     "output_type": "stream",
     "text": [
      "EPOCH: 3890, TRAIN LOSS: 2018.2308349609375, TEST LOSS 89.86080932617188\n",
      "EPOCH: 3900, TRAIN LOSS: 2100.78955078125, TEST LOSS 64.58430480957031\n",
      "EPOCH: 3910, TRAIN LOSS: 2038.279541015625, TEST LOSS 46.94025421142578\n",
      "EPOCH: 3920, TRAIN LOSS: 2075.481689453125, TEST LOSS 69.04391479492188\n"
     ]
    },
    {
     "name": "stderr",
     "output_type": "stream",
     "text": [
      " 79%|███████▉  | 3958/4999 [00:23<00:06, 167.16it/s]"
     ]
    },
    {
     "name": "stdout",
     "output_type": "stream",
     "text": [
      "EPOCH: 3930, TRAIN LOSS: 2162.881103515625, TEST LOSS 79.59993743896484\n",
      "EPOCH: 3940, TRAIN LOSS: 2070.5146484375, TEST LOSS 64.14996337890625\n",
      "EPOCH: 3950, TRAIN LOSS: 2008.936767578125, TEST LOSS 84.05148315429688\n",
      "EPOCH: 3960, TRAIN LOSS: 1950.317138671875, TEST LOSS 49.2220458984375\n"
     ]
    },
    {
     "name": "stderr",
     "output_type": "stream",
     "text": [
      " 80%|███████▉  | 3995/4999 [00:23<00:06, 167.28it/s]"
     ]
    },
    {
     "name": "stdout",
     "output_type": "stream",
     "text": [
      "EPOCH: 3970, TRAIN LOSS: 2023.3775634765625, TEST LOSS 64.27300262451172\n",
      "EPOCH: 3980, TRAIN LOSS: 2018.728515625, TEST LOSS 61.02723693847656\n",
      "EPOCH: 3990, TRAIN LOSS: 2025.6278076171875, TEST LOSS 68.65361022949219\n",
      "EPOCH: 4000, TRAIN LOSS: 2049.760986328125, TEST LOSS 55.3555793762207\n"
     ]
    },
    {
     "name": "stderr",
     "output_type": "stream",
     "text": [
      " 81%|████████  | 4032/4999 [00:24<00:05, 167.39it/s]"
     ]
    },
    {
     "name": "stdout",
     "output_type": "stream",
     "text": [
      "EPOCH: 4010, TRAIN LOSS: 2002.0247802734375, TEST LOSS 67.84590911865234\n",
      "EPOCH: 4020, TRAIN LOSS: 2010.962646484375, TEST LOSS 64.33390045166016\n",
      "EPOCH: 4030, TRAIN LOSS: 2076.392822265625, TEST LOSS 70.49857330322266\n",
      "EPOCH: 4040, TRAIN LOSS: 1932.4632568359375, TEST LOSS 52.01563262939453\n"
     ]
    },
    {
     "name": "stderr",
     "output_type": "stream",
     "text": [
      " 81%|████████▏ | 4069/4999 [00:24<00:05, 167.48it/s]"
     ]
    },
    {
     "name": "stdout",
     "output_type": "stream",
     "text": [
      "EPOCH: 4050, TRAIN LOSS: 2062.039794921875, TEST LOSS 62.664764404296875\n",
      "EPOCH: 4060, TRAIN LOSS: 2085.5380859375, TEST LOSS 67.8922348022461\n",
      "EPOCH: 4070, TRAIN LOSS: 2021.173583984375, TEST LOSS 52.04295349121094\n",
      "EPOCH: 4080, TRAIN LOSS: 1950.44580078125, TEST LOSS 53.781646728515625\n"
     ]
    },
    {
     "name": "stderr",
     "output_type": "stream",
     "text": [
      " 82%|████████▏ | 4124/4999 [00:24<00:05, 167.57it/s]"
     ]
    },
    {
     "name": "stdout",
     "output_type": "stream",
     "text": [
      "EPOCH: 4090, TRAIN LOSS: 1930.5750732421875, TEST LOSS 100.15518951416016\n",
      "EPOCH: 4100, TRAIN LOSS: 2079.396728515625, TEST LOSS 48.641998291015625\n",
      "EPOCH: 4110, TRAIN LOSS: 2032.712890625, TEST LOSS 61.629981994628906\n",
      "EPOCH: 4120, TRAIN LOSS: 2032.999267578125, TEST LOSS 68.70059204101562\n"
     ]
    },
    {
     "name": "stderr",
     "output_type": "stream",
     "text": [
      " 83%|████████▎ | 4162/4999 [00:24<00:04, 167.70it/s]"
     ]
    },
    {
     "name": "stdout",
     "output_type": "stream",
     "text": [
      "EPOCH: 4130, TRAIN LOSS: 1988.38671875, TEST LOSS 48.47610855102539\n",
      "EPOCH: 4140, TRAIN LOSS: 2097.38818359375, TEST LOSS 80.03334045410156\n",
      "EPOCH: 4150, TRAIN LOSS: 1976.88330078125, TEST LOSS 64.63805389404297\n",
      "EPOCH: 4160, TRAIN LOSS: 1962.266845703125, TEST LOSS 67.07939147949219\n"
     ]
    },
    {
     "name": "stderr",
     "output_type": "stream",
     "text": [
      " 84%|████████▍ | 4200/4999 [00:25<00:04, 167.81it/s]"
     ]
    },
    {
     "name": "stdout",
     "output_type": "stream",
     "text": [
      "EPOCH: 4170, TRAIN LOSS: 2026.234619140625, TEST LOSS 55.50738525390625\n",
      "EPOCH: 4180, TRAIN LOSS: 2011.510986328125, TEST LOSS 50.21141052246094\n",
      "EPOCH: 4190, TRAIN LOSS: 2029.5546875, TEST LOSS 48.798824310302734\n",
      "EPOCH: 4200, TRAIN LOSS: 1955.37255859375, TEST LOSS 57.597251892089844\n"
     ]
    },
    {
     "name": "stderr",
     "output_type": "stream",
     "text": [
      " 85%|████████▍ | 4237/4999 [00:25<00:04, 167.88it/s]"
     ]
    },
    {
     "name": "stdout",
     "output_type": "stream",
     "text": [
      "EPOCH: 4210, TRAIN LOSS: 2005.5916748046875, TEST LOSS 65.23552703857422\n",
      "EPOCH: 4220, TRAIN LOSS: 2037.419189453125, TEST LOSS 61.96764373779297\n",
      "EPOCH: 4230, TRAIN LOSS: 2016.22412109375, TEST LOSS 50.647254943847656\n",
      "EPOCH: 4240, TRAIN LOSS: 2009.8077392578125, TEST LOSS 41.94554138183594\n"
     ]
    },
    {
     "name": "stderr",
     "output_type": "stream",
     "text": [
      " 85%|████████▌ | 4273/4999 [00:25<00:04, 167.94it/s]"
     ]
    },
    {
     "name": "stdout",
     "output_type": "stream",
     "text": [
      "EPOCH: 4250, TRAIN LOSS: 2087.611328125, TEST LOSS 90.00689697265625\n",
      "EPOCH: 4260, TRAIN LOSS: 2013.22265625, TEST LOSS 74.66850280761719\n",
      "EPOCH: 4270, TRAIN LOSS: 2028.1171875, TEST LOSS 67.60108947753906\n",
      "EPOCH: 4280, TRAIN LOSS: 1958.239501953125, TEST LOSS 60.627830505371094\n"
     ]
    },
    {
     "name": "stderr",
     "output_type": "stream",
     "text": [
      " 86%|████████▌ | 4309/4999 [00:25<00:04, 167.99it/s]"
     ]
    },
    {
     "name": "stdout",
     "output_type": "stream",
     "text": [
      "EPOCH: 4290, TRAIN LOSS: 2014.0751953125, TEST LOSS 51.522850036621094\n",
      "EPOCH: 4300, TRAIN LOSS: 2058.372314453125, TEST LOSS 64.41620635986328\n",
      "EPOCH: 4310, TRAIN LOSS: 2054.189453125, TEST LOSS 68.8840103149414\n",
      "EPOCH: 4320, TRAIN LOSS: 2074.41943359375, TEST LOSS 71.77559661865234\n"
     ]
    },
    {
     "name": "stderr",
     "output_type": "stream",
     "text": [
      " 87%|████████▋ | 4345/4999 [00:25<00:03, 167.64it/s]"
     ]
    },
    {
     "name": "stdout",
     "output_type": "stream",
     "text": [
      "EPOCH: 4330, TRAIN LOSS: 2051.1357421875, TEST LOSS 55.96656799316406\n",
      "EPOCH: 4340, TRAIN LOSS: 2027.197998046875, TEST LOSS 44.156654357910156\n",
      "EPOCH: 4350, TRAIN LOSS: 2060.15966796875, TEST LOSS 61.47119140625\n"
     ]
    },
    {
     "name": "stderr",
     "output_type": "stream",
     "text": [
      " 88%|████████▊ | 4375/4999 [00:26<00:03, 166.52it/s]"
     ]
    },
    {
     "name": "stdout",
     "output_type": "stream",
     "text": [
      "EPOCH: 4360, TRAIN LOSS: 2023.4556884765625, TEST LOSS 66.83734893798828\n",
      "EPOCH: 4370, TRAIN LOSS: 1980.7528076171875, TEST LOSS 73.89335632324219\n",
      "EPOCH: 4380, TRAIN LOSS: 1993.7125244140625, TEST LOSS 63.004859924316406\n"
     ]
    },
    {
     "name": "stderr",
     "output_type": "stream",
     "text": [
      " 88%|████████▊ | 4416/4999 [00:26<00:03, 165.99it/s]"
     ]
    },
    {
     "name": "stdout",
     "output_type": "stream",
     "text": [
      "EPOCH: 4390, TRAIN LOSS: 1967.4564208984375, TEST LOSS 58.805686950683594\n",
      "EPOCH: 4400, TRAIN LOSS: 2009.71484375, TEST LOSS 51.778804779052734\n",
      "EPOCH: 4410, TRAIN LOSS: 1972.0302734375, TEST LOSS 63.03126525878906\n"
     ]
    },
    {
     "name": "stderr",
     "output_type": "stream",
     "text": [
      " 89%|████████▉ | 4443/4999 [00:26<00:03, 165.72it/s]"
     ]
    },
    {
     "name": "stdout",
     "output_type": "stream",
     "text": [
      "EPOCH: 4420, TRAIN LOSS: 1949.0465087890625, TEST LOSS 68.14706420898438\n",
      "EPOCH: 4430, TRAIN LOSS: 1993.089111328125, TEST LOSS 51.05876922607422\n",
      "EPOCH: 4440, TRAIN LOSS: 1995.3466796875, TEST LOSS 74.32038116455078\n"
     ]
    },
    {
     "name": "stderr",
     "output_type": "stream",
     "text": [
      " 89%|████████▉ | 4470/4999 [00:27<00:03, 165.28it/s]"
     ]
    },
    {
     "name": "stdout",
     "output_type": "stream",
     "text": [
      "EPOCH: 4450, TRAIN LOSS: 1940.4207763671875, TEST LOSS 55.40403747558594\n",
      "EPOCH: 4460, TRAIN LOSS: 2006.31494140625, TEST LOSS 69.57514953613281\n",
      "EPOCH: 4470, TRAIN LOSS: 1982.18310546875, TEST LOSS 56.02783966064453\n"
     ]
    },
    {
     "name": "stderr",
     "output_type": "stream",
     "text": [
      " 90%|████████▉ | 4499/4999 [00:27<00:03, 165.08it/s]"
     ]
    },
    {
     "name": "stdout",
     "output_type": "stream",
     "text": [
      "EPOCH: 4480, TRAIN LOSS: 2019.35205078125, TEST LOSS 67.00525665283203\n",
      "EPOCH: 4490, TRAIN LOSS: 2023.64111328125, TEST LOSS 48.033653259277344\n",
      "EPOCH: 4500, TRAIN LOSS: 2014.5911865234375, TEST LOSS 85.41758728027344\n",
      "EPOCH: 4510, TRAIN LOSS: 1986.32763671875, TEST LOSS 67.39469909667969\n"
     ]
    },
    {
     "name": "stderr",
     "output_type": "stream",
     "text": [
      " 91%|█████████ | 4551/4999 [00:27<00:02, 165.12it/s]"
     ]
    },
    {
     "name": "stdout",
     "output_type": "stream",
     "text": [
      "EPOCH: 4520, TRAIN LOSS: 2004.1812744140625, TEST LOSS 63.279388427734375\n",
      "EPOCH: 4530, TRAIN LOSS: 1933.5887451171875, TEST LOSS 60.39237976074219\n",
      "EPOCH: 4540, TRAIN LOSS: 1940.748779296875, TEST LOSS 77.77096557617188\n",
      "EPOCH: 4550, TRAIN LOSS: 2113.788330078125, TEST LOSS 66.91285705566406\n"
     ]
    },
    {
     "name": "stderr",
     "output_type": "stream",
     "text": [
      " 92%|█████████▏| 4586/4999 [00:27<00:02, 165.14it/s]"
     ]
    },
    {
     "name": "stdout",
     "output_type": "stream",
     "text": [
      "EPOCH: 4560, TRAIN LOSS: 1938.536376953125, TEST LOSS 74.17314910888672\n",
      "EPOCH: 4570, TRAIN LOSS: 1925.666015625, TEST LOSS 60.204444885253906\n",
      "EPOCH: 4580, TRAIN LOSS: 2016.96923828125, TEST LOSS 81.44805145263672\n",
      "EPOCH: 4590, TRAIN LOSS: 1962.658935546875, TEST LOSS 75.7470474243164\n"
     ]
    },
    {
     "name": "stderr",
     "output_type": "stream",
     "text": [
      " 92%|█████████▏| 4621/4999 [00:27<00:02, 165.18it/s]"
     ]
    },
    {
     "name": "stdout",
     "output_type": "stream",
     "text": [
      "EPOCH: 4600, TRAIN LOSS: 1918.2611083984375, TEST LOSS 57.692962646484375\n",
      "EPOCH: 4610, TRAIN LOSS: 1921.6295166015625, TEST LOSS 60.271827697753906\n",
      "EPOCH: 4620, TRAIN LOSS: 2019.153564453125, TEST LOSS 56.796669006347656\n",
      "EPOCH: 4630, TRAIN LOSS: 1919.2506103515625, TEST LOSS 71.33833312988281\n"
     ]
    },
    {
     "name": "stderr",
     "output_type": "stream",
     "text": [
      " 94%|█████████▎| 4675/4999 [00:28<00:01, 165.28it/s]"
     ]
    },
    {
     "name": "stdout",
     "output_type": "stream",
     "text": [
      "EPOCH: 4640, TRAIN LOSS: 1969.38427734375, TEST LOSS 86.21183013916016\n",
      "EPOCH: 4650, TRAIN LOSS: 2026.1976318359375, TEST LOSS 62.20585632324219\n",
      "EPOCH: 4660, TRAIN LOSS: 1990.6668701171875, TEST LOSS 45.7756462097168\n",
      "EPOCH: 4670, TRAIN LOSS: 1994.09423828125, TEST LOSS 65.01725769042969\n"
     ]
    },
    {
     "name": "stderr",
     "output_type": "stream",
     "text": [
      " 94%|█████████▍| 4711/4999 [00:28<00:01, 165.31it/s]"
     ]
    },
    {
     "name": "stdout",
     "output_type": "stream",
     "text": [
      "EPOCH: 4680, TRAIN LOSS: 2028.240234375, TEST LOSS 48.52566146850586\n",
      "EPOCH: 4690, TRAIN LOSS: 1974.2017822265625, TEST LOSS 56.39065170288086\n",
      "EPOCH: 4700, TRAIN LOSS: 2020.93212890625, TEST LOSS 60.27377700805664\n",
      "EPOCH: 4710, TRAIN LOSS: 1936.83349609375, TEST LOSS 57.56073760986328\n"
     ]
    },
    {
     "name": "stderr",
     "output_type": "stream",
     "text": [
      " 95%|█████████▍| 4748/4999 [00:28<00:01, 165.39it/s]"
     ]
    },
    {
     "name": "stdout",
     "output_type": "stream",
     "text": [
      "EPOCH: 4720, TRAIN LOSS: 2059.619384765625, TEST LOSS 77.10453796386719\n",
      "EPOCH: 4730, TRAIN LOSS: 1960.9599609375, TEST LOSS 64.07734680175781\n",
      "EPOCH: 4740, TRAIN LOSS: 1988.709716796875, TEST LOSS 79.66734313964844\n",
      "EPOCH: 4750, TRAIN LOSS: 1937.730712890625, TEST LOSS 79.78736114501953\n"
     ]
    },
    {
     "name": "stderr",
     "output_type": "stream",
     "text": [
      " 96%|█████████▌| 4784/4999 [00:28<00:01, 165.42it/s]"
     ]
    },
    {
     "name": "stdout",
     "output_type": "stream",
     "text": [
      "EPOCH: 4760, TRAIN LOSS: 1986.7227783203125, TEST LOSS 47.66364288330078\n",
      "EPOCH: 4770, TRAIN LOSS: 1973.2042236328125, TEST LOSS 60.223716735839844\n",
      "EPOCH: 4780, TRAIN LOSS: 2001.4471435546875, TEST LOSS 73.53474426269531\n",
      "EPOCH: 4790, TRAIN LOSS: 2132.02099609375, TEST LOSS 65.30496215820312\n"
     ]
    },
    {
     "name": "stderr",
     "output_type": "stream",
     "text": [
      " 96%|█████████▋| 4820/4999 [00:29<00:01, 165.48it/s]"
     ]
    },
    {
     "name": "stdout",
     "output_type": "stream",
     "text": [
      "EPOCH: 4800, TRAIN LOSS: 1959.133544921875, TEST LOSS 45.72225570678711\n",
      "EPOCH: 4810, TRAIN LOSS: 1953.0880126953125, TEST LOSS 61.34743118286133\n",
      "EPOCH: 4820, TRAIN LOSS: 1954.361572265625, TEST LOSS 94.60649871826172\n",
      "EPOCH: 4830, TRAIN LOSS: 1974.38037109375, TEST LOSS 77.5087890625\n"
     ]
    },
    {
     "name": "stderr",
     "output_type": "stream",
     "text": [
      " 98%|█████████▊| 4875/4999 [00:29<00:00, 165.59it/s]"
     ]
    },
    {
     "name": "stdout",
     "output_type": "stream",
     "text": [
      "EPOCH: 4840, TRAIN LOSS: 1944.800537109375, TEST LOSS 71.80673217773438\n",
      "EPOCH: 4850, TRAIN LOSS: 1983.8226318359375, TEST LOSS 72.70068359375\n",
      "EPOCH: 4860, TRAIN LOSS: 1955.3212890625, TEST LOSS 75.5531005859375\n",
      "EPOCH: 4870, TRAIN LOSS: 1949.5206298828125, TEST LOSS 61.70474624633789\n"
     ]
    },
    {
     "name": "stderr",
     "output_type": "stream",
     "text": [
      " 98%|█████████▊| 4911/4999 [00:29<00:00, 165.63it/s]"
     ]
    },
    {
     "name": "stdout",
     "output_type": "stream",
     "text": [
      "EPOCH: 4880, TRAIN LOSS: 1983.311279296875, TEST LOSS 56.20811462402344\n",
      "EPOCH: 4890, TRAIN LOSS: 1952.534423828125, TEST LOSS 70.2987060546875\n",
      "EPOCH: 4900, TRAIN LOSS: 1924.532470703125, TEST LOSS 69.97403717041016\n",
      "EPOCH: 4910, TRAIN LOSS: 1921.8443603515625, TEST LOSS 80.82601165771484\n"
     ]
    },
    {
     "name": "stderr",
     "output_type": "stream",
     "text": [
      " 99%|█████████▉| 4947/4999 [00:29<00:00, 165.62it/s]"
     ]
    },
    {
     "name": "stdout",
     "output_type": "stream",
     "text": [
      "EPOCH: 4920, TRAIN LOSS: 2004.56787109375, TEST LOSS 59.87004089355469\n",
      "EPOCH: 4930, TRAIN LOSS: 2068.346923828125, TEST LOSS 64.72772979736328\n",
      "EPOCH: 4940, TRAIN LOSS: 1990.1883544921875, TEST LOSS 104.54320526123047\n",
      "EPOCH: 4950, TRAIN LOSS: 1893.645751953125, TEST LOSS 77.3018798828125\n"
     ]
    },
    {
     "name": "stderr",
     "output_type": "stream",
     "text": [
      "100%|█████████▉| 4982/4999 [00:30<00:00, 165.67it/s]"
     ]
    },
    {
     "name": "stdout",
     "output_type": "stream",
     "text": [
      "EPOCH: 4960, TRAIN LOSS: 1955.8157958984375, TEST LOSS 51.73723602294922\n",
      "EPOCH: 4970, TRAIN LOSS: 2003.1929931640625, TEST LOSS 70.36030578613281\n",
      "EPOCH: 4980, TRAIN LOSS: 2016.199462890625, TEST LOSS 63.51121520996094\n",
      "EPOCH: 4990, TRAIN LOSS: 2016.95947265625, TEST LOSS 53.41533660888672\n"
     ]
    },
    {
     "name": "stderr",
     "output_type": "stream",
     "text": [
      "100%|██████████| 4999/4999 [00:30<00:00, 165.67it/s]\n"
     ]
    },
    {
     "data": {
      "image/png": "[encoded data removed]",
      "text/plain": [
       "<matplotlib.figure.Figure at 0x1a23876d30>"
      ]
     },
     "metadata": {},
     "output_type": "display_data"
    },
    {
     "data": {
      "text/plain": [
       "(VAE(\n",
       "   (fc1): Linear(in_features=100, out_features=66, bias=True)\n",
       "   (fc21): Linear(in_features=66, out_features=25, bias=True)\n",
       "   (fc22): Linear(in_features=66, out_features=25, bias=True)\n",
       "   (fc3): Linear(in_features=25, out_features=66, bias=True)\n",
       "   (fc4): Linear(in_features=66, out_features=100, bias=True)\n",
       " ), tensor([[[ 0.,  0.,  0.,  ...,  0.,  0.,  0.],\n",
       "          [ 0.,  0.,  0.,  ...,  0.,  0.,  0.],\n",
       "          [ 0.,  0.,  0.,  ...,  0.,  0.,  0.],\n",
       "          ...,\n",
       "          [ 0.,  0.,  0.,  ...,  0.,  0.,  1.],\n",
       "          [ 0.,  0.,  0.,  ...,  0.,  0.,  0.],\n",
       "          [ 0.,  0.,  0.,  ...,  1.,  0.,  0.]],\n",
       " \n",
       "         [[ 0.,  0.,  0.,  ...,  0.,  0.,  0.],\n",
       "          [ 0.,  0.,  0.,  ...,  1.,  0.,  0.],\n",
       "          [ 0.,  0.,  0.,  ...,  0.,  1.,  0.],\n",
       "          ...,\n",
       "          [ 0.,  1.,  0.,  ...,  0.,  0.,  0.],\n",
       "          [ 0.,  0.,  1.,  ...,  0.,  0.,  0.],\n",
       "          [ 0.,  0.,  0.,  ...,  0.,  0.,  0.]],\n",
       " \n",
       "         [[ 0.,  0.,  0.,  ...,  0.,  0.,  0.],\n",
       "          [ 0.,  0.,  0.,  ...,  0.,  1.,  0.],\n",
       "          [ 0.,  0.,  0.,  ...,  0.,  0.,  0.],\n",
       "          ...,\n",
       "          [ 0.,  0.,  0.,  ...,  0.,  0.,  0.],\n",
       "          [ 0.,  1.,  0.,  ...,  0.,  0.,  0.],\n",
       "          [ 0.,  0.,  0.,  ...,  0.,  0.,  0.]],\n",
       " \n",
       "         ...,\n",
       " \n",
       "         [[ 0.,  0.,  0.,  ...,  0.,  0.,  0.],\n",
       "          [ 0.,  0.,  0.,  ...,  0.,  0.,  1.],\n",
       "          [ 0.,  0.,  0.,  ...,  0.,  1.,  0.],\n",
       "          ...,\n",
       "          [ 0.,  0.,  0.,  ...,  0.,  0.,  0.],\n",
       "          [ 0.,  0.,  1.,  ...,  0.,  0.,  0.],\n",
       "          [ 0.,  1.,  0.,  ...,  0.,  0.,  0.]],\n",
       " \n",
       "         [[ 0.,  0.,  0.,  ...,  0.,  0.,  0.],\n",
       "          [ 0.,  0.,  0.,  ...,  0.,  0.,  0.],\n",
       "          [ 0.,  0.,  0.,  ...,  0.,  0.,  0.],\n",
       "          ...,\n",
       "          [ 0.,  0.,  0.,  ...,  0.,  0.,  0.],\n",
       "          [ 0.,  0.,  0.,  ...,  0.,  0.,  0.],\n",
       "          [ 0.,  0.,  0.,  ...,  0.,  0.,  0.]],\n",
       " \n",
       "         [[ 0.,  0.,  1.,  ...,  0.,  0.,  0.],\n",
       "          [ 0.,  0.,  0.,  ...,  0.,  0.,  1.],\n",
       "          [ 1.,  0.,  0.,  ...,  0.,  0.,  0.],\n",
       "          ...,\n",
       "          [ 0.,  0.,  0.,  ...,  0.,  1.,  0.],\n",
       "          [ 0.,  0.,  0.,  ...,  1.,  0.,  0.],\n",
       "          [ 0.,  1.,  0.,  ...,  0.,  0.,  0.]]]))"
      ]
     },
     "execution_count": 629,
     "metadata": {},
     "output_type": "execute_result"
    }
   ],
   "source": [
    "# тест c VAE моделькой\n",
    "SPD.run_test_vae_mutag(10, n_iterations=5000)"
   ]
  },
  {
   "cell_type": "code",
   "execution_count": 661,
   "metadata": {
    "collapsed": false,
    "deletable": true,
    "editable": true
   },
   "outputs": [
    {
     "name": "stdout",
     "output_type": "stream",
     "text": [
      "Reading graphs ...\n",
      "---:  mutag_1.graphml\n",
      "---:  mutag_2.graphml\n",
      "---:  mutag_3.graphml\n",
      "---:  mutag_4.graphml\n",
      "---:  mutag_5.graphml\n",
      "---:  mutag_6.graphml\n",
      "---:  mutag_7.graphml\n",
      "---:  mutag_8.graphml\n",
      "---:  mutag_9.graphml\n",
      "---:  mutag_10.graphml\n",
      "---:  mutag_11.graphml\n",
      "---:  mutag_12.graphml\n",
      "---:  mutag_13.graphml\n",
      "---:  mutag_14.graphml\n",
      "---:  mutag_15.graphml\n",
      "---:  mutag_16.graphml\n",
      "---:  mutag_17.graphml\n",
      "---:  mutag_18.graphml\n",
      "---:  mutag_19.graphml\n",
      "---:  mutag_20.graphml\n",
      "---:  mutag_21.graphml\n",
      "---:  mutag_22.graphml\n",
      "---:  mutag_23.graphml\n",
      "---:  mutag_24.graphml\n",
      "---:  mutag_25.graphml\n",
      "---:  mutag_26.graphml\n",
      "---:  mutag_27.graphml\n",
      "---:  mutag_28.graphml\n",
      "---:  mutag_29.graphml\n",
      "---:  mutag_30.graphml\n",
      "---:  mutag_31.graphml\n",
      "---:  mutag_32.graphml\n",
      "---:  mutag_33.graphml\n",
      "---:  mutag_34.graphml\n",
      "---:  mutag_35.graphml\n",
      "---:  mutag_36.graphml\n",
      "---:  mutag_37.graphml\n",
      "---:  mutag_38.graphml\n",
      "---:  mutag_39.graphml\n",
      "---:  mutag_40.graphml\n",
      "---:  mutag_41.graphml\n",
      "---:  mutag_42.graphml\n",
      "---:  mutag_43.graphml\n",
      "---:  mutag_44.graphml\n",
      "---:  mutag_45.graphml\n",
      "---:  mutag_46.graphml\n",
      "---:  mutag_47.graphml\n",
      "---:  mutag_48.graphml\n",
      "---:  mutag_49.graphml\n",
      "---:  mutag_50.graphml\n",
      "---:  mutag_51.graphml\n",
      "---:  mutag_52.graphml\n",
      "---:  mutag_53.graphml\n",
      "---:  mutag_54.graphml\n",
      "---:  mutag_55.graphml\n",
      "---:  mutag_56.graphml\n",
      "---:  mutag_57.graphml\n",
      "---:  mutag_58.graphml\n",
      "---:  mutag_59.graphml\n",
      "---:  mutag_60.graphml\n",
      "---:  mutag_61.graphml\n",
      "---:  mutag_62.graphml\n",
      "---:  mutag_63.graphml\n",
      "---:  mutag_64.graphml\n",
      "---:  mutag_65.graphml\n",
      "---:  mutag_66.graphml\n",
      "---:  mutag_67.graphml\n",
      "---:  mutag_68.graphml\n",
      "---:  mutag_69.graphml\n",
      "---:  mutag_70.graphml\n",
      "---:  mutag_71.graphml\n",
      "---:  mutag_72.graphml\n",
      "---:  mutag_73.graphml\n",
      "---:  mutag_74.graphml\n",
      "---:  mutag_75.graphml\n",
      "---:  mutag_76.graphml\n",
      "---:  mutag_77.graphml\n",
      "---:  mutag_78.graphml\n",
      "---:  mutag_79.graphml\n",
      "---:  mutag_80.graphml\n",
      "---:  mutag_81.graphml\n",
      "---:  mutag_82.graphml\n",
      "---:  mutag_83.graphml\n",
      "---:  mutag_84.graphml\n",
      "---:  mutag_85.graphml\n",
      "---:  mutag_86.graphml\n",
      "---:  mutag_87.graphml\n",
      "---:  mutag_88.graphml\n",
      "---:  mutag_89.graphml\n",
      "---:  mutag_90.graphml\n",
      "---:  mutag_91.graphml\n",
      "---:  mutag_92.graphml\n",
      "---:  mutag_93.graphml\n",
      "---:  mutag_94.graphml\n",
      "---:  mutag_95.graphml\n",
      "---:  mutag_96.graphml\n",
      "---:  mutag_97.graphml\n",
      "---:  mutag_98.graphml\n",
      "---:  mutag_99.graphml\n",
      "---:  mutag_100.graphml\n",
      "---:  mutag_101.graphml\n",
      "---:  mutag_102.graphml\n",
      "---:  mutag_103.graphml\n",
      "---:  mutag_104.graphml\n",
      "---:  mutag_105.graphml\n",
      "---:  mutag_106.graphml\n",
      "---:  mutag_107.graphml\n",
      "---:  mutag_108.graphml\n",
      "---:  mutag_109.graphml\n",
      "---:  mutag_110.graphml\n",
      "---:  mutag_111.graphml\n",
      "---:  mutag_112.graphml\n",
      "---:  mutag_113.graphml\n",
      "---:  mutag_114.graphml\n",
      "---:  mutag_115.graphml\n",
      "---:  mutag_116.graphml\n",
      "---:  mutag_117.graphml\n",
      "---:  mutag_118.graphml\n",
      "---:  mutag_119.graphml\n",
      "---:  mutag_120.graphml\n",
      "---:  mutag_121.graphml\n",
      "---:  mutag_122.graphml\n",
      "---:  mutag_123.graphml\n",
      "---:  mutag_124.graphml\n",
      "---:  mutag_125.graphml\n",
      "---:  mutag_126.graphml\n",
      "---:  mutag_127.graphml\n",
      "---:  mutag_128.graphml\n",
      "---:  mutag_129.graphml\n",
      "---:  mutag_130.graphml\n",
      "---:  mutag_131.graphml\n",
      "---:  mutag_132.graphml\n",
      "---:  mutag_133.graphml\n",
      "---:  mutag_134.graphml\n",
      "---:  mutag_135.graphml\n",
      "---:  mutag_136.graphml\n",
      "---:  mutag_137.graphml\n",
      "---:  mutag_138.graphml\n",
      "---:  mutag_139.graphml\n",
      "---:  mutag_140.graphml\n",
      "---:  mutag_141.graphml\n",
      "---:  mutag_142.graphml\n",
      "---:  mutag_143.graphml\n",
      "---:  mutag_144.graphml\n",
      "---:  mutag_145.graphml\n",
      "---:  mutag_146.graphml\n",
      "---:  mutag_147.graphml\n"
     ]
    },
    {
     "name": "stderr",
     "output_type": "stream",
     "text": [
      "  0%|          | 0/199 [00:00<?, ?it/s]/Users/Macbook/Desktop/MIPT/Optimization_course/SPD_reduce/SPD.py:317: UserWarning: invalid index of a 0-dim tensor. This will be an error in PyTorch 0.5. Use tensor.item() to convert a 0-dim tensor to a Python number\n",
      "  loss_data.append((loss_train.data[0], float(loss_test.data[0])))\n",
      "  5%|▍         | 9/199 [00:00<00:08, 22.51it/s]/Users/Macbook/Desktop/MIPT/Optimization_course/SPD_reduce/SPD.py:312: UserWarning: invalid index of a 0-dim tensor. This will be an error in PyTorch 0.5. Use tensor.item() to convert a 0-dim tensor to a Python number\n",
      "  print(\"EPOCH: {0}, TRAIN LOSS: {1}, TEST LOSS\".format(epoch, loss_train.data[0]), float(loss_test.data[0]))\n",
      "  6%|▌         | 12/199 [00:00<00:08, 22.28it/s]"
     ]
    },
    {
     "name": "stdout",
     "output_type": "stream",
     "text": [
      "---:  mutag_148.graphml\n",
      "---:  mutag_149.graphml\n",
      "---:  mutag_150.graphml\n",
      "---:  mutag_151.graphml\n",
      "---:  mutag_152.graphml\n",
      "---:  mutag_153.graphml\n",
      "---:  mutag_154.graphml\n",
      "---:  mutag_155.graphml\n",
      "---:  mutag_156.graphml\n",
      "---:  mutag_157.graphml\n",
      "---:  mutag_158.graphml\n",
      "---:  mutag_159.graphml\n",
      "---:  mutag_160.graphml\n",
      "---:  mutag_161.graphml\n",
      "---:  mutag_162.graphml\n",
      "---:  mutag_163.graphml\n",
      "---:  mutag_164.graphml\n",
      "---:  mutag_165.graphml\n",
      "---:  mutag_166.graphml\n",
      "---:  mutag_167.graphml\n",
      "---:  mutag_168.graphml\n",
      "---:  mutag_169.graphml\n",
      "---:  mutag_170.graphml\n",
      "---:  mutag_171.graphml\n",
      "---:  mutag_172.graphml\n",
      "---:  mutag_173.graphml\n",
      "---:  mutag_174.graphml\n",
      "---:  mutag_175.graphml\n",
      "---:  mutag_176.graphml\n",
      "---:  mutag_177.graphml\n",
      "---:  mutag_178.graphml\n",
      "---:  mutag_179.graphml\n",
      "---:  mutag_180.graphml\n",
      "---:  mutag_181.graphml\n",
      "---:  mutag_182.graphml\n",
      "---:  mutag_183.graphml\n",
      "---:  mutag_184.graphml\n",
      "---:  mutag_185.graphml\n",
      "---:  mutag_186.graphml\n",
      "---:  mutag_187.graphml\n",
      "---:  mutag_188.graphml\n",
      "EPOCH: 10, TRAIN LOSS: 0.3239057660102844, TEST LOSS 0.3026762902736664\n"
     ]
    },
    {
     "name": "stderr",
     "output_type": "stream",
     "text": [
      " 12%|█▏        | 23/199 [00:01<00:08, 21.76it/s]"
     ]
    },
    {
     "name": "stdout",
     "output_type": "stream",
     "text": [
      "EPOCH: 20, TRAIN LOSS: 0.14611342549324036, TEST LOSS 0.14572131633758545\n"
     ]
    },
    {
     "name": "stderr",
     "output_type": "stream",
     "text": [
      " 16%|█▌        | 32/199 [00:01<00:07, 21.70it/s]"
     ]
    },
    {
     "name": "stdout",
     "output_type": "stream",
     "text": [
      "EPOCH: 30, TRAIN LOSS: 0.13143573701381683, TEST LOSS 0.13874071836471558\n"
     ]
    },
    {
     "name": "stderr",
     "output_type": "stream",
     "text": [
      " 22%|██▏       | 44/199 [00:02<00:07, 19.87it/s]"
     ]
    },
    {
     "name": "stdout",
     "output_type": "stream",
     "text": [
      "EPOCH: 40, TRAIN LOSS: 0.12582707405090332, TEST LOSS 0.12487766891717911\n"
     ]
    },
    {
     "name": "stderr",
     "output_type": "stream",
     "text": [
      " 26%|██▌       | 52/199 [00:02<00:07, 20.04it/s]"
     ]
    },
    {
     "name": "stdout",
     "output_type": "stream",
     "text": [
      "EPOCH: 50, TRAIN LOSS: 0.12440881878137589, TEST LOSS 0.12449484318494797\n"
     ]
    },
    {
     "name": "stderr",
     "output_type": "stream",
     "text": [
      " 31%|███       | 62/199 [00:03<00:07, 19.27it/s]"
     ]
    },
    {
     "name": "stdout",
     "output_type": "stream",
     "text": [
      "EPOCH: 60, TRAIN LOSS: 0.12250521779060364, TEST LOSS 0.12260595709085464\n"
     ]
    },
    {
     "name": "stderr",
     "output_type": "stream",
     "text": [
      " 37%|███▋      | 73/199 [00:03<00:06, 19.48it/s]"
     ]
    },
    {
     "name": "stdout",
     "output_type": "stream",
     "text": [
      "EPOCH: 70, TRAIN LOSS: 0.12054916471242905, TEST LOSS 0.12064839899539948\n"
     ]
    },
    {
     "name": "stderr",
     "output_type": "stream",
     "text": [
      " 42%|████▏     | 83/199 [00:04<00:05, 19.40it/s]"
     ]
    },
    {
     "name": "stdout",
     "output_type": "stream",
     "text": [
      "EPOCH: 80, TRAIN LOSS: 0.12023970484733582, TEST LOSS 0.12040434777736664\n"
     ]
    },
    {
     "name": "stderr",
     "output_type": "stream",
     "text": [
      " 47%|████▋     | 93/199 [00:04<00:05, 19.20it/s]"
     ]
    },
    {
     "name": "stdout",
     "output_type": "stream",
     "text": [
      "EPOCH: 90, TRAIN LOSS: 0.11967432498931885, TEST LOSS 0.11981910467147827\n"
     ]
    },
    {
     "name": "stderr",
     "output_type": "stream",
     "text": [
      " 51%|█████     | 101/199 [00:05<00:05, 19.05it/s]"
     ]
    },
    {
     "name": "stdout",
     "output_type": "stream",
     "text": [
      "EPOCH: 100, TRAIN LOSS: 0.11915827542543411, TEST LOSS 0.11912261694669724\n"
     ]
    },
    {
     "name": "stderr",
     "output_type": "stream",
     "text": [
      " 57%|█████▋    | 113/199 [00:05<00:04, 19.02it/s]"
     ]
    },
    {
     "name": "stdout",
     "output_type": "stream",
     "text": [
      "EPOCH: 110, TRAIN LOSS: 0.11862742900848389, TEST LOSS 0.11916164308786392\n"
     ]
    },
    {
     "name": "stderr",
     "output_type": "stream",
     "text": [
      " 62%|██████▏   | 123/199 [00:06<00:03, 19.12it/s]"
     ]
    },
    {
     "name": "stdout",
     "output_type": "stream",
     "text": [
      "EPOCH: 120, TRAIN LOSS: 0.11836675554513931, TEST LOSS 0.1192394271492958\n"
     ]
    },
    {
     "name": "stderr",
     "output_type": "stream",
     "text": [
      " 66%|██████▋   | 132/199 [00:06<00:03, 19.24it/s]"
     ]
    },
    {
     "name": "stdout",
     "output_type": "stream",
     "text": [
      "EPOCH: 130, TRAIN LOSS: 0.11813563108444214, TEST LOSS 0.11918319016695023\n"
     ]
    },
    {
     "name": "stderr",
     "output_type": "stream",
     "text": [
      " 72%|███████▏  | 144/199 [00:07<00:02, 19.42it/s]"
     ]
    },
    {
     "name": "stdout",
     "output_type": "stream",
     "text": [
      "EPOCH: 140, TRAIN LOSS: 0.11795154213905334, TEST LOSS 0.11920249462127686\n"
     ]
    },
    {
     "name": "stderr",
     "output_type": "stream",
     "text": [
      " 77%|███████▋  | 153/199 [00:07<00:02, 19.38it/s]"
     ]
    },
    {
     "name": "stdout",
     "output_type": "stream",
     "text": [
      "EPOCH: 150, TRAIN LOSS: 0.11750530451536179, TEST LOSS 0.11928265541791916\n"
     ]
    },
    {
     "name": "stderr",
     "output_type": "stream",
     "text": [
      " 81%|████████  | 161/199 [00:08<00:01, 19.42it/s]"
     ]
    },
    {
     "name": "stdout",
     "output_type": "stream",
     "text": [
      "EPOCH: 160, TRAIN LOSS: 0.11699243634939194, TEST LOSS 0.1189749464392662\n"
     ]
    },
    {
     "name": "stderr",
     "output_type": "stream",
     "text": [
      " 86%|████████▋ | 172/199 [00:08<00:01, 19.35it/s]"
     ]
    },
    {
     "name": "stdout",
     "output_type": "stream",
     "text": [
      "EPOCH: 170, TRAIN LOSS: 0.11672215908765793, TEST LOSS 0.11859949678182602\n"
     ]
    },
    {
     "name": "stderr",
     "output_type": "stream",
     "text": [
      " 92%|█████████▏| 184/199 [00:09<00:00, 19.45it/s]"
     ]
    },
    {
     "name": "stdout",
     "output_type": "stream",
     "text": [
      "EPOCH: 180, TRAIN LOSS: 0.1164478287100792, TEST LOSS 0.11834581196308136\n"
     ]
    },
    {
     "name": "stderr",
     "output_type": "stream",
     "text": [
      " 97%|█████████▋| 193/199 [00:09<00:00, 19.51it/s]"
     ]
    },
    {
     "name": "stdout",
     "output_type": "stream",
     "text": [
      "EPOCH: 190, TRAIN LOSS: 0.11623617261648178, TEST LOSS 0.1183684766292572\n"
     ]
    },
    {
     "name": "stderr",
     "output_type": "stream",
     "text": [
      "100%|██████████| 199/199 [00:10<00:00, 19.46it/s]\n"
     ]
    },
    {
     "data": {
      "image/png": "[encoded data removed]",
      "text/plain": [
       "<matplotlib.figure.Figure at 0x1a23639240>"
      ]
     },
     "metadata": {},
     "output_type": "display_data"
    },
    {
     "data": {
      "text/plain": [
       "(MatrixEncoder(\n",
       "   (encoder): Sequential(\n",
       "     (0): Linear2D()\n",
       "     (1): Tanh()\n",
       "   )\n",
       "   (decoder): Sequential(\n",
       "     (0): Linear2D()\n",
       "     (1): ReLU()\n",
       "   )\n",
       " ), tensor([[[ 0.,  0.,  0.,  ...,  0.,  0.,  0.],\n",
       "          [ 0.,  0.,  0.,  ...,  0.,  0.,  1.],\n",
       "          [ 0.,  0.,  0.,  ...,  0.,  0.,  0.],\n",
       "          ...,\n",
       "          [ 0.,  0.,  0.,  ...,  0.,  0.,  0.],\n",
       "          [ 0.,  0.,  0.,  ...,  0.,  0.,  0.],\n",
       "          [ 0.,  1.,  0.,  ...,  0.,  0.,  0.]],\n",
       " \n",
       "         [[ 0.,  0.,  1.,  ...,  0.,  1.,  0.],\n",
       "          [ 0.,  0.,  0.,  ...,  0.,  0.,  0.],\n",
       "          [ 1.,  0.,  0.,  ...,  0.,  0.,  0.],\n",
       "          ...,\n",
       "          [ 0.,  0.,  0.,  ...,  0.,  0.,  1.],\n",
       "          [ 1.,  0.,  0.,  ...,  0.,  0.,  0.],\n",
       "          [ 0.,  0.,  0.,  ...,  1.,  0.,  0.]],\n",
       " \n",
       "         [[ 0.,  0.,  1.,  ...,  0.,  0.,  0.],\n",
       "          [ 0.,  0.,  0.,  ...,  0.,  0.,  0.],\n",
       "          [ 1.,  0.,  0.,  ...,  0.,  0.,  0.],\n",
       "          ...,\n",
       "          [ 0.,  0.,  0.,  ...,  0.,  0.,  0.],\n",
       "          [ 0.,  0.,  0.,  ...,  0.,  0.,  1.],\n",
       "          [ 0.,  0.,  0.,  ...,  0.,  1.,  0.]],\n",
       " \n",
       "         ...,\n",
       " \n",
       "         [[ 0.,  0.,  1.,  ...,  0.,  0.,  0.],\n",
       "          [ 0.,  0.,  0.,  ...,  0.,  1.,  0.],\n",
       "          [ 1.,  0.,  0.,  ...,  0.,  0.,  0.],\n",
       "          ...,\n",
       "          [ 0.,  0.,  0.,  ...,  0.,  0.,  1.],\n",
       "          [ 0.,  1.,  0.,  ...,  0.,  0.,  0.],\n",
       "          [ 0.,  0.,  0.,  ...,  1.,  0.,  0.]],\n",
       " \n",
       "         [[ 0.,  0.,  0.,  ...,  1.,  0.,  0.],\n",
       "          [ 0.,  0.,  0.,  ...,  0.,  0.,  1.],\n",
       "          [ 0.,  0.,  0.,  ...,  0.,  0.,  0.],\n",
       "          ...,\n",
       "          [ 1.,  0.,  0.,  ...,  0.,  0.,  0.],\n",
       "          [ 0.,  0.,  0.,  ...,  0.,  0.,  0.],\n",
       "          [ 0.,  1.,  0.,  ...,  0.,  0.,  0.]],\n",
       " \n",
       "         [[ 0.,  0.,  1.,  ...,  0.,  0.,  0.],\n",
       "          [ 0.,  0.,  0.,  ...,  0.,  1.,  0.],\n",
       "          [ 1.,  0.,  0.,  ...,  0.,  1.,  0.],\n",
       "          ...,\n",
       "          [ 0.,  0.,  0.,  ...,  0.,  0.,  0.],\n",
       "          [ 0.,  1.,  1.,  ...,  0.,  0.,  0.],\n",
       "          [ 0.,  0.,  0.,  ...,  0.,  0.,  0.]]]), array([[ 6.13026285,  6.39704275],\n",
       "        [ 1.18494475,  1.14114141],\n",
       "        [ 0.52672094,  0.56396168],\n",
       "        [ 0.42545369,  0.51564878],\n",
       "        [ 0.51299453,  0.57797444],\n",
       "        [ 0.53975666,  0.60462165],\n",
       "        [ 0.45994422,  0.53902322],\n",
       "        [ 0.39491993,  0.41928688],\n",
       "        [ 0.35809532,  0.34611624],\n",
       "        [ 0.32390577,  0.30267629],\n",
       "        [ 0.29161528,  0.27037421],\n",
       "        [ 0.25802118,  0.24827296],\n",
       "        [ 0.22928415,  0.23537602],\n",
       "        [ 0.20603406,  0.21261111],\n",
       "        [ 0.18677348,  0.18593352],\n",
       "        [ 0.16945612,  0.16674004],\n",
       "        [ 0.15709038,  0.1541324 ],\n",
       "        [ 0.15081377,  0.14996712],\n",
       "        [ 0.1474499 ,  0.14668356],\n",
       "        [ 0.14611343,  0.14572132],\n",
       "        [ 0.14423111,  0.14487815],\n",
       "        [ 0.14231898,  0.14452007],\n",
       "        [ 0.1407828 ,  0.14377841],\n",
       "        [ 0.13950352,  0.1426696 ],\n",
       "        [ 0.13879241,  0.14220619],\n",
       "        [ 0.13824768,  0.14255962],\n",
       "        [ 0.13686679,  0.14278156],\n",
       "        [ 0.13451532,  0.14236781],\n",
       "        [ 0.13288577,  0.14119385],\n",
       "        [ 0.13143574,  0.13874072],\n",
       "        [ 0.13021578,  0.13586359],\n",
       "        [ 0.12975368,  0.13374215],\n",
       "        [ 0.12990965,  0.13248417],\n",
       "        [ 0.12986441,  0.13131873],\n",
       "        [ 0.12905243,  0.12962936],\n",
       "        [ 0.12778531,  0.12773839],\n",
       "        [ 0.12662108,  0.1261715 ],\n",
       "        [ 0.12596186,  0.12533522],\n",
       "        [ 0.1257699 ,  0.12493421],\n",
       "        [ 0.12582707,  0.12487767],\n",
       "        [ 0.12588646,  0.12488746],\n",
       "        [ 0.12584642,  0.12493401],\n",
       "        [ 0.12567988,  0.12496018],\n",
       "        [ 0.12546067,  0.12499721],\n",
       "        [ 0.12525927,  0.12505148],\n",
       "        [ 0.12516077,  0.1251844 ],\n",
       "        [ 0.1251151 ,  0.12532574],\n",
       "        [ 0.12501344,  0.12529349],\n",
       "        [ 0.12476985,  0.12500679],\n",
       "        [ 0.12440882,  0.12449484],\n",
       "        [ 0.1240607 ,  0.12395877],\n",
       "        [ 0.12382657,  0.12355525],\n",
       "        [ 0.12372829,  0.12334643],\n",
       "        [ 0.12369171,  0.12328021],\n",
       "        [ 0.12364873,  0.12327645],\n",
       "        [ 0.12354356,  0.12327498],\n",
       "        [ 0.12333354,  0.12316426],\n",
       "        [ 0.12306325,  0.12298045],\n",
       "        [ 0.12278291,  0.12279073],\n",
       "        [ 0.12250522,  0.12260596],\n",
       "        [ 0.12223644,  0.12242166],\n",
       "        [ 0.12198205,  0.12222959],\n",
       "        [ 0.12174879,  0.12203069],\n",
       "        [ 0.12154   ,  0.12183072],\n",
       "        [ 0.12135644,  0.12162368],\n",
       "        [ 0.12118591,  0.12140898],\n",
       "        [ 0.12100998,  0.12119447],\n",
       "        [ 0.12083936,  0.12098643],\n",
       "        [ 0.12068244,  0.12079929],\n",
       "        [ 0.12054916,  0.1206484 ],\n",
       "        [ 0.12045639,  0.12055928],\n",
       "        [ 0.12040459,  0.1205488 ],\n",
       "        [ 0.12038296,  0.12058695],\n",
       "        [ 0.12036622,  0.12062582],\n",
       "        [ 0.1203445 ,  0.12063607],\n",
       "        [ 0.12032192,  0.12061668],\n",
       "        [ 0.12030614,  0.12058252],\n",
       "        [ 0.12029774,  0.12053839],\n",
       "        [ 0.12028069,  0.12047863],\n",
       "        [ 0.1202397 ,  0.12040435],\n",
       "        [ 0.12017706,  0.12031959],\n",
       "        [ 0.12010679,  0.12023836],\n",
       "        [ 0.12004248,  0.12017576],\n",
       "        [ 0.1199903 ,  0.1201325 ],\n",
       "        [ 0.11994356,  0.12009903],\n",
       "        [ 0.1198944 ,  0.12006027],\n",
       "        [ 0.11983957,  0.12000779],\n",
       "        [ 0.11977621,  0.11994481],\n",
       "        [ 0.11972052,  0.11988001],\n",
       "        [ 0.11967432,  0.1198191 ],\n",
       "        [ 0.11963515,  0.11975916],\n",
       "        [ 0.1195943 ,  0.1196917 ],\n",
       "        [ 0.11955088,  0.1196155 ],\n",
       "        [ 0.11950316,  0.11953387],\n",
       "        [ 0.11945585,  0.11945218],\n",
       "        [ 0.11940067,  0.11937653],\n",
       "        [ 0.11934179,  0.11930633],\n",
       "        [ 0.1192742 ,  0.11924078],\n",
       "        [ 0.11921196,  0.11917911],\n",
       "        [ 0.11915828,  0.11912262],\n",
       "        [ 0.11910931,  0.1190707 ],\n",
       "        [ 0.11906254,  0.11903576],\n",
       "        [ 0.11901788,  0.11902011],\n",
       "        [ 0.11897095,  0.11902294],\n",
       "        [ 0.11892273,  0.11904083],\n",
       "        [ 0.11887215,  0.11906849],\n",
       "        [ 0.11881669,  0.11909989],\n",
       "        [ 0.11874383,  0.11912891],\n",
       "        [ 0.11867935,  0.11915089],\n",
       "        [ 0.11862743,  0.11916164],\n",
       "        [ 0.11858418,  0.11915939],\n",
       "        [ 0.11855154,  0.11914563],\n",
       "        [ 0.11852325,  0.11912851],\n",
       "        [ 0.11850133,  0.11911582],\n",
       "        [ 0.11848186,  0.1191139 ],\n",
       "        [ 0.11846235,  0.119124  ],\n",
       "        [ 0.11844053,  0.119146  ],\n",
       "        [ 0.11841615,  0.11917602],\n",
       "        [ 0.11839258,  0.11920921],\n",
       "        [ 0.11836676,  0.11923943],\n",
       "        [ 0.1183423 ,  0.11926114],\n",
       "        [ 0.11831742,  0.11927161],\n",
       "        [ 0.11829181,  0.11926968],\n",
       "        [ 0.11826946,  0.11925704],\n",
       "        [ 0.11824702,  0.11923819],\n",
       "        [ 0.11822753,  0.11921737],\n",
       "        [ 0.11820272,  0.11919896],\n",
       "        [ 0.11817728,  0.11918678],\n",
       "        [ 0.11815537,  0.11918171],\n",
       "        [ 0.11813563,  0.11918319],\n",
       "        [ 0.11811731,  0.11918908],\n",
       "        [ 0.11810143,  0.11919723],\n",
       "        [ 0.1180849 ,  0.11920522],\n",
       "        [ 0.11806887,  0.11921219],\n",
       "        [ 0.11805379,  0.11921681],\n",
       "        [ 0.11803769,  0.11922003],\n",
       "        [ 0.11801974,  0.1192159 ],\n",
       "        [ 0.11800082,  0.11921004],\n",
       "        [ 0.11797744,  0.11920486],\n",
       "        [ 0.11795154,  0.11920249],\n",
       "        [ 0.1179226 ,  0.1191991 ],\n",
       "        [ 0.11788926,  0.11920272],\n",
       "        [ 0.11784489,  0.11921333],\n",
       "        [ 0.11779418,  0.11923032],\n",
       "        [ 0.11773947,  0.11925226],\n",
       "        [ 0.11768799,  0.1192759 ],\n",
       "        [ 0.11764372,  0.11928963],\n",
       "        [ 0.11760077,  0.1192926 ],\n",
       "        [ 0.11755673,  0.11929013],\n",
       "        [ 0.1175053 ,  0.11928266],\n",
       "        [ 0.11744665,  0.11926972],\n",
       "        [ 0.11737897,  0.11925304],\n",
       "        [ 0.11730596,  0.11923174],\n",
       "        [ 0.11723716,  0.11920654],\n",
       "        [ 0.11717968,  0.11917792],\n",
       "        [ 0.1171324 ,  0.11914376],\n",
       "        [ 0.11709379,  0.11910427],\n",
       "        [ 0.11705861,  0.11906146],\n",
       "        [ 0.11702517,  0.11901765],\n",
       "        [ 0.11699244,  0.11897495],\n",
       "        [ 0.11696077,  0.11893452],\n",
       "        [ 0.11693066,  0.11889718],\n",
       "        [ 0.11690198,  0.11886159],\n",
       "        [ 0.11687682,  0.11882682],\n",
       "        [ 0.1168502 ,  0.11879247],\n",
       "        [ 0.11682488,  0.11875612],\n",
       "        [ 0.11679932,  0.11871827],\n",
       "        [ 0.11677403,  0.11867905],\n",
       "        [ 0.11674879,  0.11863939],\n",
       "        [ 0.11672216,  0.1185995 ],\n",
       "        [ 0.11669564,  0.11856101],\n",
       "        [ 0.11666846,  0.11852367],\n",
       "        [ 0.11664013,  0.11848832],\n",
       "        [ 0.11661182,  0.11845598],\n",
       "        [ 0.1165844 ,  0.11842674],\n",
       "        [ 0.11655511,  0.1184022 ],\n",
       "        [ 0.11652759,  0.11838137],\n",
       "        [ 0.11649906,  0.11836493],\n",
       "        [ 0.11647256,  0.11835299],\n",
       "        [ 0.11644783,  0.11834581],\n",
       "        [ 0.11642291,  0.11834262],\n",
       "        [ 0.11640033,  0.1183425 ],\n",
       "        [ 0.11637796,  0.11834545],\n",
       "        [ 0.11635533,  0.11834945],\n",
       "        [ 0.11633623,  0.11835431],\n",
       "        [ 0.11631574,  0.11835869],\n",
       "        [ 0.11629542,  0.11836237],\n",
       "        [ 0.11627671,  0.11836515],\n",
       "        [ 0.11625641,  0.1183673 ],\n",
       "        [ 0.11623617,  0.11836848],\n",
       "        [ 0.11621457,  0.11836991],\n",
       "        [ 0.1161933 ,  0.11837099],\n",
       "        [ 0.11617097,  0.11837181],\n",
       "        [ 0.11614837,  0.1183719 ],\n",
       "        [ 0.11612633,  0.11837133],\n",
       "        [ 0.11610442,  0.11837053],\n",
       "        [ 0.11608425,  0.11836813],\n",
       "        [ 0.11606525,  0.11836586],\n",
       "        [ 0.11604004,  0.11836277]]))"
      ]
     },
     "execution_count": 661,
     "metadata": {},
     "output_type": "execute_result"
    }
   ],
   "source": [
    "# еще один тест с блоками из статьи, но с другими параметрами\n",
    "SPD.run_test_mutag(10, 200)"
   ]
  },
  {
   "cell_type": "code",
   "execution_count": 684,
   "metadata": {
    "collapsed": false,
    "deletable": true,
    "editable": true
   },
   "outputs": [
    {
     "data": {
      "image/png": "[encoded data removed]",
      "text/plain": [
       "<matplotlib.figure.Figure at 0x1a271c6c18>"
      ]
     },
     "metadata": {},
     "output_type": "display_data"
    }
   ],
   "source": [
    "n_points = 6\n",
    "fig, axes = plt.subplots(nrows=2, ncols=3, figsize=(7, 4))\n",
    "cmap = sns.cubehelix_palette(as_cmap=True)\n",
    "for i, t in enumerate(np.linspace(0, 1, n_points)):\n",
    "    C_t = A - (A-B)*t\n",
    "    GC_t = coder.decoder(C_t).round()\n",
    "    dt.draw_graph(GC_t, ax=axes[i//3, i%3], node_color='r')\n",
    "    axes[i//3, i%3].set_title(round(t, 2))\n",
    "    axes[i//3, i%3].plot()\n",
    "fig.savefig('homotopy.pdf', format='pdf')"
   ]
  },
  {
   "cell_type": "markdown",
   "metadata": {},
   "source": [
    "Здесь попробуем порешать задачу классификации на датасете mutag"
   ]
  },
  {
   "cell_type": "code",
   "execution_count": 534,
   "metadata": {
    "collapsed": false,
    "deletable": true,
    "editable": true,
    "scrolled": true
   },
   "outputs": [
    {
     "name": "stdout",
     "output_type": "stream",
     "text": [
      "Reading graphs ...\n",
      "---:  mutag_1.graphml\n",
      "---:  mutag_2.graphml\n",
      "---:  mutag_3.graphml\n",
      "---:  mutag_4.graphml\n",
      "---:  mutag_5.graphml\n",
      "---:  mutag_6.graphml\n",
      "---:  mutag_7.graphml\n",
      "---:  mutag_8.graphml\n",
      "---:  mutag_9.graphml\n",
      "---:  mutag_10.graphml\n",
      "---:  mutag_11.graphml\n",
      "---:  mutag_12.graphml\n",
      "---:  mutag_13.graphml\n",
      "---:  mutag_14.graphml\n",
      "---:  mutag_15.graphml\n",
      "---:  mutag_16.graphml\n",
      "---:  mutag_17.graphml\n",
      "---:  mutag_18.graphml\n",
      "---:  mutag_19.graphml\n",
      "---:  mutag_20.graphml\n",
      "---:  mutag_21.graphml\n",
      "---:  mutag_22.graphml\n",
      "---:  mutag_23.graphml\n",
      "---:  mutag_24.graphml\n",
      "---:  mutag_25.graphml\n",
      "---:  mutag_26.graphml\n",
      "---:  mutag_27.graphml\n",
      "---:  mutag_28.graphml\n",
      "---:  mutag_29.graphml\n",
      "---:  mutag_30.graphml\n",
      "---:  mutag_31.graphml\n",
      "---:  mutag_32.graphml\n",
      "---:  mutag_33.graphml\n",
      "---:  mutag_34.graphml\n",
      "---:  mutag_35.graphml\n",
      "---:  mutag_36.graphml\n",
      "---:  mutag_37.graphml\n",
      "---:  mutag_38.graphml\n",
      "---:  mutag_39.graphml\n",
      "---:  mutag_40.graphml\n",
      "---:  mutag_41.graphml\n",
      "---:  mutag_42.graphml\n",
      "---:  mutag_43.graphml\n",
      "---:  mutag_44.graphml\n",
      "---:  mutag_45.graphml\n",
      "---:  mutag_46.graphml\n",
      "---:  mutag_47.graphml\n",
      "---:  mutag_48.graphml\n",
      "---:  mutag_49.graphml\n",
      "---:  mutag_50.graphml\n",
      "---:  mutag_51.graphml\n",
      "---:  mutag_52.graphml\n",
      "---:  mutag_53.graphml\n",
      "---:  mutag_54.graphml\n",
      "---:  mutag_55.graphml\n",
      "---:  mutag_56.graphml\n",
      "---:  mutag_57.graphml\n",
      "---:  mutag_58.graphml\n",
      "---:  mutag_59.graphml\n",
      "---:  mutag_60.graphml\n",
      "---:  mutag_61.graphml\n",
      "---:  mutag_62.graphml\n",
      "---:  mutag_63.graphml\n",
      "---:  mutag_64.graphml\n",
      "---:  mutag_65.graphml\n",
      "---:  mutag_66.graphml\n",
      "---:  mutag_67.graphml\n",
      "---:  mutag_68.graphml\n",
      "---:  mutag_69.graphml\n",
      "---:  mutag_70.graphml\n",
      "---:  mutag_71.graphml\n",
      "---:  mutag_72.graphml\n",
      "---:  mutag_73.graphml\n",
      "---:  mutag_74.graphml\n",
      "---:  mutag_75.graphml\n",
      "---:  mutag_76.graphml\n",
      "---:  mutag_77.graphml\n",
      "---:  mutag_78.graphml\n",
      "---:  mutag_79.graphml\n",
      "---:  mutag_80.graphml\n",
      "---:  mutag_81.graphml\n",
      "---:  mutag_82.graphml\n",
      "---:  mutag_83.graphml\n",
      "---:  mutag_84.graphml\n",
      "---:  mutag_85.graphml\n",
      "---:  mutag_86.graphml\n",
      "---:  mutag_87.graphml\n",
      "---:  mutag_88.graphml\n",
      "---:  mutag_89.graphml\n",
      "---:  mutag_90.graphml\n",
      "---:  mutag_91.graphml\n",
      "---:  mutag_92.graphml\n",
      "---:  mutag_93.graphml\n",
      "---:  mutag_94.graphml\n",
      "---:  mutag_95.graphml\n",
      "---:  mutag_96.graphml\n",
      "---:  mutag_97.graphml\n",
      "---:  mutag_98.graphml\n",
      "---:  mutag_99.graphml\n",
      "---:  mutag_100.graphml\n",
      "---:  mutag_101.graphml\n",
      "---:  mutag_102.graphml\n",
      "---:  mutag_103.graphml\n",
      "---:  mutag_104.graphml\n",
      "---:  mutag_105.graphml\n",
      "---:  mutag_106.graphml\n",
      "---:  mutag_107.graphml\n",
      "---:  mutag_108.graphml\n",
      "---:  mutag_109.graphml\n",
      "---:  mutag_110.graphml\n",
      "---:  mutag_111.graphml\n",
      "---:  mutag_112.graphml\n",
      "---:  mutag_113.graphml\n",
      "---:  mutag_114.graphml\n",
      "---:  mutag_115.graphml\n",
      "---:  mutag_116.graphml\n",
      "---:  mutag_117.graphml\n",
      "---:  mutag_118.graphml\n",
      "---:  mutag_119.graphml\n",
      "---:  mutag_120.graphml\n",
      "---:  mutag_121.graphml\n",
      "---:  mutag_122.graphml\n",
      "---:  mutag_123.graphml\n",
      "---:  mutag_124.graphml\n",
      "---:  mutag_125.graphml\n",
      "---:  mutag_126.graphml\n",
      "---:  mutag_127.graphml\n",
      "---:  mutag_128.graphml\n",
      "---:  mutag_129.graphml\n",
      "---:  mutag_130.graphml\n",
      "---:  mutag_131.graphml\n",
      "---:  mutag_132.graphml\n",
      "---:  mutag_133.graphml\n",
      "---:  mutag_134.graphml\n",
      "---:  mutag_135.graphml\n",
      "---:  mutag_136.graphml\n",
      "---:  mutag_137.graphml\n",
      "---:  mutag_138.graphml\n",
      "---:  mutag_139.graphml\n",
      "---:  mutag_140.graphml\n",
      "---:  mutag_141.graphml\n",
      "---:  mutag_142.graphml\n",
      "---:  mutag_143.graphml\n",
      "---:  mutag_144.graphml\n",
      "---:  mutag_145.graphml\n",
      "---:  mutag_146.graphml\n",
      "---:  mutag_147.graphml\n",
      "---:  mutag_148.graphml\n",
      "---:  mutag_149.graphml\n",
      "---:  mutag_150.graphml\n",
      "---:  mutag_151.graphml\n",
      "---:  mutag_152.graphml\n",
      "---:  mutag_153.graphml\n",
      "---:  mutag_154.graphml\n",
      "---:  mutag_155.graphml\n",
      "---:  mutag_156.graphml\n",
      "---:  mutag_157.graphml\n",
      "---:  mutag_158.graphml\n",
      "---:  mutag_159.graphml\n",
      "---:  mutag_160.graphml\n",
      "---:  mutag_161.graphml\n",
      "---:  mutag_162.graphml\n",
      "---:  mutag_163.graphml\n",
      "---:  mutag_164.graphml\n",
      "---:  mutag_165.graphml\n",
      "---:  mutag_166.graphml\n",
      "---:  mutag_167.graphml\n",
      "---:  mutag_168.graphml\n",
      "---:  mutag_169.graphml\n",
      "---:  mutag_170.graphml\n",
      "---:  mutag_171.graphml\n",
      "---:  mutag_172.graphml\n",
      "---:  mutag_173.graphml\n",
      "---:  mutag_174.graphml\n",
      "---:  mutag_175.graphml\n",
      "---:  mutag_176.graphml\n",
      "---:  mutag_177.graphml\n",
      "---:  mutag_178.graphml\n",
      "---:  mutag_179.graphml\n",
      "---:  mutag_180.graphml\n",
      "---:  mutag_181.graphml\n",
      "---:  mutag_182.graphml\n",
      "---:  mutag_183.graphml\n",
      "---:  mutag_184.graphml\n",
      "---:  mutag_185.graphml\n",
      "---:  mutag_186.graphml\n",
      "---:  mutag_187.graphml\n",
      "---:  mutag_188.graphml\n"
     ]
    }
   ],
   "source": [
    "# создаем сам датасет\n",
    "X, y = dt.build_dataset(dt.read_test_graphs(), 10)"
   ]
  },
  {
   "cell_type": "code",
   "execution_count": 549,
   "metadata": {
    "collapsed": false,
    "deletable": true,
    "editable": true
   },
   "outputs": [],
   "source": [
    "# строим эмбеддинги для графов \n",
    "temp = np.array([coder.encoder(x.unsqueeze(0)).view(-1,).data.numpy() for x in X])"
   ]
  },
  {
   "cell_type": "code",
   "execution_count": 577,
   "metadata": {
    "collapsed": false,
    "deletable": true,
    "editable": true
   },
   "outputs": [],
   "source": [
    "# пробуем визуализировать датасет\n",
    "tsne = TSNE(n_components=2)\n",
    "q = tsne.fit_transform(temp)"
   ]
  },
  {
   "cell_type": "code",
   "execution_count": 562,
   "metadata": {
    "collapsed": false,
    "deletable": true,
    "editable": true
   },
   "outputs": [
    {
     "data": {
      "image/png": "[encoded data removed]",
      "text/plain": [
       "<matplotlib.figure.Figure at 0x1a23858470>"
      ]
     },
     "metadata": {},
     "output_type": "display_data"
    }
   ],
   "source": [
    "# отрисовываем все это дело\n",
    "plt.scatter(q[np.where(y == 0)][:, 0], q[np.where(y == 0)][:, 1], c='r', label='mutag')\n",
    "plt.scatter(q[np.where(y == 1)][:, 0], q[np.where(y == 1)][:, 1], c='b', label='none')\n",
    "plt.title(\"t-SNE for Graph embeddings\")\n",
    "plt.grid()\n",
    "plt.legend()\n",
    "plt.show()"
   ]
  },
  {
   "cell_type": "code",
   "execution_count": 659,
   "metadata": {
    "collapsed": false,
    "deletable": true,
    "editable": true
   },
   "outputs": [
    {
     "data": {
      "image/png": "[encoded data removed]",
      "text/plain": [
       "<matplotlib.figure.Figure at 0x1a265fcb70>"
      ]
     },
     "metadata": {},
     "output_type": "display_data"
    }
   ],
   "source": [
    "# и еще раз\n",
    "fig = plt.figure()\n",
    "plt.scatter(q[np.where(y == 0)][:, 0], q[np.where(y == 0)][:, 1], c='r', label='mutag')\n",
    "plt.scatter(q[np.where(y == 1)][:, 0], q[np.where(y == 1)][:, 1], c='b', label='none')\n",
    "plt.title(\"t-SNE for Graph embeddings\")\n",
    "plt.grid()\n",
    "plt.legend()\n",
    "plt.show()\n",
    "fig.savefig('t-sne.pdf', format='pdf')"
   ]
  },
  {
   "cell_type": "code",
   "execution_count": 639,
   "metadata": {
    "collapsed": false,
    "deletable": true,
    "editable": true
   },
   "outputs": [
    {
     "name": "stdout",
     "output_type": "stream",
     "text": [
      "Fitting 3 folds for each of 30 candidates, totalling 90 fits\n"
     ]
    },
    {
     "name": "stderr",
     "output_type": "stream",
     "text": [
      "/Users/Macbook/anaconda/envs/py35/lib/python3.5/site-packages/sklearn/model_selection/_split.py:2026: FutureWarning: From version 0.21, test_size will always complement train_size unless both are specified.\n",
      "  FutureWarning)\n",
      "[Parallel(n_jobs=1)]: Done  90 out of  90 | elapsed:    0.3s finished\n"
     ]
    },
    {
     "data": {
      "text/plain": [
       "RandomizedSearchCV(cv=None, error_score='raise',\n",
       "          estimator=SVC(C=1.0, cache_size=200, class_weight=None, coef0=0.0,\n",
       "  decision_function_shape='ovr', degree=3, gamma='auto', kernel='rbf',\n",
       "  max_iter=-1, probability=False, random_state=None, shrinking=True,\n",
       "  tol=0.001, verbose=False),\n",
       "          fit_params=None, iid=True, n_iter=30, n_jobs=1,\n",
       "          param_distributions={'kernel': ('linear', 'rbf'), 'C': array([  0.01   ,   0.26615,   0.52231,   0.77846,   1.03462,   1.29077,\n",
       "         1.54692,   1.80308,   2.05923,   2.31538,   2.57154,   2.82769,\n",
       "         3.08385,   3.34   ,   3.59615,   3.85231,   4.10846,   4.36462,\n",
       "         4.62077,   4.8769...      8.57286,   8.77673,   8.98061,   9.18449,   9.38837,   9.59224,\n",
       "         9.79612,  10.     ])},\n",
       "          pre_dispatch='2*n_jobs', random_state=None, refit=True,\n",
       "          return_train_score='warn', scoring='accuracy', verbose=True)"
      ]
     },
     "execution_count": 639,
     "metadata": {},
     "output_type": "execute_result"
    }
   ],
   "source": [
    "# ищем какие-нибудь параметры, которые могут подойти для модели\n",
    "\n",
    "from sklearn.svm import SVC\n",
    "from sklearn.model_selection import train_test_split, RandomizedSearchCV\n",
    "\n",
    "cls = SVC()\n",
    "X_train, X_test, y_train, y_test = train_test_split(temp, \n",
    "                                                    y, stratify=y, train_size=0.7)\n",
    "\n",
    "srch = RandomizedSearchCV(cls, {'C': np.linspace(0.01, 10, 40), \n",
    "                                'kernel': ('linear', 'rbf'),\n",
    "                                'gamma': np.linspace(0.01, 10, 50)}, \n",
    "                          verbose=True, \n",
    "                          scoring='accuracy', \n",
    "                          n_iter=30)\n",
    "\n",
    "srch.fit(X_train, y_train)"
   ]
  },
  {
   "cell_type": "code",
   "execution_count": 640,
   "metadata": {
    "collapsed": false,
    "deletable": true,
    "editable": true
   },
   "outputs": [
    {
     "name": "stdout",
     "output_type": "stream",
     "text": [
      "mean:  0.797554347826\n",
      "std:  0.0849749208557\n"
     ]
    }
   ],
   "source": [
    "# смотрим на качество по валидации\n",
    "cls = SVC(**srch.best_params_)\n",
    "cv=KFold(n_splits=8, shuffle=True)\n",
    "res = cross_val_score(cls, temp, y, scoring='accuracy', cv=cv)\n",
    "print('mean: ', res.mean())\n",
    "print('std: ', res.std())"
   ]
  },
  {
   "cell_type": "code",
   "execution_count": 657,
   "metadata": {
    "collapsed": false,
    "deletable": true,
    "editable": true
   },
   "outputs": [
    {
     "name": "stdout",
     "output_type": "stream",
     "text": [
      "             precision    recall  f1-score   support\n",
      "\n",
      "          0       0.82      0.91      0.86        34\n",
      "          1       0.75      0.56      0.64        16\n",
      "\n",
      "avg / total       0.79      0.80      0.79        50\n",
      "\n"
     ]
    }
   ],
   "source": [
    "# смотрим на качество по отложенной\n",
    "indexes =list(range(len(y)))\n",
    "shuffle(indexes)\n",
    "size = 50\n",
    "cls.fit(temp[indexes][:-size], y[indexes][:-size])\n",
    "print(classification_report(y[indexes][-size:], cls.predict(temp[indexes][-size:])))"
   ]
  }
 ],
 "metadata": {
  "kernelspec": {
   "display_name": "kernel35",
   "language": "python",
   "name": "kernel35"
  },
  "language_info": {
   "codemirror_mode": {
    "name": "ipython",
    "version": 3
   },
   "file_extension": ".py",
   "mimetype": "text/x-python",
   "name": "python",
   "nbconvert_exporter": "python",
   "pygments_lexer": "ipython3",
   "version": "3.5.4"
  },
  "toc": {
   "nav_menu": {},
   "number_sections": true,
   "sideBar": true,
   "skip_h1_title": false,
   "title_cell": "Table of Contents",
   "title_sidebar": "Contents",
   "toc_cell": false,
   "toc_position": {},
   "toc_section_display": true,
   "toc_window_display": false
  },
  "varInspector": {
   "cols": {
    "lenName": 16,
    "lenType": 16,
    "lenVar": 40
   },
   "kernels_config": {
    "python": {
     "delete_cmd_postfix": "",
     "delete_cmd_prefix": "del ",
     "library": "var_list.py",
     "varRefreshCmd": "print(var_dic_list())"
    },
    "r": {
     "delete_cmd_postfix": ") ",
     "delete_cmd_prefix": "rm(",
     "library": "var_list.r",
     "varRefreshCmd": "cat(var_dic_list()) "
    }
   },
   "types_to_exclude": [
    "module",
    "function",
    "builtin_function_or_method",
    "instance",
    "_Feature"
   ],
   "window_display": false
  }
 },
 "nbformat": 4,
 "nbformat_minor": 2
}
