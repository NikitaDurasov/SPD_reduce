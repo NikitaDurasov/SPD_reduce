{
 "cells": [
  {
   "cell_type": "code",
   "execution_count": 241,
   "metadata": {
    "collapsed": true
   },
   "outputs": [],
   "source": [
    "import torch \n",
    "from torch import nn\n",
    "from torch import FloatTensor\n",
    "from torch.autograd import Variable\n",
    "from torch import optim\n",
    "\n",
    "from numpy.linalg import matrix_rank\n",
    "\n",
    "from sklearn.datasets import make_spd_matrix"
   ]
  },
  {
   "cell_type": "code",
   "execution_count": 47,
   "metadata": {
    "collapsed": false
   },
   "outputs": [],
   "source": [
    "temp = torch.nn.Linear(5, 3)\n",
    "b = Variable(torch.rand((5, 5)))\n",
    "a = Variable(torch.rand((2, 5, 5)))"
   ]
  },
  {
   "cell_type": "code",
   "execution_count": 50,
   "metadata": {
    "collapsed": false
   },
   "outputs": [
    {
     "data": {
      "text/plain": [
       "Variable containing:\n",
       " 0.5040  0.6785  0.2569  0.6513  0.8617\n",
       " 0.4109  0.0840  0.2289  0.8198  0.9596\n",
       " 0.9519  0.0509  0.2460  0.5015  0.9868\n",
       " 0.0956  0.9169  0.4598  0.3063  0.6225\n",
       " 0.6994  0.1210  0.9268  0.7742  0.5865\n",
       "[torch.FloatTensor of size 5x5]"
      ]
     },
     "execution_count": 50,
     "metadata": {},
     "output_type": "execute_result"
    }
   ],
   "source": [
    "b"
   ]
  },
  {
   "cell_type": "code",
   "execution_count": 39,
   "metadata": {
    "collapsed": false
   },
   "outputs": [
    {
     "data": {
      "text/plain": [
       "Variable containing:\n",
       " 0.3181  0.3285  0.7137  0.8696  0.6389\n",
       " 0.2745  0.7231  0.4505  0.7706  0.4151\n",
       " 0.1746  0.9885  0.1559  0.9463  0.3336\n",
       " 0.2589  0.9943  0.8707  0.6326  0.0786\n",
       " 0.3552  0.6404  0.1191  0.3398  0.8872\n",
       "[torch.FloatTensor of size 5x5]"
      ]
     },
     "execution_count": 39,
     "metadata": {},
     "output_type": "execute_result"
    }
   ],
   "source": [
    "a[0]"
   ]
  },
  {
   "cell_type": "code",
   "execution_count": 209,
   "metadata": {
    "collapsed": false
   },
   "outputs": [],
   "source": [
    "class Linear2D(nn.Module):\n",
    "    \n",
    "    def __init__(self, in_features, out_features):\n",
    "        super(Linear2D, self).__init__()\n",
    "        self.W = nn.Parameter(torch.rand((out_features, in_features)))\n",
    "        \n",
    "    def forward(self, X):\n",
    "        XW = self._matmul(X, self.W.transpose(0 ,1))\n",
    "        WXW = self._matmul(XW, self.W, kind='left')\n",
    "        return WXW\n",
    "        \n",
    "    def _matmul(self, X, Y, kind='right'):\n",
    "        results = [] \n",
    "        for i in range(X.size(0)):\n",
    "            if kind == 'right':\n",
    "                result = torch.mm(X[i], Y)\n",
    "            elif kind == 'left':\n",
    "                result = torch.mm(Y, X[i])\n",
    "            results.append(result.unsqueeze(0))\n",
    "        return torch.cat(results, 0)\n",
    "    \n",
    "    def check_rank(self):\n",
    "        return min(self.W.data.size()) == matrix_rank(self.W.data.numpy())"
   ]
  },
  {
   "cell_type": "code",
   "execution_count": 210,
   "metadata": {
    "collapsed": true
   },
   "outputs": [],
   "source": [
    "class SymmetricallyCleanLayer(nn.Module):\n",
    "    def __init__(self):\n",
    "        super(SymmetricallyCleanLayer, self).__init__()\n",
    "        self.relu = nn.ReLU()\n",
    "        \n",
    "    def forward(self, X):\n",
    "        return self.relu(X) "
   ]
  },
  {
   "cell_type": "code",
   "execution_count": 211,
   "metadata": {
    "collapsed": true
   },
   "outputs": [],
   "source": [
    "class NonLinearityBlock(nn.Module):\n",
    "    def __init__(self, activation):\n",
    "        super(NonLinearityBlock, self).__init__()\n",
    "        self.activation = activation\n",
    "        \n",
    "    def forward(self, X):\n",
    "        return self.activation(X)"
   ]
  },
  {
   "cell_type": "code",
   "execution_count": 218,
   "metadata": {
    "collapsed": true
   },
   "outputs": [],
   "source": [
    "class ShrinkBlock(nn.Module):\n",
    "    def __init__(self, features):\n",
    "        super(ShrinkBlock, self).__init__()\n",
    "        self.weights_matrix = nn.Parameter(torch.zeros((features, features)).normal_())\n",
    "        self.weights_matrix_square = torch.mm(self.weights_matrix.transpose(0, 1), self.weights_matrix)\n",
    "        self.inverse_eye = Variable(torch.ones((features, features)) - torch.eye(features))\n",
    "    \n",
    "    def forward(self, X):\n",
    "        return X - self.weights_matrix_square * self.inverse_eye"
   ]
  },
  {
   "cell_type": "code",
   "execution_count": 231,
   "metadata": {
    "collapsed": true
   },
   "outputs": [],
   "source": [
    "class MatrixEncoder(nn.Module):\n",
    "    def __init__(self, n_features):\n",
    "        super(MatrixEncoder, self).__init__()\n",
    "        self.n_features = n_features\n",
    "        \n",
    "        self.encoder = nn.Sequential(\n",
    "            Linear2D(n_features, 5),\n",
    "            ShrinkBlock(5),\n",
    "            SymmetricallyCleanLayer(),\n",
    "            Linear2D(5, 3),\n",
    "            ShrinkBlock(3)\n",
    "        )\n",
    "        \n",
    "        self.decoder = nn.Sequential(\n",
    "            Linear2D(3, 5),\n",
    "            ShrinkBlock(5),\n",
    "            SymmetricallyCleanLayer(),\n",
    "            Linear2D(5, n_features),\n",
    "            ShrinkBlock(n_features)\n",
    "        )\n",
    "        \n",
    "    def forward(self, X):\n",
    "        return self.decoder(self.encoder(X))"
   ]
  },
  {
   "cell_type": "code",
   "execution_count": 245,
   "metadata": {
    "collapsed": true
   },
   "outputs": [],
   "source": [
    "from torch.nn.modules.loss import MSELoss"
   ]
  },
  {
   "cell_type": "code",
   "execution_count": 279,
   "metadata": {
    "collapsed": false
   },
   "outputs": [
    {
     "name": "stdout",
     "output_type": "stream",
     "text": [
      "85001.234375\n",
      "164.30828857421875\n",
      "85.11470031738281\n",
      "52.89616012573242\n",
      "36.56184387207031\n",
      "27.230751037597656\n",
      "21.408578872680664\n",
      "17.52837562561035\n",
      "14.807859420776367\n",
      "12.82198715209961\n",
      "11.323862075805664\n",
      "10.197795867919922\n",
      "9.350672721862793\n",
      "8.643263816833496\n",
      "8.04478931427002\n",
      "7.532347679138184\n",
      "7.088569164276123\n",
      "6.700085639953613\n",
      "6.356471538543701\n",
      "6.04948616027832\n",
      "5.772524356842041\n",
      "5.520229816436768\n",
      "5.28825044631958\n",
      "5.075875759124756\n",
      "4.876154899597168\n",
      "4.686581611633301\n",
      "4.505087375640869\n",
      "4.329866409301758\n",
      "4.159339427947998\n",
      "3.992133140563965\n",
      "3.8274006843566895\n",
      "3.6646995544433594\n",
      "3.50199556350708\n",
      "3.338881254196167\n",
      "3.1752147674560547\n",
      "3.01114559173584\n",
      "2.8471343517303467\n",
      "2.6839442253112793\n",
      "2.5226051807403564\n",
      "2.3643441200256348\n"
     ]
    }
   ],
   "source": [
    "coder = MatrixEncoder(6)\n",
    "matrix = Variable(FloatTensor(make_spd_matrix(6))).unsqueeze(0)\n",
    "optimizer = optim.Adam(coder.parameters(), lr=0.01)\n",
    "criterion = MSELoss()\n",
    "\n",
    "for epoch in range(4000):\n",
    "    optimizer.zero_grad()\n",
    "    outputs = coder(matrix)\n",
    "    loss = criterion(outputs, matrix)\n",
    "    loss.backward(retain_graph=True)\n",
    "    if epoch % 100 == 0:\n",
    "        print(loss.data[0])\n",
    "    optimizer.step()"
   ]
  },
  {
   "cell_type": "code",
   "execution_count": 280,
   "metadata": {
    "collapsed": false
   },
   "outputs": [
    {
     "data": {
      "text/plain": [
       "Variable containing:\n",
       "(0 ,.,.) = \n",
       "  0.2774 -0.3904 -0.3473  0.5940 -0.0180  0.9289\n",
       " -0.3904  0.3194 -0.6425  1.2896  0.8844 -2.9324\n",
       " -0.3473 -0.6425  0.2600  0.5464 -0.5799  3.3653\n",
       "  0.5940  1.2896  0.5464  3.3272  0.0102  0.8790\n",
       " -0.0180  0.8844 -0.5799  0.0102  3.7061  0.2997\n",
       "  0.9289 -2.9324  3.3653  0.8790  0.2997  2.4377\n",
       "[torch.FloatTensor of size 1x6x6]"
      ]
     },
     "execution_count": 280,
     "metadata": {},
     "output_type": "execute_result"
    }
   ],
   "source": [
    "coder(matrix)"
   ]
  },
  {
   "cell_type": "code",
   "execution_count": 281,
   "metadata": {
    "collapsed": false
   },
   "outputs": [
    {
     "data": {
      "text/plain": [
       "Variable containing:\n",
       "(0 ,.,.) = \n",
       "  1.4477 -0.1077 -0.3719  0.3169 -1.4884 -1.1962\n",
       " -0.1077  0.6834  0.1723 -0.1011  0.6562  0.3868\n",
       " -0.3719  0.1723  0.6402 -0.1156  0.6623  0.6781\n",
       "  0.3169 -0.1011 -0.1156  0.7181 -0.5229 -0.3761\n",
       " -1.4884  0.6562  0.6623 -0.5229  3.7567  2.2983\n",
       " -1.1962  0.3868  0.6781 -0.3761  2.2983  2.4977\n",
       "[torch.FloatTensor of size 1x6x6]"
      ]
     },
     "execution_count": 281,
     "metadata": {},
     "output_type": "execute_result"
    }
   ],
   "source": [
    "matrix"
   ]
  },
  {
   "cell_type": "code",
   "execution_count": 265,
   "metadata": {
    "collapsed": false
   },
   "outputs": [
    {
     "data": {
      "text/plain": [
       "Variable containing:\n",
       "(0 ,.,.) = \n",
       "  403.3969  403.4521  328.4248  433.2410  286.2404  272.7939\n",
       "  403.4521  411.7397  332.8844  438.6746  293.6486  275.8667\n",
       "  328.4248  332.8845  266.6563  349.3683  237.2738  229.8308\n",
       "  433.2410  438.6745  349.3683  466.1306  314.3354  298.2518\n",
       "  286.2404  293.6486  237.2738  314.3354  212.1189  196.8404\n",
       "  272.7939  275.8667  229.8308  298.2518  196.8404  191.2636\n",
       "[torch.FloatTensor of size 1x6x6]"
      ]
     },
     "execution_count": 265,
     "metadata": {},
     "output_type": "execute_result"
    }
   ],
   "source": [
    "coder2 = MatrixEncoder(6)\n",
    "coder2(matrix)"
   ]
  },
  {
   "cell_type": "code",
   "execution_count": null,
   "metadata": {
    "collapsed": true
   },
   "outputs": [],
   "source": [
    "coder(mat)"
   ]
  },
  {
   "cell_type": "code",
   "execution_count": 283,
   "metadata": {
    "collapsed": false
   },
   "outputs": [],
   "source": [
    "import SPD"
   ]
  },
  {
   "cell_type": "code",
   "execution_count": 284,
   "metadata": {
    "collapsed": false
   },
   "outputs": [
    {
     "name": "stdout",
     "output_type": "stream",
     "text": [
      "38152.85546875\n",
      "112.74282836914062\n",
      "52.5504264831543\n",
      "32.5604362487793\n",
      "23.447019577026367\n",
      "18.202831268310547\n",
      "14.932071685791016\n",
      "12.75731372833252\n",
      "11.233356475830078\n",
      "10.116395950317383\n",
      "9.264239311218262\n",
      "8.58940315246582\n",
      "8.035533905029297\n",
      "7.5648345947265625\n",
      "7.1509881019592285\n",
      "6.775049686431885\n",
      "6.422967910766602\n",
      "6.08411979675293\n",
      "5.750424385070801\n",
      "5.4159111976623535\n",
      "5.076608657836914\n",
      "4.730676651000977\n",
      "4.378704071044922\n",
      "4.024061679840088\n",
      "3.6730358600616455\n",
      "3.334488868713379\n",
      "3.0187008380889893\n",
      "2.735435724258423\n",
      "2.4916892051696777\n",
      "2.290128707885742\n",
      "2.128908395767212\n",
      "2.002943515777588\n",
      "1.9057472944259644\n",
      "1.8309561014175415\n",
      "1.773125171661377\n",
      "1.7279243469238281\n",
      "1.6920229196548462\n",
      "1.6628886461257935\n",
      "1.6386020183563232\n",
      "1.6177077293395996\n"
     ]
    }
   ],
   "source": [
    "SPD.run_test()"
   ]
  },
  {
   "cell_type": "code",
   "execution_count": 235,
   "metadata": {
    "collapsed": false
   },
   "outputs": [
    {
     "data": {
      "text/plain": [
       "[Parameter containing:\n",
       "  0.2013  0.0128  0.7827  0.3468  0.1750  0.1051  0.1103  0.4556\n",
       "  0.8672  0.3314  0.1549  0.9517  0.3401  0.7927  0.9596  0.3282\n",
       " [torch.FloatTensor of size 2x8]]"
      ]
     },
     "execution_count": 235,
     "metadata": {},
     "output_type": "execute_result"
    }
   ],
   "source": [
    "list(block.parameters())"
   ]
  },
  {
   "cell_type": "code",
   "execution_count": 236,
   "metadata": {
    "collapsed": false
   },
   "outputs": [
    {
     "data": {
      "text/plain": [
       "[Parameter containing:\n",
       "  0.7057  1.4323\n",
       " -0.5567  0.7995\n",
       " [torch.FloatTensor of size 2x2]]"
      ]
     },
     "execution_count": 236,
     "metadata": {},
     "output_type": "execute_result"
    }
   ],
   "source": [
    "list(block3.parameters())"
   ]
  },
  {
   "cell_type": "code",
   "execution_count": 237,
   "metadata": {
    "collapsed": false
   },
   "outputs": [
    {
     "data": {
      "text/plain": [
       "[Parameter containing:\n",
       "  0.0850  0.3646\n",
       "  0.6269  0.2221\n",
       "  0.8985  0.4029\n",
       "  0.4628  0.0708\n",
       "  0.1214  0.6744\n",
       "  0.4403  0.0930\n",
       "  0.5214  0.4614\n",
       "  0.1011  0.9890\n",
       " [torch.FloatTensor of size 8x2]]"
      ]
     },
     "execution_count": 237,
     "metadata": {},
     "output_type": "execute_result"
    }
   ],
   "source": [
    "list(block4.parameters())"
   ]
  },
  {
   "cell_type": "code",
   "execution_count": null,
   "metadata": {
    "collapsed": true
   },
   "outputs": [],
   "source": []
  }
 ],
 "metadata": {
  "kernelspec": {
   "display_name": "kernel35",
   "language": "python",
   "name": "kernel35"
  },
  "language_info": {
   "codemirror_mode": {
    "name": "ipython",
    "version": 3
   },
   "file_extension": ".py",
   "mimetype": "text/x-python",
   "name": "python",
   "nbconvert_exporter": "python",
   "pygments_lexer": "ipython3",
   "version": "3.5.4"
  },
  "toc": {
   "nav_menu": {},
   "number_sections": true,
   "sideBar": true,
   "skip_h1_title": false,
   "title_cell": "Table of Contents",
   "title_sidebar": "Contents",
   "toc_cell": false,
   "toc_position": {},
   "toc_section_display": true,
   "toc_window_display": false
  },
  "varInspector": {
   "cols": {
    "lenName": 16,
    "lenType": 16,
    "lenVar": 40
   },
   "kernels_config": {
    "python": {
     "delete_cmd_postfix": "",
     "delete_cmd_prefix": "del ",
     "library": "var_list.py",
     "varRefreshCmd": "print(var_dic_list())"
    },
    "r": {
     "delete_cmd_postfix": ") ",
     "delete_cmd_prefix": "rm(",
     "library": "var_list.r",
     "varRefreshCmd": "cat(var_dic_list()) "
    }
   },
   "types_to_exclude": [
    "module",
    "function",
    "builtin_function_or_method",
    "instance",
    "_Feature"
   ],
   "window_display": false
  }
 },
 "nbformat": 4,
 "nbformat_minor": 2
}
