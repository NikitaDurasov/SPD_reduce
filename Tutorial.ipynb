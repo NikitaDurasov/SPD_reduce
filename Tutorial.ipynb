{
 "cells": [
  {
   "cell_type": "code",
   "execution_count": 1,
   "metadata": {
    "collapsed": false,
    "deletable": true,
    "editable": true
   },
   "outputs": [],
   "source": [
    "import torch \n",
    "from torch import nn\n",
    "from torch import FloatTensor\n",
    "from torch.autograd import Variable\n",
    "from torch import optim\n",
    "\n",
    "from numpy.linalg import matrix_rank\n",
    "from sklearn.datasets import make_spd_matrix\n",
    "import os\n",
    "from networkx import nx\n",
    "import matplotlib.pyplot as plt\n",
    "import numpy as np\n",
    "\n",
    "%matplotlib inline\n",
    "%load_ext autoreload\n",
    "%autoreload 2"
   ]
  },
  {
   "cell_type": "code",
   "execution_count": 2,
   "metadata": {
    "collapsed": false,
    "deletable": true,
    "editable": true
   },
   "outputs": [],
   "source": [
    "import SPD\n",
    "import dataset_tools as dt"
   ]
  },
  {
   "cell_type": "markdown",
   "metadata": {
    "deletable": true,
    "editable": true
   },
   "source": [
    "# Что хотим тут делать: \n",
    "\n",
    "Краткое описание задачи. Имеем [статью](https://aaai.org/ocs/index.php/AAAI/AAAI17/paper/download/14825/14321), в которой описан метод, который позволяет работать с положительными симметричными матрицами, а именно отображать их в матрица меньшего размера (что  круто). Сама статья не очень сложная, поэтому попробуем с помошью идей из нее решить некоторую другую задачу.\n",
    "\n",
    "Например, известно, что кроме матрицы смежностей для графов определяют еще [матрицу Лапласа](https://en.wikipedia.org/wiki/Laplacian_matrix), которая в качестве одного из своих свойств является неотрицательно определенной "
   ]
  },
  {
   "cell_type": "markdown",
   "metadata": {
    "deletable": true,
    "editable": true
   },
   "source": [
    "## Маломерное представление для матриц смежности\n",
    "\n",
    "В качестве первой задачи попробуем сделать некоторое подобие энкодера для графов, у которого в качестве слоев возьмем слои из статьи выше. Эксперименты будем проводить на [датасете](https://figshare.com/articles/MUTAG_and_ENZYMES_DataSet/899875), в котором есть ~200  графов. Обучим самый простой энкодер всего с 4-мя слоями: по два линейных и два SymmetricallyCleanLayer из статьи. "
   ]
  },
  {
   "cell_type": "markdown",
   "metadata": {
    "deletable": true,
    "editable": true
   },
   "source": [
    "### Датасет из положительно определённых матриц\n",
    "\n",
    "Сначала просто для теста сгенерим датасет из положительно определенных матриц и посмотрим на его результаты. "
   ]
  },
  {
   "cell_type": "code",
   "execution_count": 187,
   "metadata": {
    "collapsed": false,
    "deletable": true,
    "editable": true,
    "scrolled": true
   },
   "outputs": [
    {
     "name": "stderr",
     "output_type": "stream",
     "text": [
      "\n",
      "  0%|          | 0/999 [00:00<?, ?it/s]\u001b[A\n",
      "  0%|          | 2/999 [00:00<01:18, 12.63it/s]\u001b[A\n",
      "  0%|          | 4/999 [00:00<01:18, 12.61it/s]\u001b[A\n",
      "  1%|          | 6/999 [00:00<01:19, 12.43it/s]\u001b[A\n",
      "  1%|          | 8/999 [00:00<01:21, 12.18it/s]\u001b[A\n",
      "  1%|          | 9/999 [00:00<01:23, 11.79it/s]\u001b[A\n",
      "  1%|          | 10/999 [00:00<01:25, 11.57it/s]\u001b[A\n",
      "  1%|          | 12/999 [00:01<01:24, 11.62it/s]\u001b[A"
     ]
    },
    {
     "name": "stdout",
     "output_type": "stream",
     "text": [
      "EPOCH: 10, TRAIN LOSS: 6.968207359313965, TEST LOSS 8.690054893493652\n"
     ]
    },
    {
     "name": "stderr",
     "output_type": "stream",
     "text": [
      "\n",
      "  1%|▏         | 14/999 [00:01<01:24, 11.61it/s]\u001b[A\n",
      "  2%|▏         | 16/999 [00:01<01:26, 11.35it/s]\u001b[A\n",
      "  2%|▏         | 18/999 [00:01<01:25, 11.44it/s]\u001b[A\n",
      "  2%|▏         | 20/999 [00:01<01:25, 11.47it/s]\u001b[A\n",
      "  2%|▏         | 22/999 [00:01<01:24, 11.55it/s]\u001b[A"
     ]
    },
    {
     "name": "stdout",
     "output_type": "stream",
     "text": [
      "EPOCH: 20, TRAIN LOSS: 2.341021776199341, TEST LOSS 2.6160192489624023\n"
     ]
    },
    {
     "name": "stderr",
     "output_type": "stream",
     "text": [
      "\n",
      "  2%|▏         | 24/999 [00:02<01:24, 11.53it/s]\u001b[A\n",
      "  3%|▎         | 26/999 [00:02<01:24, 11.53it/s]\u001b[A\n",
      "  3%|▎         | 28/999 [00:02<01:24, 11.48it/s]\u001b[A\n",
      "  3%|▎         | 30/999 [00:02<01:24, 11.45it/s]\u001b[A\n",
      "  3%|▎         | 32/999 [00:02<01:24, 11.44it/s]\u001b[A"
     ]
    },
    {
     "name": "stdout",
     "output_type": "stream",
     "text": [
      "EPOCH: 30, TRAIN LOSS: 1.4044148921966553, TEST LOSS 1.2379708290100098\n"
     ]
    },
    {
     "name": "stderr",
     "output_type": "stream",
     "text": [
      "\n",
      "  3%|▎         | 34/999 [00:03<01:27, 11.06it/s]\u001b[A\n",
      "  4%|▎         | 36/999 [00:03<01:27, 11.05it/s]\u001b[A\n",
      "  4%|▍         | 38/999 [00:03<01:26, 11.14it/s]\u001b[A\n",
      "  4%|▍         | 40/999 [00:03<01:25, 11.19it/s]\u001b[A"
     ]
    },
    {
     "name": "stdout",
     "output_type": "stream",
     "text": [
      "EPOCH: 40, TRAIN LOSS: 1.2449212074279785, TEST LOSS 1.1252540349960327\n"
     ]
    },
    {
     "name": "stderr",
     "output_type": "stream",
     "text": [
      "\n",
      "  4%|▍         | 42/999 [00:03<01:27, 10.94it/s]\u001b[A\n",
      "  4%|▍         | 44/999 [00:04<01:29, 10.65it/s]\u001b[A\n",
      "  5%|▍         | 45/999 [00:04<01:29, 10.62it/s]\u001b[A\n",
      "  5%|▍         | 47/999 [00:04<01:29, 10.65it/s]\u001b[A\n",
      "  5%|▍         | 49/999 [00:04<01:28, 10.69it/s]\u001b[A\n",
      "  5%|▌         | 51/999 [00:04<01:28, 10.70it/s]\u001b[A"
     ]
    },
    {
     "name": "stdout",
     "output_type": "stream",
     "text": [
      "EPOCH: 50, TRAIN LOSS: 1.174118995666504, TEST LOSS 1.1086227893829346\n"
     ]
    },
    {
     "name": "stderr",
     "output_type": "stream",
     "text": [
      "\n",
      "  5%|▌         | 53/999 [00:04<01:28, 10.68it/s]\u001b[A\n",
      "  6%|▌         | 55/999 [00:05<01:28, 10.68it/s]\u001b[A\n",
      "  6%|▌         | 57/999 [00:05<01:28, 10.68it/s]\u001b[A\n",
      "  6%|▌         | 59/999 [00:05<01:29, 10.45it/s]\u001b[A\n",
      "  6%|▌         | 60/999 [00:05<01:30, 10.36it/s]\u001b[A\n",
      "  6%|▌         | 61/999 [00:05<01:31, 10.26it/s]\u001b[A"
     ]
    },
    {
     "name": "stdout",
     "output_type": "stream",
     "text": [
      "EPOCH: 60, TRAIN LOSS: 1.140807032585144, TEST LOSS 1.1053504943847656\n"
     ]
    },
    {
     "name": "stderr",
     "output_type": "stream",
     "text": [
      "\n",
      "  6%|▌         | 62/999 [00:06<01:32, 10.17it/s]\u001b[A\n",
      "  6%|▋         | 63/999 [00:06<01:32, 10.12it/s]\u001b[A\n",
      "  6%|▋         | 64/999 [00:06<01:32, 10.09it/s]\u001b[A\n",
      "  7%|▋         | 66/999 [00:06<01:32, 10.14it/s]\u001b[A\n",
      "  7%|▋         | 67/999 [00:06<01:31, 10.13it/s]\u001b[A\n",
      "  7%|▋         | 69/999 [00:06<01:31, 10.18it/s]\u001b[A\n",
      "  7%|▋         | 71/999 [00:06<01:30, 10.21it/s]\u001b[A"
     ]
    },
    {
     "name": "stdout",
     "output_type": "stream",
     "text": [
      "EPOCH: 70, TRAIN LOSS: 1.119438648223877, TEST LOSS 1.1050883531570435\n"
     ]
    },
    {
     "name": "stderr",
     "output_type": "stream",
     "text": [
      "\n",
      "  7%|▋         | 73/999 [00:07<01:32, 10.06it/s]\u001b[A\n",
      "Exception in thread Thread-17:\n",
      "Traceback (most recent call last):\n",
      "  File \"/Users/Macbook/anaconda/envs/py35/lib/python3.5/threading.py\", line 914, in _bootstrap_inner\n",
      "    self.run()\n",
      "  File \"/Users/Macbook/anaconda/envs/py35/lib/python3.5/site-packages/tqdm/_tqdm.py\", line 148, in run\n",
      "    for instance in self.tqdm_cls._instances:\n",
      "  File \"/Users/Macbook/anaconda/envs/py35/lib/python3.5/_weakrefset.py\", line 60, in __iter__\n",
      "    for itemref in self.data:\n",
      "RuntimeError: Set changed size during iteration\n",
      "\n",
      "  8%|▊         | 82/999 [00:08<01:29, 10.23it/s]"
     ]
    },
    {
     "name": "stdout",
     "output_type": "stream",
     "text": [
      "EPOCH: 80, TRAIN LOSS: 1.097057819366455, TEST LOSS 1.1052597761154175\n"
     ]
    },
    {
     "name": "stderr",
     "output_type": "stream",
     "text": [
      "  9%|▉         | 90/999 [00:08<01:29, 10.19it/s]"
     ]
    },
    {
     "name": "stdout",
     "output_type": "stream",
     "text": [
      "EPOCH: 90, TRAIN LOSS: 1.0706404447555542, TEST LOSS 1.0951968431472778\n"
     ]
    },
    {
     "name": "stderr",
     "output_type": "stream",
     "text": [
      " 10%|█         | 101/999 [00:09<01:28, 10.16it/s]"
     ]
    },
    {
     "name": "stdout",
     "output_type": "stream",
     "text": [
      "EPOCH: 100, TRAIN LOSS: 1.0402038097381592, TEST LOSS 1.0721750259399414\n"
     ]
    },
    {
     "name": "stderr",
     "output_type": "stream",
     "text": [
      " 11%|█         | 111/999 [00:10<01:26, 10.22it/s]"
     ]
    },
    {
     "name": "stdout",
     "output_type": "stream",
     "text": [
      "EPOCH: 110, TRAIN LOSS: 1.0018846988677979, TEST LOSS 1.0364058017730713\n"
     ]
    },
    {
     "name": "stderr",
     "output_type": "stream",
     "text": [
      " 12%|█▏        | 121/999 [00:11<01:24, 10.36it/s]"
     ]
    },
    {
     "name": "stdout",
     "output_type": "stream",
     "text": [
      "EPOCH: 120, TRAIN LOSS: 0.9751952886581421, TEST LOSS 1.0089508295059204\n"
     ]
    },
    {
     "name": "stderr",
     "output_type": "stream",
     "text": [
      " 13%|█▎        | 131/999 [00:12<01:23, 10.42it/s]"
     ]
    },
    {
     "name": "stdout",
     "output_type": "stream",
     "text": [
      "EPOCH: 130, TRAIN LOSS: 0.9579085111618042, TEST LOSS 0.9946497082710266\n"
     ]
    },
    {
     "name": "stderr",
     "output_type": "stream",
     "text": [
      " 14%|█▍        | 141/999 [00:13<01:22, 10.35it/s]"
     ]
    },
    {
     "name": "stdout",
     "output_type": "stream",
     "text": [
      "EPOCH: 140, TRAIN LOSS: 0.9389818906784058, TEST LOSS 0.9835097789764404\n"
     ]
    },
    {
     "name": "stderr",
     "output_type": "stream",
     "text": [
      " 15%|█▌        | 151/999 [00:14<01:22, 10.34it/s]"
     ]
    },
    {
     "name": "stdout",
     "output_type": "stream",
     "text": [
      "EPOCH: 150, TRAIN LOSS: 0.9207599759101868, TEST LOSS 0.9750453233718872\n"
     ]
    },
    {
     "name": "stderr",
     "output_type": "stream",
     "text": [
      " 16%|█▌        | 161/999 [00:15<01:21, 10.23it/s]"
     ]
    },
    {
     "name": "stdout",
     "output_type": "stream",
     "text": [
      "EPOCH: 160, TRAIN LOSS: 0.9022831916809082, TEST LOSS 0.9627546668052673\n"
     ]
    },
    {
     "name": "stderr",
     "output_type": "stream",
     "text": [
      " 17%|█▋        | 171/999 [00:16<01:20, 10.24it/s]"
     ]
    },
    {
     "name": "stdout",
     "output_type": "stream",
     "text": [
      "EPOCH: 170, TRAIN LOSS: 0.8818556070327759, TEST LOSS 0.9468567967414856\n"
     ]
    },
    {
     "name": "stderr",
     "output_type": "stream",
     "text": [
      " 18%|█▊        | 181/999 [00:17<01:19, 10.33it/s]"
     ]
    },
    {
     "name": "stdout",
     "output_type": "stream",
     "text": [
      "EPOCH: 180, TRAIN LOSS: 0.8600527048110962, TEST LOSS 0.9284488558769226\n"
     ]
    },
    {
     "name": "stderr",
     "output_type": "stream",
     "text": [
      " 19%|█▉        | 191/999 [00:18<01:18, 10.35it/s]"
     ]
    },
    {
     "name": "stdout",
     "output_type": "stream",
     "text": [
      "EPOCH: 190, TRAIN LOSS: 0.8371096849441528, TEST LOSS 0.9050159454345703\n"
     ]
    },
    {
     "name": "stderr",
     "output_type": "stream",
     "text": [
      " 20%|██        | 201/999 [00:19<01:16, 10.42it/s]"
     ]
    },
    {
     "name": "stdout",
     "output_type": "stream",
     "text": [
      "EPOCH: 200, TRAIN LOSS: 0.8155864477157593, TEST LOSS 0.8808035850524902\n"
     ]
    },
    {
     "name": "stderr",
     "output_type": "stream",
     "text": [
      " 21%|██        | 211/999 [00:20<01:15, 10.48it/s]"
     ]
    },
    {
     "name": "stdout",
     "output_type": "stream",
     "text": [
      "EPOCH: 210, TRAIN LOSS: 0.7945561408996582, TEST LOSS 0.8602314591407776\n"
     ]
    },
    {
     "name": "stderr",
     "output_type": "stream",
     "text": [
      " 22%|██▏       | 221/999 [00:20<01:13, 10.53it/s]"
     ]
    },
    {
     "name": "stdout",
     "output_type": "stream",
     "text": [
      "EPOCH: 220, TRAIN LOSS: 0.77338045835495, TEST LOSS 0.841893196105957\n"
     ]
    },
    {
     "name": "stderr",
     "output_type": "stream",
     "text": [
      " 23%|██▎       | 231/999 [00:22<01:13, 10.49it/s]"
     ]
    },
    {
     "name": "stdout",
     "output_type": "stream",
     "text": [
      "EPOCH: 230, TRAIN LOSS: 0.7513979077339172, TEST LOSS 0.8237003087997437\n"
     ]
    },
    {
     "name": "stderr",
     "output_type": "stream",
     "text": [
      " 24%|██▍       | 242/999 [00:23<01:12, 10.41it/s]"
     ]
    },
    {
     "name": "stdout",
     "output_type": "stream",
     "text": [
      "EPOCH: 240, TRAIN LOSS: 0.7281006574630737, TEST LOSS 0.8054870963096619\n"
     ]
    },
    {
     "name": "stderr",
     "output_type": "stream",
     "text": [
      " 25%|██▌       | 252/999 [00:24<01:11, 10.46it/s]"
     ]
    },
    {
     "name": "stdout",
     "output_type": "stream",
     "text": [
      "EPOCH: 250, TRAIN LOSS: 0.7027376890182495, TEST LOSS 0.7831583619117737\n"
     ]
    },
    {
     "name": "stderr",
     "output_type": "stream",
     "text": [
      " 26%|██▌       | 260/999 [00:24<01:10, 10.43it/s]"
     ]
    },
    {
     "name": "stdout",
     "output_type": "stream",
     "text": [
      "EPOCH: 260, TRAIN LOSS: 0.6744909286499023, TEST LOSS 0.7549208998680115\n"
     ]
    },
    {
     "name": "stderr",
     "output_type": "stream",
     "text": [
      " 27%|██▋       | 272/999 [00:26<01:10, 10.36it/s]"
     ]
    },
    {
     "name": "stdout",
     "output_type": "stream",
     "text": [
      "EPOCH: 270, TRAIN LOSS: 0.644681453704834, TEST LOSS 0.7194063067436218\n"
     ]
    },
    {
     "name": "stderr",
     "output_type": "stream",
     "text": [
      " 28%|██▊       | 282/999 [00:27<01:09, 10.37it/s]"
     ]
    },
    {
     "name": "stdout",
     "output_type": "stream",
     "text": [
      "EPOCH: 280, TRAIN LOSS: 0.6157381534576416, TEST LOSS 0.6807851791381836\n"
     ]
    },
    {
     "name": "stderr",
     "output_type": "stream",
     "text": [
      " 29%|██▉       | 292/999 [00:28<01:07, 10.41it/s]"
     ]
    },
    {
     "name": "stdout",
     "output_type": "stream",
     "text": [
      "EPOCH: 290, TRAIN LOSS: 0.5910767316818237, TEST LOSS 0.6493476033210754\n"
     ]
    },
    {
     "name": "stderr",
     "output_type": "stream",
     "text": [
      " 30%|███       | 302/999 [00:28<01:06, 10.42it/s]"
     ]
    },
    {
     "name": "stdout",
     "output_type": "stream",
     "text": [
      "EPOCH: 300, TRAIN LOSS: 0.5682643055915833, TEST LOSS 0.6242988109588623\n"
     ]
    },
    {
     "name": "stderr",
     "output_type": "stream",
     "text": [
      " 31%|███       | 312/999 [00:29<01:05, 10.46it/s]"
     ]
    },
    {
     "name": "stdout",
     "output_type": "stream",
     "text": [
      "EPOCH: 310, TRAIN LOSS: 0.5459584593772888, TEST LOSS 0.603882908821106\n"
     ]
    },
    {
     "name": "stderr",
     "output_type": "stream",
     "text": [
      " 32%|███▏      | 322/999 [00:30<01:04, 10.50it/s]"
     ]
    },
    {
     "name": "stdout",
     "output_type": "stream",
     "text": [
      "EPOCH: 320, TRAIN LOSS: 0.5239473581314087, TEST LOSS 0.5831701755523682\n"
     ]
    },
    {
     "name": "stderr",
     "output_type": "stream",
     "text": [
      " 33%|███▎      | 332/999 [00:31<01:03, 10.52it/s]"
     ]
    },
    {
     "name": "stdout",
     "output_type": "stream",
     "text": [
      "EPOCH: 330, TRAIN LOSS: 0.5008547902107239, TEST LOSS 0.5630534887313843\n"
     ]
    },
    {
     "name": "stderr",
     "output_type": "stream",
     "text": [
      " 34%|███▍      | 342/999 [00:32<01:02, 10.52it/s]"
     ]
    },
    {
     "name": "stdout",
     "output_type": "stream",
     "text": [
      "EPOCH: 340, TRAIN LOSS: 0.47753703594207764, TEST LOSS 0.542799711227417\n"
     ]
    },
    {
     "name": "stderr",
     "output_type": "stream",
     "text": [
      " 35%|███▌      | 352/999 [00:33<01:01, 10.54it/s]"
     ]
    },
    {
     "name": "stdout",
     "output_type": "stream",
     "text": [
      "EPOCH: 350, TRAIN LOSS: 0.4532957971096039, TEST LOSS 0.5200625658035278\n"
     ]
    },
    {
     "name": "stderr",
     "output_type": "stream",
     "text": [
      " 36%|███▌      | 362/999 [00:34<01:00, 10.58it/s]"
     ]
    },
    {
     "name": "stdout",
     "output_type": "stream",
     "text": [
      "EPOCH: 360, TRAIN LOSS: 0.43020886182785034, TEST LOSS 0.4977532923221588\n"
     ]
    },
    {
     "name": "stderr",
     "output_type": "stream",
     "text": [
      " 37%|███▋      | 370/999 [00:34<00:59, 10.59it/s]"
     ]
    },
    {
     "name": "stdout",
     "output_type": "stream",
     "text": [
      "EPOCH: 370, TRAIN LOSS: 0.40932437777519226, TEST LOSS 0.47675567865371704\n"
     ]
    },
    {
     "name": "stderr",
     "output_type": "stream",
     "text": [
      " 38%|███▊      | 382/999 [00:36<00:58, 10.58it/s]"
     ]
    },
    {
     "name": "stdout",
     "output_type": "stream",
     "text": [
      "EPOCH: 380, TRAIN LOSS: 0.3919260799884796, TEST LOSS 0.46117103099823\n"
     ]
    },
    {
     "name": "stderr",
     "output_type": "stream",
     "text": [
      " 39%|███▉      | 392/999 [00:37<00:57, 10.59it/s]"
     ]
    },
    {
     "name": "stdout",
     "output_type": "stream",
     "text": [
      "EPOCH: 390, TRAIN LOSS: 0.376848042011261, TEST LOSS 0.4479031562805176\n"
     ]
    },
    {
     "name": "stderr",
     "output_type": "stream",
     "text": [
      " 40%|████      | 402/999 [00:37<00:56, 10.63it/s]"
     ]
    },
    {
     "name": "stdout",
     "output_type": "stream",
     "text": [
      "EPOCH: 400, TRAIN LOSS: 0.36309459805488586, TEST LOSS 0.43634364008903503\n"
     ]
    },
    {
     "name": "stderr",
     "output_type": "stream",
     "text": [
      " 41%|████      | 412/999 [00:38<00:55, 10.60it/s]"
     ]
    },
    {
     "name": "stdout",
     "output_type": "stream",
     "text": [
      "EPOCH: 410, TRAIN LOSS: 0.35072094202041626, TEST LOSS 0.4279869496822357\n"
     ]
    },
    {
     "name": "stderr",
     "output_type": "stream",
     "text": [
      " 42%|████▏     | 422/999 [00:39<00:54, 10.61it/s]"
     ]
    },
    {
     "name": "stdout",
     "output_type": "stream",
     "text": [
      "EPOCH: 420, TRAIN LOSS: 0.33966511487960815, TEST LOSS 0.4205702543258667\n"
     ]
    },
    {
     "name": "stderr",
     "output_type": "stream",
     "text": [
      " 43%|████▎     | 432/999 [00:40<00:53, 10.63it/s]"
     ]
    },
    {
     "name": "stdout",
     "output_type": "stream",
     "text": [
      "EPOCH: 430, TRAIN LOSS: 0.32970428466796875, TEST LOSS 0.4144282639026642\n"
     ]
    },
    {
     "name": "stderr",
     "output_type": "stream",
     "text": [
      " 44%|████▍     | 442/999 [00:41<00:52, 10.67it/s]"
     ]
    },
    {
     "name": "stdout",
     "output_type": "stream",
     "text": [
      "EPOCH: 440, TRAIN LOSS: 0.3210178315639496, TEST LOSS 0.40911248326301575\n"
     ]
    },
    {
     "name": "stderr",
     "output_type": "stream",
     "text": [
      " 45%|████▌     | 452/999 [00:42<00:51, 10.68it/s]"
     ]
    },
    {
     "name": "stdout",
     "output_type": "stream",
     "text": [
      "EPOCH: 450, TRAIN LOSS: 0.313498318195343, TEST LOSS 0.4042074978351593\n"
     ]
    },
    {
     "name": "stderr",
     "output_type": "stream",
     "text": [
      " 46%|████▌     | 462/999 [00:43<00:50, 10.72it/s]"
     ]
    },
    {
     "name": "stdout",
     "output_type": "stream",
     "text": [
      "EPOCH: 460, TRAIN LOSS: 0.3064330518245697, TEST LOSS 0.4002317786216736\n"
     ]
    },
    {
     "name": "stderr",
     "output_type": "stream",
     "text": [
      " 47%|████▋     | 472/999 [00:43<00:48, 10.76it/s]"
     ]
    },
    {
     "name": "stdout",
     "output_type": "stream",
     "text": [
      "EPOCH: 470, TRAIN LOSS: 0.30021706223487854, TEST LOSS 0.3970071077346802\n"
     ]
    },
    {
     "name": "stderr",
     "output_type": "stream",
     "text": [
      " 48%|████▊     | 482/999 [00:44<00:47, 10.80it/s]"
     ]
    },
    {
     "name": "stdout",
     "output_type": "stream",
     "text": [
      "EPOCH: 480, TRAIN LOSS: 0.2947506606578827, TEST LOSS 0.3945746421813965\n"
     ]
    },
    {
     "name": "stderr",
     "output_type": "stream",
     "text": [
      " 49%|████▉     | 492/999 [00:45<00:46, 10.82it/s]"
     ]
    },
    {
     "name": "stdout",
     "output_type": "stream",
     "text": [
      "EPOCH: 490, TRAIN LOSS: 0.290019690990448, TEST LOSS 0.39277124404907227\n"
     ]
    },
    {
     "name": "stderr",
     "output_type": "stream",
     "text": [
      " 50%|█████     | 500/999 [00:46<00:46, 10.84it/s]"
     ]
    },
    {
     "name": "stdout",
     "output_type": "stream",
     "text": [
      "EPOCH: 500, TRAIN LOSS: 0.28606343269348145, TEST LOSS 0.3914687931537628\n"
     ]
    },
    {
     "name": "stderr",
     "output_type": "stream",
     "text": [
      " 51%|█████▏    | 512/999 [00:47<00:44, 10.86it/s]"
     ]
    },
    {
     "name": "stdout",
     "output_type": "stream",
     "text": [
      "EPOCH: 510, TRAIN LOSS: 0.2828051745891571, TEST LOSS 0.3904089033603668\n"
     ]
    },
    {
     "name": "stderr",
     "output_type": "stream",
     "text": [
      " 52%|█████▏    | 520/999 [00:47<00:44, 10.88it/s]"
     ]
    },
    {
     "name": "stdout",
     "output_type": "stream",
     "text": [
      "EPOCH: 520, TRAIN LOSS: 0.2801343500614166, TEST LOSS 0.38960394263267517\n"
     ]
    },
    {
     "name": "stderr",
     "output_type": "stream",
     "text": [
      " 53%|█████▎    | 532/999 [00:48<00:42, 10.89it/s]"
     ]
    },
    {
     "name": "stdout",
     "output_type": "stream",
     "text": [
      "EPOCH: 530, TRAIN LOSS: 0.27786290645599365, TEST LOSS 0.38878029584884644\n"
     ]
    },
    {
     "name": "stderr",
     "output_type": "stream",
     "text": [
      " 54%|█████▍    | 542/999 [00:49<00:41, 10.91it/s]"
     ]
    },
    {
     "name": "stdout",
     "output_type": "stream",
     "text": [
      "EPOCH: 540, TRAIN LOSS: 0.27581286430358887, TEST LOSS 0.38791623711586\n"
     ]
    },
    {
     "name": "stderr",
     "output_type": "stream",
     "text": [
      " 55%|█████▌    | 552/999 [00:50<00:40, 10.93it/s]"
     ]
    },
    {
     "name": "stdout",
     "output_type": "stream",
     "text": [
      "EPOCH: 550, TRAIN LOSS: 0.2740107476711273, TEST LOSS 0.38689884543418884\n"
     ]
    },
    {
     "name": "stderr",
     "output_type": "stream",
     "text": [
      " 56%|█████▋    | 562/999 [00:51<00:40, 10.92it/s]"
     ]
    },
    {
     "name": "stdout",
     "output_type": "stream",
     "text": [
      "EPOCH: 560, TRAIN LOSS: 0.27241870760917664, TEST LOSS 0.38578611612319946\n"
     ]
    },
    {
     "name": "stderr",
     "output_type": "stream",
     "text": [
      " 57%|█████▋    | 572/999 [00:52<00:39, 10.93it/s]"
     ]
    },
    {
     "name": "stdout",
     "output_type": "stream",
     "text": [
      "EPOCH: 570, TRAIN LOSS: 0.27096718549728394, TEST LOSS 0.38464629650115967\n"
     ]
    },
    {
     "name": "stderr",
     "output_type": "stream",
     "text": [
      " 58%|█████▊    | 582/999 [00:53<00:38, 10.94it/s]"
     ]
    },
    {
     "name": "stdout",
     "output_type": "stream",
     "text": [
      "EPOCH: 580, TRAIN LOSS: 0.26960596442222595, TEST LOSS 0.3834735155105591\n"
     ]
    },
    {
     "name": "stderr",
     "output_type": "stream",
     "text": [
      " 59%|█████▉    | 592/999 [00:54<00:37, 10.95it/s]"
     ]
    },
    {
     "name": "stdout",
     "output_type": "stream",
     "text": [
      "EPOCH: 590, TRAIN LOSS: 0.2683123052120209, TEST LOSS 0.38238564133644104\n"
     ]
    },
    {
     "name": "stderr",
     "output_type": "stream",
     "text": [
      " 60%|██████    | 602/999 [00:55<00:36, 10.94it/s]"
     ]
    },
    {
     "name": "stdout",
     "output_type": "stream",
     "text": [
      "EPOCH: 600, TRAIN LOSS: 0.26707711815834045, TEST LOSS 0.3811727464199066\n"
     ]
    },
    {
     "name": "stderr",
     "output_type": "stream",
     "text": [
      " 61%|██████▏   | 612/999 [00:55<00:35, 10.97it/s]"
     ]
    },
    {
     "name": "stdout",
     "output_type": "stream",
     "text": [
      "EPOCH: 610, TRAIN LOSS: 0.26590651273727417, TEST LOSS 0.3799596130847931\n"
     ]
    },
    {
     "name": "stderr",
     "output_type": "stream",
     "text": [
      " 62%|██████▏   | 622/999 [00:56<00:34, 11.00it/s]"
     ]
    },
    {
     "name": "stdout",
     "output_type": "stream",
     "text": [
      "EPOCH: 620, TRAIN LOSS: 0.2647686004638672, TEST LOSS 0.37864622473716736\n"
     ]
    },
    {
     "name": "stderr",
     "output_type": "stream",
     "text": [
      " 63%|██████▎   | 632/999 [00:57<00:33, 11.02it/s]"
     ]
    },
    {
     "name": "stdout",
     "output_type": "stream",
     "text": [
      "EPOCH: 630, TRAIN LOSS: 0.26363107562065125, TEST LOSS 0.37736016511917114\n"
     ]
    },
    {
     "name": "stderr",
     "output_type": "stream",
     "text": [
      " 64%|██████▍   | 642/999 [00:58<00:32, 11.03it/s]"
     ]
    },
    {
     "name": "stdout",
     "output_type": "stream",
     "text": [
      "EPOCH: 640, TRAIN LOSS: 0.26247379183769226, TEST LOSS 0.37601345777511597\n"
     ]
    },
    {
     "name": "stderr",
     "output_type": "stream",
     "text": [
      " 65%|██████▌   | 652/999 [00:58<00:31, 11.06it/s]"
     ]
    },
    {
     "name": "stdout",
     "output_type": "stream",
     "text": [
      "EPOCH: 650, TRAIN LOSS: 0.2612477242946625, TEST LOSS 0.374494343996048\n"
     ]
    },
    {
     "name": "stderr",
     "output_type": "stream",
     "text": [
      " 66%|██████▋   | 662/999 [00:59<00:30, 11.08it/s]"
     ]
    },
    {
     "name": "stdout",
     "output_type": "stream",
     "text": [
      "EPOCH: 660, TRAIN LOSS: 0.2600168287754059, TEST LOSS 0.37287259101867676\n"
     ]
    },
    {
     "name": "stderr",
     "output_type": "stream",
     "text": [
      " 67%|██████▋   | 670/999 [01:00<00:29, 11.10it/s]"
     ]
    },
    {
     "name": "stdout",
     "output_type": "stream",
     "text": [
      "EPOCH: 670, TRAIN LOSS: 0.25879156589508057, TEST LOSS 0.3712191581726074\n"
     ]
    },
    {
     "name": "stderr",
     "output_type": "stream",
     "text": [
      " 68%|██████▊   | 682/999 [01:01<00:28, 11.11it/s]"
     ]
    },
    {
     "name": "stdout",
     "output_type": "stream",
     "text": [
      "EPOCH: 680, TRAIN LOSS: 0.25753113627433777, TEST LOSS 0.3695200979709625\n"
     ]
    },
    {
     "name": "stderr",
     "output_type": "stream",
     "text": [
      " 69%|██████▉   | 692/999 [01:02<00:27, 11.13it/s]"
     ]
    },
    {
     "name": "stdout",
     "output_type": "stream",
     "text": [
      "EPOCH: 690, TRAIN LOSS: 0.25619906187057495, TEST LOSS 0.3678280711174011\n"
     ]
    },
    {
     "name": "stderr",
     "output_type": "stream",
     "text": [
      " 70%|███████   | 702/999 [01:03<00:26, 11.13it/s]"
     ]
    },
    {
     "name": "stdout",
     "output_type": "stream",
     "text": [
      "EPOCH: 700, TRAIN LOSS: 0.25483667850494385, TEST LOSS 0.366073340177536\n"
     ]
    },
    {
     "name": "stderr",
     "output_type": "stream",
     "text": [
      " 71%|███████▏  | 712/999 [01:04<00:25, 11.12it/s]"
     ]
    },
    {
     "name": "stdout",
     "output_type": "stream",
     "text": [
      "EPOCH: 710, TRAIN LOSS: 0.2533820867538452, TEST LOSS 0.3641358017921448\n"
     ]
    },
    {
     "name": "stderr",
     "output_type": "stream",
     "text": [
      " 72%|███████▏  | 721/999 [01:04<00:25, 11.10it/s]"
     ]
    },
    {
     "name": "stdout",
     "output_type": "stream",
     "text": [
      "EPOCH: 720, TRAIN LOSS: 0.25186705589294434, TEST LOSS 0.3622240424156189\n"
     ]
    },
    {
     "name": "stderr",
     "output_type": "stream",
     "text": [
      " 73%|███████▎  | 731/999 [01:05<00:24, 11.10it/s]"
     ]
    },
    {
     "name": "stdout",
     "output_type": "stream",
     "text": [
      "EPOCH: 730, TRAIN LOSS: 0.25027212500572205, TEST LOSS 0.36020535230636597\n"
     ]
    },
    {
     "name": "stderr",
     "output_type": "stream",
     "text": [
      " 74%|███████▍  | 741/999 [01:06<00:23, 11.09it/s]"
     ]
    },
    {
     "name": "stdout",
     "output_type": "stream",
     "text": [
      "EPOCH: 740, TRAIN LOSS: 0.2486053705215454, TEST LOSS 0.3577384948730469\n"
     ]
    },
    {
     "name": "stderr",
     "output_type": "stream",
     "text": [
      " 75%|███████▌  | 751/999 [01:07<00:22, 11.07it/s]"
     ]
    },
    {
     "name": "stdout",
     "output_type": "stream",
     "text": [
      "EPOCH: 750, TRAIN LOSS: 0.24686041474342346, TEST LOSS 0.3550771474838257\n"
     ]
    },
    {
     "name": "stderr",
     "output_type": "stream",
     "text": [
      " 76%|███████▌  | 761/999 [01:08<00:21, 11.07it/s]"
     ]
    },
    {
     "name": "stdout",
     "output_type": "stream",
     "text": [
      "EPOCH: 760, TRAIN LOSS: 0.24501803517341614, TEST LOSS 0.3521961271762848\n"
     ]
    },
    {
     "name": "stderr",
     "output_type": "stream",
     "text": [
      " 77%|███████▋  | 771/999 [01:09<00:20, 11.05it/s]"
     ]
    },
    {
     "name": "stdout",
     "output_type": "stream",
     "text": [
      "EPOCH: 770, TRAIN LOSS: 0.24306116998195648, TEST LOSS 0.34909093379974365\n"
     ]
    },
    {
     "name": "stderr",
     "output_type": "stream",
     "text": [
      " 78%|███████▊  | 781/999 [01:10<00:19, 11.03it/s]"
     ]
    },
    {
     "name": "stdout",
     "output_type": "stream",
     "text": [
      "EPOCH: 780, TRAIN LOSS: 0.24097806215286255, TEST LOSS 0.3455047607421875\n"
     ]
    },
    {
     "name": "stderr",
     "output_type": "stream",
     "text": [
      " 79%|███████▉  | 792/999 [01:12<00:18, 10.99it/s]"
     ]
    },
    {
     "name": "stdout",
     "output_type": "stream",
     "text": [
      "EPOCH: 790, TRAIN LOSS: 0.23875373601913452, TEST LOSS 0.3413948118686676\n"
     ]
    },
    {
     "name": "stderr",
     "output_type": "stream",
     "text": [
      " 80%|████████  | 801/999 [01:12<00:18, 10.98it/s]"
     ]
    },
    {
     "name": "stdout",
     "output_type": "stream",
     "text": [
      "EPOCH: 800, TRAIN LOSS: 0.23637869954109192, TEST LOSS 0.3368360698223114\n"
     ]
    },
    {
     "name": "stderr",
     "output_type": "stream",
     "text": [
      " 81%|████████  | 811/999 [01:13<00:17, 10.97it/s]"
     ]
    },
    {
     "name": "stdout",
     "output_type": "stream",
     "text": [
      "EPOCH: 810, TRAIN LOSS: 0.23384152352809906, TEST LOSS 0.3317544162273407\n"
     ]
    },
    {
     "name": "stderr",
     "output_type": "stream",
     "text": [
      " 82%|████████▏ | 821/999 [01:14<00:16, 10.96it/s]"
     ]
    },
    {
     "name": "stdout",
     "output_type": "stream",
     "text": [
      "EPOCH: 820, TRAIN LOSS: 0.23115096986293793, TEST LOSS 0.3262110650539398\n"
     ]
    },
    {
     "name": "stderr",
     "output_type": "stream",
     "text": [
      " 83%|████████▎ | 832/999 [01:16<00:15, 10.93it/s]"
     ]
    },
    {
     "name": "stdout",
     "output_type": "stream",
     "text": [
      "EPOCH: 830, TRAIN LOSS: 0.22831961512565613, TEST LOSS 0.3201711177825928\n"
     ]
    },
    {
     "name": "stderr",
     "output_type": "stream",
     "text": [
      " 84%|████████▍ | 841/999 [01:17<00:14, 10.91it/s]"
     ]
    },
    {
     "name": "stdout",
     "output_type": "stream",
     "text": [
      "EPOCH: 840, TRAIN LOSS: 0.22535930573940277, TEST LOSS 0.3135351538658142\n"
     ]
    },
    {
     "name": "stderr",
     "output_type": "stream",
     "text": [
      " 85%|████████▌ | 851/999 [01:17<00:13, 10.92it/s]"
     ]
    },
    {
     "name": "stdout",
     "output_type": "stream",
     "text": [
      "EPOCH: 850, TRAIN LOSS: 0.22225700318813324, TEST LOSS 0.30645814538002014\n"
     ]
    },
    {
     "name": "stderr",
     "output_type": "stream",
     "text": [
      " 86%|████████▌ | 861/999 [01:18<00:12, 10.90it/s]"
     ]
    },
    {
     "name": "stdout",
     "output_type": "stream",
     "text": [
      "EPOCH: 860, TRAIN LOSS: 0.2190544307231903, TEST LOSS 0.2989732325077057\n"
     ]
    },
    {
     "name": "stderr",
     "output_type": "stream",
     "text": [
      " 87%|████████▋ | 872/999 [01:20<00:11, 10.89it/s]"
     ]
    },
    {
     "name": "stdout",
     "output_type": "stream",
     "text": [
      "EPOCH: 870, TRAIN LOSS: 0.21580001711845398, TEST LOSS 0.29105526208877563\n"
     ]
    },
    {
     "name": "stderr",
     "output_type": "stream",
     "text": [
      " 88%|████████▊ | 881/999 [01:21<00:10, 10.86it/s]"
     ]
    },
    {
     "name": "stdout",
     "output_type": "stream",
     "text": [
      "EPOCH: 880, TRAIN LOSS: 0.21252332627773285, TEST LOSS 0.2828589081764221\n"
     ]
    },
    {
     "name": "stderr",
     "output_type": "stream",
     "text": [
      " 89%|████████▉ | 891/999 [01:22<00:09, 10.86it/s]"
     ]
    },
    {
     "name": "stdout",
     "output_type": "stream",
     "text": [
      "EPOCH: 890, TRAIN LOSS: 0.20925837755203247, TEST LOSS 0.274495393037796\n"
     ]
    },
    {
     "name": "stderr",
     "output_type": "stream",
     "text": [
      " 90%|█████████ | 900/999 [01:23<00:09, 10.84it/s]"
     ]
    },
    {
     "name": "stdout",
     "output_type": "stream",
     "text": [
      "EPOCH: 900, TRAIN LOSS: 0.20605264604091644, TEST LOSS 0.26626259088516235\n"
     ]
    },
    {
     "name": "stderr",
     "output_type": "stream",
     "text": [
      " 91%|█████████ | 911/999 [01:24<00:08, 10.83it/s]"
     ]
    },
    {
     "name": "stdout",
     "output_type": "stream",
     "text": [
      "EPOCH: 910, TRAIN LOSS: 0.20291344821453094, TEST LOSS 0.25824427604675293\n"
     ]
    },
    {
     "name": "stderr",
     "output_type": "stream",
     "text": [
      " 92%|█████████▏| 921/999 [01:25<00:07, 10.82it/s]"
     ]
    },
    {
     "name": "stdout",
     "output_type": "stream",
     "text": [
      "EPOCH: 920, TRAIN LOSS: 0.19982409477233887, TEST LOSS 0.25048592686653137\n"
     ]
    },
    {
     "name": "stderr",
     "output_type": "stream",
     "text": [
      " 93%|█████████▎| 932/999 [01:26<00:06, 10.80it/s]"
     ]
    },
    {
     "name": "stdout",
     "output_type": "stream",
     "text": [
      "EPOCH: 930, TRAIN LOSS: 0.19680476188659668, TEST LOSS 0.24297714233398438\n"
     ]
    },
    {
     "name": "stderr",
     "output_type": "stream",
     "text": [
      " 94%|█████████▍| 942/999 [01:27<00:05, 10.78it/s]"
     ]
    },
    {
     "name": "stdout",
     "output_type": "stream",
     "text": [
      "EPOCH: 940, TRAIN LOSS: 0.19389823079109192, TEST LOSS 0.23559673130512238\n"
     ]
    },
    {
     "name": "stderr",
     "output_type": "stream",
     "text": [
      " 95%|█████████▌| 952/999 [01:28<00:04, 10.78it/s]"
     ]
    },
    {
     "name": "stdout",
     "output_type": "stream",
     "text": [
      "EPOCH: 950, TRAIN LOSS: 0.1911197006702423, TEST LOSS 0.22859683632850647\n"
     ]
    },
    {
     "name": "stderr",
     "output_type": "stream",
     "text": [
      " 96%|█████████▋| 962/999 [01:29<00:03, 10.78it/s]"
     ]
    },
    {
     "name": "stdout",
     "output_type": "stream",
     "text": [
      "EPOCH: 960, TRAIN LOSS: 0.1884855180978775, TEST LOSS 0.22202636301517487\n"
     ]
    },
    {
     "name": "stderr",
     "output_type": "stream",
     "text": [
      " 97%|█████████▋| 971/999 [01:30<00:02, 10.77it/s]"
     ]
    },
    {
     "name": "stdout",
     "output_type": "stream",
     "text": [
      "EPOCH: 970, TRAIN LOSS: 0.18602560460567474, TEST LOSS 0.21582242846488953\n"
     ]
    },
    {
     "name": "stderr",
     "output_type": "stream",
     "text": [
      " 98%|█████████▊| 981/999 [01:31<00:01, 10.74it/s]"
     ]
    },
    {
     "name": "stdout",
     "output_type": "stream",
     "text": [
      "EPOCH: 980, TRAIN LOSS: 0.18375475704669952, TEST LOSS 0.20998935401439667\n"
     ]
    },
    {
     "name": "stderr",
     "output_type": "stream",
     "text": [
      " 99%|█████████▉| 991/999 [01:32<00:00, 10.73it/s]"
     ]
    },
    {
     "name": "stdout",
     "output_type": "stream",
     "text": [
      "EPOCH: 990, TRAIN LOSS: 0.18164803087711334, TEST LOSS 0.2044777125120163\n"
     ]
    },
    {
     "name": "stderr",
     "output_type": "stream",
     "text": [
      "100%|██████████| 999/999 [01:33<00:00, 10.72it/s]\n"
     ]
    }
   ],
   "source": [
    "# учим сетку, возвращаем ее и датасет\n",
    "coder, dataset = SPD.run_test(n_iterations=1000)"
   ]
  },
  {
   "cell_type": "code",
   "execution_count": 190,
   "metadata": {
    "collapsed": false,
    "deletable": true,
    "editable": true
   },
   "outputs": [
    {
     "name": "stdout",
     "output_type": "stream",
     "text": [
      "Результат применения нашей модели к произвольной матрице\n",
      " Variable containing:\n",
      " 1.1597 -1.2545  0.2238 -1.3226 -0.8728 -0.5074\n",
      "-1.2545  1.8764 -0.3922  1.6513  0.9479  0.4915\n",
      " 0.2238 -0.3922  0.3590 -0.5085 -0.3040 -0.0251\n",
      "-1.3226  1.6513 -0.5085  2.5638  1.1053  0.3887\n",
      "-0.8728  0.9479 -0.3040  1.1053  1.4248  0.0865\n",
      "-0.5074  0.4915 -0.0251  0.3887  0.0865  0.3594\n",
      "[torch.FloatTensor of size 6x6]\n",
      "\n",
      "Сама матрица\n",
      " Variable containing:\n",
      " 1.6538 -1.6044  0.2423 -1.5757 -0.8835 -0.0873\n",
      "-1.6044  2.3821 -0.3803  2.0151  1.1325  0.0097\n",
      " 0.2423 -0.3803  0.3766 -0.4845 -0.2825 -0.0868\n",
      "-1.5757  2.0151 -0.4845  2.5606  1.0514  0.2524\n",
      "-0.8835  1.1325 -0.2825  1.0514  1.3400  0.0003\n",
      "-0.0873  0.0097 -0.0868  0.2524  0.0003  0.3175\n",
      "[torch.FloatTensor of size 6x6]\n",
      "\n"
     ]
    }
   ],
   "source": [
    "print(\"Результат применения нашей модели к произвольной матрице\\n\", coder(dataset)[0])\n",
    "print(\"Сама матрица\\n\", dataset[0])"
   ]
  },
  {
   "cell_type": "markdown",
   "metadata": {},
   "source": [
    "Работает вполне неплохо, что и ожидалось "
   ]
  },
  {
   "cell_type": "markdown",
   "metadata": {
    "deletable": true,
    "editable": true
   },
   "source": [
    "### Mutag датасет\n",
    "\n",
    "Тут пробуем нашу модель на графовом датасете. Для каждого графа считаем его матрицу лапласа и кладем ее в выборку, потом на этом деле снова начинаем учить сетку. "
   ]
  },
  {
   "cell_type": "code",
   "execution_count": 193,
   "metadata": {
    "collapsed": false,
    "deletable": true,
    "editable": true,
    "scrolled": true
   },
   "outputs": [
    {
     "name": "stderr",
     "output_type": "stream",
     "text": [
      "  2%|▏         | 11/499 [00:02<01:28,  5.49it/s]"
     ]
    },
    {
     "name": "stdout",
     "output_type": "stream",
     "text": [
      "EPOCH: 10, TRAIN LOSS: 0.19712954759597778, TEST LOSS 0.14197520911693573\n"
     ]
    },
    {
     "name": "stderr",
     "output_type": "stream",
     "text": [
      "  4%|▍         | 21/499 [00:03<01:29,  5.32it/s]"
     ]
    },
    {
     "name": "stdout",
     "output_type": "stream",
     "text": [
      "EPOCH: 20, TRAIN LOSS: 0.14037972688674927, TEST LOSS 0.12351789325475693\n"
     ]
    },
    {
     "name": "stderr",
     "output_type": "stream",
     "text": [
      "  6%|▌         | 30/499 [00:05<01:27,  5.35it/s]"
     ]
    },
    {
     "name": "stdout",
     "output_type": "stream",
     "text": [
      "EPOCH: 30, TRAIN LOSS: 0.127322718501091, TEST LOSS 0.11167646944522858\n"
     ]
    },
    {
     "name": "stderr",
     "output_type": "stream",
     "text": [
      "  8%|▊         | 41/499 [00:07<01:27,  5.25it/s]"
     ]
    },
    {
     "name": "stdout",
     "output_type": "stream",
     "text": [
      "EPOCH: 40, TRAIN LOSS: 0.11849711835384369, TEST LOSS 0.1044565960764885\n"
     ]
    },
    {
     "name": "stderr",
     "output_type": "stream",
     "text": [
      " 10%|█         | 51/499 [00:09<01:24,  5.27it/s]"
     ]
    },
    {
     "name": "stdout",
     "output_type": "stream",
     "text": [
      "EPOCH: 50, TRAIN LOSS: 0.11534447222948074, TEST LOSS 0.10198447108268738\n"
     ]
    },
    {
     "name": "stderr",
     "output_type": "stream",
     "text": [
      " 12%|█▏        | 61/499 [00:11<01:23,  5.28it/s]"
     ]
    },
    {
     "name": "stdout",
     "output_type": "stream",
     "text": [
      "EPOCH: 60, TRAIN LOSS: 0.11363948881626129, TEST LOSS 0.10063354671001434\n"
     ]
    },
    {
     "name": "stderr",
     "output_type": "stream",
     "text": [
      " 14%|█▍        | 71/499 [00:13<01:20,  5.33it/s]"
     ]
    },
    {
     "name": "stdout",
     "output_type": "stream",
     "text": [
      "EPOCH: 70, TRAIN LOSS: 0.11213558167219162, TEST LOSS 0.09911224246025085\n"
     ]
    },
    {
     "name": "stderr",
     "output_type": "stream",
     "text": [
      " 16%|█▌        | 81/499 [00:15<01:18,  5.35it/s]"
     ]
    },
    {
     "name": "stdout",
     "output_type": "stream",
     "text": [
      "EPOCH: 80, TRAIN LOSS: 0.11067698895931244, TEST LOSS 0.09766237437725067\n"
     ]
    },
    {
     "name": "stderr",
     "output_type": "stream",
     "text": [
      " 18%|█▊        | 91/499 [00:17<01:16,  5.35it/s]"
     ]
    },
    {
     "name": "stdout",
     "output_type": "stream",
     "text": [
      "EPOCH: 90, TRAIN LOSS: 0.10889769345521927, TEST LOSS 0.0962556004524231\n"
     ]
    },
    {
     "name": "stderr",
     "output_type": "stream",
     "text": [
      " 20%|██        | 101/499 [00:18<01:14,  5.36it/s]"
     ]
    },
    {
     "name": "stdout",
     "output_type": "stream",
     "text": [
      "EPOCH: 100, TRAIN LOSS: 0.10659370571374893, TEST LOSS 0.09432914108037949\n"
     ]
    },
    {
     "name": "stderr",
     "output_type": "stream",
     "text": [
      " 22%|██▏       | 111/499 [00:20<01:12,  5.37it/s]"
     ]
    },
    {
     "name": "stdout",
     "output_type": "stream",
     "text": [
      "EPOCH: 110, TRAIN LOSS: 0.10393054038286209, TEST LOSS 0.0922497883439064\n"
     ]
    },
    {
     "name": "stderr",
     "output_type": "stream",
     "text": [
      " 24%|██▍       | 121/499 [00:22<01:10,  5.39it/s]"
     ]
    },
    {
     "name": "stdout",
     "output_type": "stream",
     "text": [
      "EPOCH: 120, TRAIN LOSS: 0.10133963823318481, TEST LOSS 0.08909841626882553\n"
     ]
    },
    {
     "name": "stderr",
     "output_type": "stream",
     "text": [
      " 26%|██▋       | 131/499 [00:24<01:07,  5.41it/s]"
     ]
    },
    {
     "name": "stdout",
     "output_type": "stream",
     "text": [
      "EPOCH: 130, TRAIN LOSS: 0.09909091144800186, TEST LOSS 0.08707249909639359\n"
     ]
    },
    {
     "name": "stderr",
     "output_type": "stream",
     "text": [
      " 28%|██▊       | 141/499 [00:26<01:06,  5.42it/s]"
     ]
    },
    {
     "name": "stdout",
     "output_type": "stream",
     "text": [
      "EPOCH: 140, TRAIN LOSS: 0.0968422219157219, TEST LOSS 0.0854298546910286\n"
     ]
    },
    {
     "name": "stderr",
     "output_type": "stream",
     "text": [
      " 30%|███       | 151/499 [00:27<01:04,  5.43it/s]"
     ]
    },
    {
     "name": "stdout",
     "output_type": "stream",
     "text": [
      "EPOCH: 150, TRAIN LOSS: 0.09379082173109055, TEST LOSS 0.0823960155248642\n"
     ]
    },
    {
     "name": "stderr",
     "output_type": "stream",
     "text": [
      " 32%|███▏      | 161/499 [00:29<01:02,  5.45it/s]"
     ]
    },
    {
     "name": "stdout",
     "output_type": "stream",
     "text": [
      "EPOCH: 160, TRAIN LOSS: 0.0889708399772644, TEST LOSS 0.07758042961359024\n"
     ]
    },
    {
     "name": "stderr",
     "output_type": "stream",
     "text": [
      " 34%|███▍      | 171/499 [00:31<01:00,  5.45it/s]"
     ]
    },
    {
     "name": "stdout",
     "output_type": "stream",
     "text": [
      "EPOCH: 170, TRAIN LOSS: 0.0828920304775238, TEST LOSS 0.07190632075071335\n"
     ]
    },
    {
     "name": "stderr",
     "output_type": "stream",
     "text": [
      " 36%|███▋      | 181/499 [00:33<00:58,  5.42it/s]"
     ]
    },
    {
     "name": "stdout",
     "output_type": "stream",
     "text": [
      "EPOCH: 180, TRAIN LOSS: 0.07788261026144028, TEST LOSS 0.06751977652311325\n"
     ]
    },
    {
     "name": "stderr",
     "output_type": "stream",
     "text": [
      " 38%|███▊      | 191/499 [00:35<00:56,  5.44it/s]"
     ]
    },
    {
     "name": "stdout",
     "output_type": "stream",
     "text": [
      "EPOCH: 190, TRAIN LOSS: 0.07396620512008667, TEST LOSS 0.06443893909454346\n"
     ]
    },
    {
     "name": "stderr",
     "output_type": "stream",
     "text": [
      " 40%|████      | 201/499 [00:36<00:54,  5.44it/s]"
     ]
    },
    {
     "name": "stdout",
     "output_type": "stream",
     "text": [
      "EPOCH: 200, TRAIN LOSS: 0.0702691301703453, TEST LOSS 0.06176358088850975\n"
     ]
    },
    {
     "name": "stderr",
     "output_type": "stream",
     "text": [
      " 42%|████▏     | 211/499 [00:38<00:53,  5.43it/s]"
     ]
    },
    {
     "name": "stdout",
     "output_type": "stream",
     "text": [
      "EPOCH: 210, TRAIN LOSS: 0.06590130925178528, TEST LOSS 0.05924762412905693\n"
     ]
    },
    {
     "name": "stderr",
     "output_type": "stream",
     "text": [
      " 44%|████▍     | 220/499 [00:41<00:52,  5.29it/s]"
     ]
    },
    {
     "name": "stdout",
     "output_type": "stream",
     "text": [
      "EPOCH: 220, TRAIN LOSS: 0.0626073107123375, TEST LOSS 0.05728299170732498\n"
     ]
    },
    {
     "name": "stderr",
     "output_type": "stream",
     "text": [
      " 46%|████▋     | 231/499 [00:43<00:50,  5.27it/s]"
     ]
    },
    {
     "name": "stdout",
     "output_type": "stream",
     "text": [
      "EPOCH: 230, TRAIN LOSS: 0.06048348546028137, TEST LOSS 0.055967047810554504\n"
     ]
    },
    {
     "name": "stderr",
     "output_type": "stream",
     "text": [
      " 48%|████▊     | 240/499 [00:45<00:49,  5.25it/s]"
     ]
    },
    {
     "name": "stdout",
     "output_type": "stream",
     "text": [
      "EPOCH: 240, TRAIN LOSS: 0.0583941787481308, TEST LOSS 0.05473392456769943\n"
     ]
    },
    {
     "name": "stderr",
     "output_type": "stream",
     "text": [
      " 50%|█████     | 250/499 [00:47<00:47,  5.24it/s]"
     ]
    },
    {
     "name": "stdout",
     "output_type": "stream",
     "text": [
      "EPOCH: 250, TRAIN LOSS: 0.05624337121844292, TEST LOSS 0.05337804555892944\n"
     ]
    },
    {
     "name": "stderr",
     "output_type": "stream",
     "text": [
      " 52%|█████▏    | 261/499 [00:50<00:45,  5.22it/s]"
     ]
    },
    {
     "name": "stdout",
     "output_type": "stream",
     "text": [
      "EPOCH: 260, TRAIN LOSS: 0.053436532616615295, TEST LOSS 0.051445819437503815\n"
     ]
    },
    {
     "name": "stderr",
     "output_type": "stream",
     "text": [
      " 54%|█████▍    | 270/499 [00:52<00:44,  5.19it/s]"
     ]
    },
    {
     "name": "stdout",
     "output_type": "stream",
     "text": [
      "EPOCH: 270, TRAIN LOSS: 0.051017891615629196, TEST LOSS 0.04970152676105499\n"
     ]
    },
    {
     "name": "stderr",
     "output_type": "stream",
     "text": [
      " 56%|█████▌    | 280/499 [00:54<00:42,  5.16it/s]"
     ]
    },
    {
     "name": "stdout",
     "output_type": "stream",
     "text": [
      "EPOCH: 280, TRAIN LOSS: 0.04926129803061485, TEST LOSS 0.048522159457206726\n"
     ]
    },
    {
     "name": "stderr",
     "output_type": "stream",
     "text": [
      " 58%|█████▊    | 291/499 [00:56<00:40,  5.16it/s]"
     ]
    },
    {
     "name": "stdout",
     "output_type": "stream",
     "text": [
      "EPOCH: 290, TRAIN LOSS: 0.04794570803642273, TEST LOSS 0.047715023159980774\n"
     ]
    },
    {
     "name": "stderr",
     "output_type": "stream",
     "text": [
      " 60%|██████    | 301/499 [00:58<00:38,  5.16it/s]"
     ]
    },
    {
     "name": "stdout",
     "output_type": "stream",
     "text": [
      "EPOCH: 300, TRAIN LOSS: 0.046789806336164474, TEST LOSS 0.04697312042117119\n"
     ]
    },
    {
     "name": "stderr",
     "output_type": "stream",
     "text": [
      " 62%|██████▏   | 311/499 [01:00<00:36,  5.11it/s]"
     ]
    },
    {
     "name": "stdout",
     "output_type": "stream",
     "text": [
      "EPOCH: 310, TRAIN LOSS: 0.04569118842482567, TEST LOSS 0.046245116740465164\n"
     ]
    },
    {
     "name": "stderr",
     "output_type": "stream",
     "text": [
      " 64%|██████▍   | 321/499 [01:02<00:34,  5.12it/s]"
     ]
    },
    {
     "name": "stdout",
     "output_type": "stream",
     "text": [
      "EPOCH: 320, TRAIN LOSS: 0.04464269056916237, TEST LOSS 0.045528557151556015\n"
     ]
    },
    {
     "name": "stderr",
     "output_type": "stream",
     "text": [
      " 66%|██████▋   | 331/499 [01:04<00:32,  5.14it/s]"
     ]
    },
    {
     "name": "stdout",
     "output_type": "stream",
     "text": [
      "EPOCH: 330, TRAIN LOSS: 0.043658193200826645, TEST LOSS 0.0448172353208065\n"
     ]
    },
    {
     "name": "stderr",
     "output_type": "stream",
     "text": [
      " 68%|██████▊   | 341/499 [01:06<00:30,  5.15it/s]"
     ]
    },
    {
     "name": "stdout",
     "output_type": "stream",
     "text": [
      "EPOCH: 340, TRAIN LOSS: 0.04271497204899788, TEST LOSS 0.04410538449883461\n"
     ]
    },
    {
     "name": "stderr",
     "output_type": "stream",
     "text": [
      " 70%|███████   | 351/499 [01:07<00:28,  5.16it/s]"
     ]
    },
    {
     "name": "stdout",
     "output_type": "stream",
     "text": [
      "EPOCH: 350, TRAIN LOSS: 0.04161064699292183, TEST LOSS 0.04310958832502365\n"
     ]
    },
    {
     "name": "stderr",
     "output_type": "stream",
     "text": [
      " 72%|███████▏  | 361/499 [01:09<00:26,  5.17it/s]"
     ]
    },
    {
     "name": "stdout",
     "output_type": "stream",
     "text": [
      "EPOCH: 360, TRAIN LOSS: 0.04047416150569916, TEST LOSS 0.04213237389922142\n"
     ]
    },
    {
     "name": "stderr",
     "output_type": "stream",
     "text": [
      " 74%|███████▍  | 371/499 [01:11<00:24,  5.18it/s]"
     ]
    },
    {
     "name": "stdout",
     "output_type": "stream",
     "text": [
      "EPOCH: 370, TRAIN LOSS: 0.03930344432592392, TEST LOSS 0.04111156240105629\n"
     ]
    },
    {
     "name": "stderr",
     "output_type": "stream",
     "text": [
      " 76%|███████▋  | 381/499 [01:13<00:22,  5.20it/s]"
     ]
    },
    {
     "name": "stdout",
     "output_type": "stream",
     "text": [
      "EPOCH: 380, TRAIN LOSS: 0.0379781648516655, TEST LOSS 0.039856504648923874\n"
     ]
    },
    {
     "name": "stderr",
     "output_type": "stream",
     "text": [
      " 78%|███████▊  | 391/499 [01:15<00:20,  5.21it/s]"
     ]
    },
    {
     "name": "stdout",
     "output_type": "stream",
     "text": [
      "EPOCH: 390, TRAIN LOSS: 0.03662174195051193, TEST LOSS 0.03844829648733139\n"
     ]
    },
    {
     "name": "stderr",
     "output_type": "stream",
     "text": [
      " 80%|████████  | 400/499 [01:16<00:19,  5.20it/s]"
     ]
    },
    {
     "name": "stdout",
     "output_type": "stream",
     "text": [
      "EPOCH: 400, TRAIN LOSS: 0.034548625349998474, TEST LOSS 0.03631008788943291\n"
     ]
    },
    {
     "name": "stderr",
     "output_type": "stream",
     "text": [
      " 82%|████████▏ | 411/499 [01:19<00:16,  5.20it/s]"
     ]
    },
    {
     "name": "stdout",
     "output_type": "stream",
     "text": [
      "EPOCH: 410, TRAIN LOSS: 0.032528914511203766, TEST LOSS 0.034469470381736755\n"
     ]
    },
    {
     "name": "stderr",
     "output_type": "stream",
     "text": [
      " 84%|████████▍ | 421/499 [01:20<00:14,  5.21it/s]"
     ]
    },
    {
     "name": "stdout",
     "output_type": "stream",
     "text": [
      "EPOCH: 420, TRAIN LOSS: 0.030917072668671608, TEST LOSS 0.03305266797542572\n"
     ]
    },
    {
     "name": "stderr",
     "output_type": "stream",
     "text": [
      " 86%|████████▋ | 431/499 [01:22<00:13,  5.21it/s]"
     ]
    },
    {
     "name": "stdout",
     "output_type": "stream",
     "text": [
      "EPOCH: 430, TRAIN LOSS: 0.02959536574780941, TEST LOSS 0.03154238313436508\n"
     ]
    },
    {
     "name": "stderr",
     "output_type": "stream",
     "text": [
      " 88%|████████▊ | 441/499 [01:24<00:11,  5.22it/s]"
     ]
    },
    {
     "name": "stdout",
     "output_type": "stream",
     "text": [
      "EPOCH: 440, TRAIN LOSS: 0.028693348169326782, TEST LOSS 0.03057944029569626\n"
     ]
    },
    {
     "name": "stderr",
     "output_type": "stream",
     "text": [
      " 90%|█████████ | 451/499 [01:26<00:09,  5.23it/s]"
     ]
    },
    {
     "name": "stdout",
     "output_type": "stream",
     "text": [
      "EPOCH: 450, TRAIN LOSS: 0.028074275702238083, TEST LOSS 0.029863033443689346\n"
     ]
    },
    {
     "name": "stderr",
     "output_type": "stream",
     "text": [
      " 92%|█████████▏| 461/499 [01:28<00:07,  5.24it/s]"
     ]
    },
    {
     "name": "stdout",
     "output_type": "stream",
     "text": [
      "EPOCH: 460, TRAIN LOSS: 0.027620680630207062, TEST LOSS 0.02927342988550663\n"
     ]
    },
    {
     "name": "stderr",
     "output_type": "stream",
     "text": [
      " 94%|█████████▍| 470/499 [01:29<00:05,  5.25it/s]"
     ]
    },
    {
     "name": "stdout",
     "output_type": "stream",
     "text": [
      "EPOCH: 470, TRAIN LOSS: 0.027228673920035362, TEST LOSS 0.02875402756035328\n"
     ]
    },
    {
     "name": "stderr",
     "output_type": "stream",
     "text": [
      " 96%|█████████▋| 481/499 [01:31<00:03,  5.26it/s]"
     ]
    },
    {
     "name": "stdout",
     "output_type": "stream",
     "text": [
      "EPOCH: 480, TRAIN LOSS: 0.026817919686436653, TEST LOSS 0.02820870466530323\n"
     ]
    },
    {
     "name": "stderr",
     "output_type": "stream",
     "text": [
      " 98%|█████████▊| 491/499 [01:33<00:01,  5.27it/s]"
     ]
    },
    {
     "name": "stdout",
     "output_type": "stream",
     "text": [
      "EPOCH: 490, TRAIN LOSS: 0.026432575657963753, TEST LOSS 0.027644818648695946\n"
     ]
    },
    {
     "name": "stderr",
     "output_type": "stream",
     "text": [
      "100%|██████████| 499/499 [01:34<00:00,  5.28it/s]\n"
     ]
    }
   ],
   "source": [
    "coder, dataset = SPD.run_test_mutag(n_iterations=500)"
   ]
  },
  {
   "cell_type": "code",
   "execution_count": 197,
   "metadata": {
    "collapsed": false,
    "deletable": true,
    "editable": true
   },
   "outputs": [
    {
     "name": "stdout",
     "output_type": "stream",
     "text": [
      "Результат применения нашей модели к матрице построенной по графу\n",
      " Variable containing:\n",
      " 0  1 -0  0 -0  0\n",
      " 1 -0  1  0  0 -0\n",
      "-0  1 -0  0  0  1\n",
      " 0  0  0 -0 -0  0\n",
      "-0  0  0 -0 -0  1\n",
      " 0 -0  1  0  1  0\n",
      "[torch.FloatTensor of size 6x6]\n",
      "\n",
      "Сама матрица\n",
      " Variable containing:\n",
      " 0  1  0  0  0  0\n",
      " 1  0  1  0  0  0\n",
      " 0  1  0  0  0  1\n",
      " 0  0  0  0  0  0\n",
      " 0  0  0  0  0  1\n",
      " 0  0  1  0  1  0\n",
      "[torch.FloatTensor of size 6x6]\n",
      "\n"
     ]
    }
   ],
   "source": [
    "print(\"Результат применения нашей модели к матрице построенной по графу\\n\", coder(dataset)[9].round())\n",
    "print(\"Сама матрица\\n\", dataset[9])"
   ]
  },
  {
   "cell_type": "markdown",
   "metadata": {},
   "source": [
    "Отрабатывает тоже вполне неплохо. Пробовал изначально сворачивать матрицу лапласа, которую считали для графа, но качество получилось плохим. Поэтому сейчас сетка работает сразу на матрицах смежностей, не особо задумываясь о том, что она может быть не положительно определенной. "
   ]
  },
  {
   "cell_type": "markdown",
   "metadata": {},
   "source": [
    "Отрисуем пару получившихся графов. "
   ]
  },
  {
   "cell_type": "code",
   "execution_count": 241,
   "metadata": {
    "collapsed": false
   },
   "outputs": [
    {
     "data": {
      "image/png": "[encoded data removed]",
      "text/plain": [
       "<matplotlib.figure.Figure at 0x117e47978>"
      ]
     },
     "metadata": {},
     "output_type": "display_data"
    }
   ],
   "source": [
    "dt.draw_graphs(10, dataset, coder)"
   ]
  },
  {
   "cell_type": "code",
   "execution_count": 246,
   "metadata": {
    "collapsed": false,
    "deletable": true,
    "editable": true
   },
   "outputs": [
    {
     "data": {
      "image/png": "[encoded data removed]",
      "text/plain": [
       "<matplotlib.figure.Figure at 0x11832c390>"
      ]
     },
     "metadata": {},
     "output_type": "display_data"
    }
   ],
   "source": [
    "dt.draw_graphs(15, dataset, coder)"
   ]
  },
  {
   "cell_type": "code",
   "execution_count": 245,
   "metadata": {
    "collapsed": false
   },
   "outputs": [
    {
     "data": {
      "image/png": "[encoded data removed]",
      "text/plain": [
       "<matplotlib.figure.Figure at 0x11811f400>"
      ]
     },
     "metadata": {},
     "output_type": "display_data"
    }
   ],
   "source": [
    "dt.draw_graphs(100, dataset, coder)"
   ]
  },
  {
   "cell_type": "code",
   "execution_count": 318,
   "metadata": {
    "collapsed": false
   },
   "outputs": [],
   "source": [
    "# свернем пару графов и посмотрим на их эмбеддинги \n",
    "A = coder.encoder(dataset[100].unsqueeze(0))\n",
    "B = coder.encoder(dataset[4].unsqueeze(0))"
   ]
  },
  {
   "cell_type": "code",
   "execution_count": 343,
   "metadata": {
    "collapsed": false
   },
   "outputs": [
    {
     "data": {
      "image/png": "[encoded data removed]",
      "text/plain": [
       "<matplotlib.figure.Figure at 0x1192e8d68>"
      ]
     },
     "metadata": {},
     "output_type": "display_data"
    }
   ],
   "source": [
    "fig, ax = plt.subplots(ncols=2, nrows=1)\n",
    "dt.draw_graph(coder.decoder(A).round(), ax=ax[0])\n",
    "ax[0].set_title(\"First Graph\")\n",
    "dt.draw_graph(coder.decoder(B).round(), ax=ax[1])\n",
    "ax[1].set_title(\"Second Graph\")\n",
    "plt.legend()"
   ]
  },
  {
   "cell_type": "code",
   "execution_count": 375,
   "metadata": {
    "collapsed": false,
    "scrolled": false
   },
   "outputs": [
    {
     "data": {
      "image/png": "[encoded data removed]",
      "text/plain": [
       "<matplotlib.figure.Figure at 0x119db27b8>"
      ]
     },
     "metadata": {},
     "output_type": "display_data"
    }
   ],
   "source": [
    "n_points = 5\n",
    "fig = plt.figure(figsize=(16, 4))\n",
    "for i, t in enumerate(np.linspace(0, 1, n_points)):\n",
    "    C_t = A - (A-B)*t\n",
    "    GC_t = coder.decoder(C_t).round()\n",
    "    ax = fig.add_subplot(1,n_points,i+1)\n",
    "    dt.draw_graph(GC_t, ax)\n",
    "    ax.set_title(round(t, 2))\n",
    "    ax.plot()"
   ]
  },
  {
   "cell_type": "code",
   "execution_count": 379,
   "metadata": {
    "collapsed": false
   },
   "outputs": [
    {
     "data": {
      "text/plain": [
       "Variable containing:\n",
       "\n",
       "Columns 0 to 9 \n",
       " 0.0000  0.0691  0.1161  0.0658  0.0131  0.0691  0.2820  0.7631  1.5039  0.1514\n",
       "\n",
       "Columns 10 to 19 \n",
       " 0.1161  0.7631  1.2566  0.9736  0.2323  0.0658  1.5039  0.9736  0.1617  0.3421\n",
       "\n",
       "Columns 20 to 24 \n",
       " 0.0131  0.1514  0.2323  0.3421  0.0497\n",
       "[torch.FloatTensor of size 1x25]"
      ]
     },
     "execution_count": 379,
     "metadata": {},
     "output_type": "execute_result"
    }
   ],
   "source": [
    "A.view(-1, 25)"
   ]
  },
  {
   "cell_type": "code",
   "execution_count": null,
   "metadata": {
    "collapsed": true
   },
   "outputs": [],
   "source": []
  }
 ],
 "metadata": {
  "kernelspec": {
   "display_name": "kernel35",
   "language": "python",
   "name": "kernel35"
  },
  "language_info": {
   "codemirror_mode": {
    "name": "ipython",
    "version": 3
   },
   "file_extension": ".py",
   "mimetype": "text/x-python",
   "name": "python",
   "nbconvert_exporter": "python",
   "pygments_lexer": "ipython3",
   "version": "3.5.4"
  },
  "toc": {
   "nav_menu": {},
   "number_sections": true,
   "sideBar": true,
   "skip_h1_title": false,
   "title_cell": "Table of Contents",
   "title_sidebar": "Contents",
   "toc_cell": false,
   "toc_position": {},
   "toc_section_display": true,
   "toc_window_display": false
  },
  "varInspector": {
   "cols": {
    "lenName": 16,
    "lenType": 16,
    "lenVar": 40
   },
   "kernels_config": {
    "python": {
     "delete_cmd_postfix": "",
     "delete_cmd_prefix": "del ",
     "library": "var_list.py",
     "varRefreshCmd": "print(var_dic_list())"
    },
    "r": {
     "delete_cmd_postfix": ") ",
     "delete_cmd_prefix": "rm(",
     "library": "var_list.r",
     "varRefreshCmd": "cat(var_dic_list()) "
    }
   },
   "types_to_exclude": [
    "module",
    "function",
    "builtin_function_or_method",
    "instance",
    "_Feature"
   ],
   "window_display": false
  }
 },
 "nbformat": 4,
 "nbformat_minor": 2
}
