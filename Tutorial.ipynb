{
 "cells": [
  {
   "cell_type": "code",
   "execution_count": 375,
   "metadata": {
    "collapsed": true,
    "deletable": true,
    "editable": true
   },
   "outputs": [],
   "source": [
    "import torch \n",
    "from torch import nn\n",
    "from torch import FloatTensor\n",
    "from torch.autograd import Variable\n",
    "from torch import optim\n",
    "\n",
    "from numpy.linalg import matrix_rank\n",
    "from sklearn.datasets import make_spd_matrix\n",
    "import os\n",
    "from networkx import nx\n",
    "import matplotlib.pyplot as plt\n",
    "import numpy as np\n",
    "\n",
    "%matplotlib inline\n",
    "%load_ext autoreload\n",
    "%autoreload 2"
   ]
  },
  {
   "cell_type": "code",
   "execution_count": 47,
   "metadata": {
    "collapsed": false,
    "deletable": true,
    "editable": true
   },
   "outputs": [],
   "source": [
    "temp = torch.nn.Linear(5, 3)\n",
    "b = Variable(torch.rand((5, 5)))\n",
    "a = Variable(torch.rand((2, 5, 5)))"
   ]
  },
  {
   "cell_type": "code",
   "execution_count": 50,
   "metadata": {
    "collapsed": false,
    "deletable": true,
    "editable": true
   },
   "outputs": [
    {
     "data": {
      "text/plain": [
       "Variable containing:\n",
       " 0.5040  0.6785  0.2569  0.6513  0.8617\n",
       " 0.4109  0.0840  0.2289  0.8198  0.9596\n",
       " 0.9519  0.0509  0.2460  0.5015  0.9868\n",
       " 0.0956  0.9169  0.4598  0.3063  0.6225\n",
       " 0.6994  0.1210  0.9268  0.7742  0.5865\n",
       "[torch.FloatTensor of size 5x5]"
      ]
     },
     "execution_count": 50,
     "metadata": {},
     "output_type": "execute_result"
    }
   ],
   "source": [
    "b"
   ]
  },
  {
   "cell_type": "code",
   "execution_count": 39,
   "metadata": {
    "collapsed": false,
    "deletable": true,
    "editable": true
   },
   "outputs": [
    {
     "data": {
      "text/plain": [
       "Variable containing:\n",
       " 0.3181  0.3285  0.7137  0.8696  0.6389\n",
       " 0.2745  0.7231  0.4505  0.7706  0.4151\n",
       " 0.1746  0.9885  0.1559  0.9463  0.3336\n",
       " 0.2589  0.9943  0.8707  0.6326  0.0786\n",
       " 0.3552  0.6404  0.1191  0.3398  0.8872\n",
       "[torch.FloatTensor of size 5x5]"
      ]
     },
     "execution_count": 39,
     "metadata": {},
     "output_type": "execute_result"
    }
   ],
   "source": [
    "a[0]"
   ]
  },
  {
   "cell_type": "code",
   "execution_count": 209,
   "metadata": {
    "collapsed": false,
    "deletable": true,
    "editable": true
   },
   "outputs": [],
   "source": [
    "class Linear2D(nn.Module):\n",
    "    \n",
    "    def __init__(self, in_features, out_features):\n",
    "        super(Linear2D, self).__init__()\n",
    "        self.W = nn.Parameter(torch.rand((out_features, in_features)))\n",
    "        \n",
    "    def forward(self, X):\n",
    "        XW = self._matmul(X, self.W.transpose(0 ,1))\n",
    "        WXW = self._matmul(XW, self.W, kind='left')\n",
    "        return WXW\n",
    "        \n",
    "    def _matmul(self, X, Y, kind='right'):\n",
    "        results = [] \n",
    "        for i in range(X.size(0)):\n",
    "            if kind == 'right':\n",
    "                result = torch.mm(X[i], Y)\n",
    "            elif kind == 'left':\n",
    "                result = torch.mm(Y, X[i])\n",
    "            results.append(result.unsqueeze(0))\n",
    "        return torch.cat(results, 0)\n",
    "    \n",
    "    def check_rank(self):\n",
    "        return min(self.W.data.size()) == matrix_rank(self.W.data.numpy())"
   ]
  },
  {
   "cell_type": "code",
   "execution_count": 210,
   "metadata": {
    "collapsed": true,
    "deletable": true,
    "editable": true
   },
   "outputs": [],
   "source": [
    "class SymmetricallyCleanLayer(nn.Module):\n",
    "    def __init__(self):\n",
    "        super(SymmetricallyCleanLayer, self).__init__()\n",
    "        self.relu = nn.ReLU()\n",
    "        \n",
    "    def forward(self, X):\n",
    "        return self.relu(X) "
   ]
  },
  {
   "cell_type": "code",
   "execution_count": 211,
   "metadata": {
    "collapsed": true,
    "deletable": true,
    "editable": true
   },
   "outputs": [],
   "source": [
    "class NonLinearityBlock(nn.Module):\n",
    "    def __init__(self, activation):\n",
    "        super(NonLinearityBlock, self).__init__()\n",
    "        self.activation = activation\n",
    "        \n",
    "    def forward(self, X):\n",
    "        return self.activation(X)"
   ]
  },
  {
   "cell_type": "code",
   "execution_count": 218,
   "metadata": {
    "collapsed": true,
    "deletable": true,
    "editable": true
   },
   "outputs": [],
   "source": [
    "class ShrinkBlock(nn.Module):\n",
    "    def __init__(self, features):\n",
    "        super(ShrinkBlock, self).__init__()\n",
    "        self.weights_matrix = nn.Parameter(torch.zeros((features, features)).normal_())\n",
    "        self.weights_matrix_square = torch.mm(self.weights_matrix.transpose(0, 1), self.weights_matrix)\n",
    "        self.inverse_eye = Variable(torch.ones((features, features)) - torch.eye(features))\n",
    "    \n",
    "    def forward(self, X):\n",
    "        return X - self.weights_matrix_square * self.inverse_eye"
   ]
  },
  {
   "cell_type": "code",
   "execution_count": 231,
   "metadata": {
    "collapsed": true,
    "deletable": true,
    "editable": true
   },
   "outputs": [],
   "source": [
    "class MatrixEncoder(nn.Module):\n",
    "    def __init__(self, n_features):\n",
    "        super(MatrixEncoder, self).__init__()\n",
    "        self.n_features = n_features\n",
    "        \n",
    "        self.encoder = nn.Sequential(\n",
    "            Linear2D(n_features, 5),\n",
    "            ShrinkBlock(5),\n",
    "            SymmetricallyCleanLayer(),\n",
    "            Linear2D(5, 3),\n",
    "            ShrinkBlock(3)\n",
    "        )\n",
    "        \n",
    "        self.decoder = nn.Sequential(\n",
    "            Linear2D(3, 5),\n",
    "            ShrinkBlock(5),\n",
    "            SymmetricallyCleanLayer(),\n",
    "            Linear2D(5, n_features),\n",
    "            ShrinkBlock(n_features)\n",
    "        )\n",
    "        \n",
    "    def forward(self, X):\n",
    "        return self.decoder(self.encoder(X))"
   ]
  },
  {
   "cell_type": "code",
   "execution_count": 359,
   "metadata": {
    "collapsed": false
   },
   "outputs": [],
   "source": [
    "def laplacian_tensor(x):\n",
    "    int_array = np.squeeze(np.asarray(nx.laplacian_matrix(x).todense()))\n",
    "    return int_array.astype('float64')"
   ]
  },
  {
   "cell_type": "code",
   "execution_count": 245,
   "metadata": {
    "collapsed": true,
    "deletable": true,
    "editable": true
   },
   "outputs": [],
   "source": [
    "from torch.nn.modules.loss import MSELoss"
   ]
  },
  {
   "cell_type": "code",
   "execution_count": 279,
   "metadata": {
    "collapsed": false,
    "deletable": true,
    "editable": true
   },
   "outputs": [
    {
     "name": "stdout",
     "output_type": "stream",
     "text": [
      "85001.234375\n",
      "164.30828857421875\n",
      "85.11470031738281\n",
      "52.89616012573242\n",
      "36.56184387207031\n",
      "27.230751037597656\n",
      "21.408578872680664\n",
      "17.52837562561035\n",
      "14.807859420776367\n",
      "12.82198715209961\n",
      "11.323862075805664\n",
      "10.197795867919922\n",
      "9.350672721862793\n",
      "8.643263816833496\n",
      "8.04478931427002\n",
      "7.532347679138184\n",
      "7.088569164276123\n",
      "6.700085639953613\n",
      "6.356471538543701\n",
      "6.04948616027832\n",
      "5.772524356842041\n",
      "5.520229816436768\n",
      "5.28825044631958\n",
      "5.075875759124756\n",
      "4.876154899597168\n",
      "4.686581611633301\n",
      "4.505087375640869\n",
      "4.329866409301758\n",
      "4.159339427947998\n",
      "3.992133140563965\n",
      "3.8274006843566895\n",
      "3.6646995544433594\n",
      "3.50199556350708\n",
      "3.338881254196167\n",
      "3.1752147674560547\n",
      "3.01114559173584\n",
      "2.8471343517303467\n",
      "2.6839442253112793\n",
      "2.5226051807403564\n",
      "2.3643441200256348\n"
     ]
    }
   ],
   "source": [
    "coder = MatrixEncoder(6)\n",
    "matrix = Variable(FloatTensor(make_spd_matrix(6))).unsqueeze(0)\n",
    "optimizer = optim.Adam(coder.parameters(), lr=0.01)\n",
    "criterion = MSELoss()\n",
    "\n",
    "for epoch in range(4000):\n",
    "    optimizer.zero_grad()\n",
    "    outputs = coder(matrix)\n",
    "    loss = criterion(outputs, matrix)\n",
    "    loss.backward(retain_graph=True)\n",
    "    if epoch % 100 == 0:\n",
    "        print(loss.data[0])\n",
    "    optimizer.step()"
   ]
  },
  {
   "cell_type": "code",
   "execution_count": 362,
   "metadata": {
    "collapsed": false
   },
   "outputs": [],
   "source": [
    "graphs = []\n",
    "for graph in os.listdir('./test_graphs/')[1:]:\n",
    "    graphs.append(nx.read_graphml('./test_graphs/' + graph))"
   ]
  },
  {
   "cell_type": "code",
   "execution_count": 369,
   "metadata": {
    "collapsed": false
   },
   "outputs": [],
   "source": [
    "graphs[0].remove_nodes_from(list(graphs[0].nodes)[10:])"
   ]
  },
  {
   "cell_type": "code",
   "execution_count": 373,
   "metadata": {
    "collapsed": true
   },
   "outputs": [],
   "source": [
    "graphs = []\n",
    "for graph in os.listdir('./test_graphs/')[1:]:\n",
    "    graphs.append(nx.read_graphml('./test_graphs/' + graph))"
   ]
  },
  {
   "cell_type": "code",
   "execution_count": 381,
   "metadata": {
    "collapsed": false
   },
   "outputs": [],
   "source": [
    "def read_test_graphs():\n",
    "    graphs = []\n",
    "    for graph in os.listdir('./test_graphs/')[1:]:\n",
    "        graphs.append(nx.read_graphml('./test_graphs/' + graph))\n",
    "    return graphs\n",
    "\n",
    "def build_dataset(graphs, nodes_number=6):\n",
    "    laplacian_matrixes\n",
    "    for graph in graphs:\n",
    "        graph.remove_nodes_from(list(graph.nodes)[nodes_number:])\n",
    "    \n",
    "    return graphs"
   ]
  },
  {
   "cell_type": "code",
   "execution_count": 383,
   "metadata": {
    "collapsed": false
   },
   "outputs": [],
   "source": [
    "t = build_dataset(read_test_graphs())"
   ]
  },
  {
   "cell_type": "code",
   "execution_count": 401,
   "metadata": {
    "collapsed": false
   },
   "outputs": [],
   "source": [
    "def laplacian_tensor(x):\n",
    "    return FloatTensor(np.squeeze(np.asarray(nx.laplacian_matrix(x).todense().astype('float64'))))"
   ]
  },
  {
   "cell_type": "code",
   "execution_count": 402,
   "metadata": {
    "collapsed": false
   },
   "outputs": [
    {
     "data": {
      "text/plain": [
       "\n",
       " 0  0  0  0  0  0\n",
       " 0  2 -1  0  0 -1\n",
       " 0 -1  1  0  0  0\n",
       " 0  0  0  0  0  0\n",
       " 0  0  0  0  0  0\n",
       " 0 -1  0  0  0  1\n",
       "[torch.FloatTensor of size 6x6]"
      ]
     },
     "execution_count": 402,
     "metadata": {},
     "output_type": "execute_result"
    }
   ],
   "source": [
    "laplacian_tensor(t[0])"
   ]
  },
  {
   "cell_type": "code",
   "execution_count": null,
   "metadata": {
    "collapsed": true
   },
   "outputs": [],
   "source": []
  }
 ],
 "metadata": {
  "kernelspec": {
   "display_name": "kernel35",
   "language": "python",
   "name": "kernel35"
  },
  "language_info": {
   "codemirror_mode": {
    "name": "ipython",
    "version": 3
   },
   "file_extension": ".py",
   "mimetype": "text/x-python",
   "name": "python",
   "nbconvert_exporter": "python",
   "pygments_lexer": "ipython3",
   "version": "3.5.4"
  },
  "toc": {
   "nav_menu": {},
   "number_sections": true,
   "sideBar": true,
   "skip_h1_title": false,
   "title_cell": "Table of Contents",
   "title_sidebar": "Contents",
   "toc_cell": false,
   "toc_position": {},
   "toc_section_display": true,
   "toc_window_display": false
  },
  "varInspector": {
   "cols": {
    "lenName": 16,
    "lenType": 16,
    "lenVar": 40
   },
   "kernels_config": {
    "python": {
     "delete_cmd_postfix": "",
     "delete_cmd_prefix": "del ",
     "library": "var_list.py",
     "varRefreshCmd": "print(var_dic_list())"
    },
    "r": {
     "delete_cmd_postfix": ") ",
     "delete_cmd_prefix": "rm(",
     "library": "var_list.r",
     "varRefreshCmd": "cat(var_dic_list()) "
    }
   },
   "types_to_exclude": [
    "module",
    "function",
    "builtin_function_or_method",
    "instance",
    "_Feature"
   ],
   "window_display": false
  }
 },
 "nbformat": 4,
 "nbformat_minor": 2
}
